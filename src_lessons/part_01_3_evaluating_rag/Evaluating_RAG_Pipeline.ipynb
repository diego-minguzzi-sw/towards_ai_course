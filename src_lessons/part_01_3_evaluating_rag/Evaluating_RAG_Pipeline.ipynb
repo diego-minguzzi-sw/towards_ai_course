{
 "cells": [
  {
   "cell_type": "markdown",
   "id": "82d40774-69e9-4f6b-b5aa-eef59ed9d13d",
   "metadata": {},
   "source": [
    "# Evaluating Your RAG pipeline"
   ]
  },
  {
   "cell_type": "code",
   "execution_count": 46,
   "id": "356d7207-5fc1-45e1-8467-d843d579c01e",
   "metadata": {},
   "outputs": [],
   "source": [
    "from llama_index.core import Document, VectorStoreIndex\n",
    "from llama_index.core.evaluation import generate_question_context_pairs, RetrieverEvaluator\n",
    "from llama_index.core.ingestion import IngestionPipeline\n",
    "from llama_index.core.node_parser import TokenTextSplitter\n",
    "from llama_index.core.schema import BaseNode, TextNode\n",
    "from llama_index.embeddings.openai import OpenAIEmbedding\n",
    "from llama_index.llms.gemini import Gemini\n",
    "from llama_index.llms.openai import OpenAI\n",
    "from llama_index.vector_stores.chroma import ChromaVectorStore\n",
    "\n",
    "import chromadb\n",
    "import csv\n",
    "import hashlib\n",
    "import nest_asyncio\n",
    "import os\n",
    "import pandas as pd\n",
    "\n",
    "nest_asyncio.apply()"
   ]
  },
  {
   "cell_type": "markdown",
   "id": "e3c26cce-7270-4bb6-98e9-00e7677e0106",
   "metadata": {},
   "source": [
    "## Download and prepare the data"
   ]
  },
  {
   "cell_type": "code",
   "execution_count": 2,
   "id": "d0b0096d-2a6f-4854-bef9-8b6b487cef22",
   "metadata": {},
   "outputs": [
    {
     "name": "stdout",
     "output_type": "stream",
     "text": [
      "--2025-03-01 18:32:23--  https://raw.githubusercontent.com/AlaFalaki/tutorial_notebooks/main/data/mini-llama-articles.csv\n",
      "Resolving raw.githubusercontent.com (raw.githubusercontent.com)... 185.199.110.133, 185.199.111.133, 185.199.108.133, ...\n",
      "connected. to raw.githubusercontent.com (raw.githubusercontent.com)|185.199.110.133|:443... \n",
      "HTTP request sent, awaiting response... 200 OK\n",
      "Length: 173646 (170K) [text/plain]\n",
      "Saving to: ‘mini-llama-articles.csv’\n",
      "\n",
      "mini-llama-articles 100%[===================>] 169.58K   116KB/s    in 1.5s    \n",
      "\n",
      "2025-03-01 18:32:27 (116 KB/s) - ‘mini-llama-articles.csv’ saved [173646/173646]\n",
      "\n"
     ]
    }
   ],
   "source": [
    "!wget https://raw.githubusercontent.com/AlaFalaki/tutorial_notebooks/main/data/mini-llama-articles.csv"
   ]
  },
  {
   "cell_type": "code",
   "execution_count": 5,
   "id": "fccf3984-9598-4d32-ab00-1d532d0b939c",
   "metadata": {},
   "outputs": [],
   "source": [
    "chromaClient= chromadb.PersistentClient(path=\"./mini-llama-articles\")\n",
    "chromaCollection= chromaClient.get_or_create_collection(\"mini-llama-articles\")"
   ]
  },
  {
   "cell_type": "code",
   "execution_count": 6,
   "id": "d2ebcae4-96af-454d-b871-4b339bce34cf",
   "metadata": {},
   "outputs": [],
   "source": [
    "vectorStore= ChromaVectorStore(chroma_collection=chromaCollection)"
   ]
  },
  {
   "cell_type": "code",
   "execution_count": 8,
   "id": "ced36ac4-843f-4889-a3d3-e1defc17889e",
   "metadata": {},
   "outputs": [
    {
     "data": {
      "text/plain": [
       "14"
      ]
     },
     "execution_count": 8,
     "metadata": {},
     "output_type": "execute_result"
    }
   ],
   "source": [
    "rows= []\n",
    "with open(\"./mini-llama-articles.csv\", mode=\"r\", encoding=\"utf-8\") as file:\n",
    "    csvReader = csv.reader(file)\n",
    "    for index, row in enumerate(csvReader):\n",
    "        if index == 0:\n",
    "            continue\n",
    "        rows.append(row)\n",
    "\n",
    "len(rows)"
   ]
  },
  {
   "cell_type": "code",
   "execution_count": 15,
   "id": "296536d4-f3f7-4eac-b89b-621a4c8ef9e4",
   "metadata": {},
   "outputs": [],
   "source": [
    "documents = [ Document( text=row[1], metadata={\"title\": row[0], \"url\": row[2], \"source_name\": row[3]}, ) for row in rows ]\n",
    "for index, doc in enumerate(documents):\n",
    "    doc.id_ = f\"doc_{index}\""
   ]
  },
  {
   "cell_type": "code",
   "execution_count": 21,
   "id": "f2d6c5db-6fa1-41d0-b2a7-094765f67c7a",
   "metadata": {},
   "outputs": [],
   "source": [
    "def deterministicIdFunct(i: int, doc: BaseNode) -> str:\n",
    "    \"\"\" Deterministic ID function for the text splitter.\n",
    "        This will be used to generate a unique repeatable identifier for each node.\n",
    "    \"\"\"\n",
    "    unique_identifier = doc.id_ + str(i)\n",
    "    hasher = hashlib.sha256()\n",
    "    hasher.update(unique_identifier.encode('utf-8')) \n",
    "    result= hasher.hexdigest()\n",
    "    print(f'id:{doc.id_} digest:{result}')\n",
    "    return result"
   ]
  },
  {
   "cell_type": "code",
   "execution_count": 22,
   "id": "ea7c5eea-9d35-401f-931a-b35d543a3451",
   "metadata": {},
   "outputs": [],
   "source": [
    "textSplitter = TokenTextSplitter(separator=\" \", chunk_size=512, chunk_overlap=128, id_func=deterministicIdFunct)"
   ]
  },
  {
   "cell_type": "code",
   "execution_count": 26,
   "id": "0f5c798f-5259-4536-adfe-15fa15fa9f2c",
   "metadata": {},
   "outputs": [
    {
     "data": {
      "application/vnd.jupyter.widget-view+json": {
       "model_id": "1a030eb91a3c44e7b6d98f445107c191",
       "version_major": 2,
       "version_minor": 0
      },
      "text/plain": [
       "Parsing nodes:   0%|          | 0/14 [00:00<?, ?it/s]"
      ]
     },
     "metadata": {},
     "output_type": "display_data"
    },
    {
     "name": "stdout",
     "output_type": "stream",
     "text": [
      "id:doc_0 digest:4ab5bd897f01474fc9b0049f95e31edae3ccd9e74d0f0acd3932b50a74d608b6\n",
      "id:doc_0 digest:e470fa0d001e50b3ec3088022462a94ea7c87dd80106411b7d120f90b379e977\n",
      "id:doc_0 digest:4b3a13a10f7ea2464249fb6aa64e9f403f8151daf24133dbcffbfa0e01fa0d74\n",
      "id:doc_0 digest:98e9cbb20d5a2f5ab9d5d9712f9e66ef7123b584e1e1985cebef6bd4f41c0858\n",
      "id:doc_0 digest:df6183049976174f912d271a7d08fda25e3086030c160fdc603face8a6000e00\n",
      "id:doc_1 digest:de49ab9024a434ca1cd1efba258fbaa9a3e2d9a1bca3ab4a0349220cc1e2754f\n",
      "id:doc_1 digest:15268fd9c2a45644a0c49ca1b4897b4fabfe3005fccee48af0acc7eea7dd0e9c\n",
      "id:doc_1 digest:6d646836e0c2e6830a4c6d3147c3b1d28d3e92351cf0be1d27f5f3a18c520e3d\n",
      "id:doc_1 digest:b7eaf40d5ed90dbefc226732645cf49e5f98fb471a1b56a4151f646b60891738\n",
      "id:doc_1 digest:8bd2dacc5eca082fcea46f2e3aace5c8c3817dd817cffa9f1ab3800bd476a3d3\n",
      "id:doc_1 digest:7d7e3d805418e033c4aa24a972a8358d33d94a60fef7af58a318efe9232be19b\n",
      "id:doc_2 digest:567b14c826413d4ff28ecb510609350966136f2d0914c2d28eda5d8b3e646e82\n",
      "id:doc_2 digest:2652e0efd386340481f4aafc7721f97d5f2f4a87ab452b04f4952275cf5a9d9b\n",
      "id:doc_2 digest:34766658d6856917c5fd75bc7ed377030aaa94e6020424190e8f4a78b13cc0e5\n",
      "id:doc_3 digest:5c3e9cc715caad19aa790a573f7e9b7e7e13e699694a5293fae7a1da112818ee\n",
      "id:doc_3 digest:cd053b50ba3d43b725ea4cb957a0d0bd8ad2f16aef47a87b56056d2891c237ce\n",
      "id:doc_3 digest:be37a750110aa95083ba1f01b25fd79e195cfb09272724ae43bd363226419229\n",
      "id:doc_3 digest:cb4e74d898bb0d095b09a2dd4df266921a0c17b3b27ff1b03bfa587843b4207d\n",
      "id:doc_3 digest:8cf94b9369ba8da18d02172b9cbf885afb60cddd0a2381a86a81ca8e6a9b10f9\n",
      "id:doc_3 digest:e20f03d2063b6e0b4f922c00d62de19ee6657670a26577b04168e0bfc7b1eb42\n",
      "id:doc_3 digest:892a22c623618faecd553782dd97454d8c081170c04598767f4a36f05a8a3bb2\n",
      "id:doc_3 digest:2c17b2d996a4178952175483443612704c5dd7315f5b30beb7fb099ab044d68d\n",
      "id:doc_3 digest:252e704b7a4e29a36e01e55086d2027184611e0f1bc3f4abd273b0246c5d0c43\n",
      "id:doc_3 digest:53485f82f10af2df87678b8b4977e4aea87ea25f43b07cf62276798120705d49\n",
      "id:doc_3 digest:58a0db6126e2d6858f1cf7cb3e95df17f07b67d02f2ef02567d04358279a6276\n",
      "id:doc_3 digest:ef0097732e6eed361247a1081f21a3688bdcfff0d8ec6db66c2bfd6381359bf0\n",
      "id:doc_3 digest:b5eeda2ed7d31c3d4f55c6dd4d95f8c3bc0c4a14e3ef371f92770f124632dbef\n",
      "id:doc_3 digest:fde5e2f6b5535701bf6cf2a3e296bc595289512bb47225748f69904a512d5bea\n",
      "id:doc_4 digest:8286d989740b78f10c31a1452ad639165b59b8973eaa014edbd0ed888adccd8d\n",
      "id:doc_4 digest:582874015861ee2f137ad3ae2e4de45f2fd52aba9c92bb8589416d210d89c3eb\n",
      "id:doc_4 digest:9afbdeaea403deb0f61cdc3bca5b4a96afe98f4166b36b4f8606cc41a7c0a4c1\n",
      "id:doc_4 digest:b9507b49d2385ea4d7c6d656582f18b1a7ae64d6075ce9e2654788b4e8bcae8a\n",
      "id:doc_5 digest:6f7cf5db827c32c8a735dd896b580efb8bdfb7fd45ebf0acd1e9eed5020b502f\n",
      "id:doc_5 digest:38a78f7bcbaeae4dc00110122fa4fc83108ba82f7fcf0fb5a724195c6ef83c85\n",
      "id:doc_5 digest:91e2d8c23a72466a8cd6bbc3a16ac0814a43b7c79b4da0345de6f1a5923efa19\n",
      "id:doc_5 digest:76e1d67063713ec4c9c1c5d055a7edfb5ba0c445910200373d4675be0b941707\n",
      "id:doc_5 digest:77c2dba0b606fc7d48f48508f56d5864ff9632a8179fee36c88446fd36ad4bc4\n",
      "id:doc_5 digest:2bd15c93602c4856e678814faac0cbfc4e2881bacbcbccbe0dc756f764aa438f\n",
      "id:doc_5 digest:7c0ff552ae4caad1b5fa1914f8c5ea0c907705192580cc127e76b245221805c1\n",
      "id:doc_6 digest:375a1bf6285e85964292342467b055c3d4558095abcea5dcc7bf2532178e174e\n",
      "id:doc_6 digest:85fa508670e60b79935ae7d11f981ff814dab38ff9f7a17058bbd7bf814e2a39\n",
      "id:doc_6 digest:461b41572a7f92eaaa2db5ea8256e8f0977afac42f70f555a131d5fdfcaa4f9b\n",
      "id:doc_6 digest:b24bf1b2c3832f0f7d7afc99952a709167373f45b65aac0dc9bc29b2b1f6dca7\n",
      "id:doc_6 digest:56b9500b587e8bf188557f35d5d3743ea2df8c2bdbe84be4fe25ce51f299bcca\n",
      "id:doc_6 digest:3b98a6582d3cd433a8e0d36c3acd40ccb64838c97eb454923d0a2c75e2d4bf35\n",
      "id:doc_7 digest:e97bbe3d37bacb34902b4db67351799f1309541d4879e53b97fad08a4417304f\n",
      "id:doc_7 digest:ab651375c4bf52b30d0d709c5c1ac7c52e75399b0cdc1f1139c3d54cda15d0f4\n",
      "id:doc_7 digest:1cce366d677f8376bf12534e297b90b03aca077aec33e886104e9e5ea7d51e5f\n",
      "id:doc_8 digest:663f0f64773dbe54b88622b68e405f1567fce9a775e5c2b56243bd5ac7c14b64\n",
      "id:doc_8 digest:abaa50b7db8fbf0dab4c81d1b4d70df618de96dd409f6b6c049ccc90dfb3d349\n",
      "id:doc_9 digest:2d5974c99c10fd2236a171b4b213b6f9b7dbaa9888d35bd6ebf63135b5540d3d\n",
      "id:doc_9 digest:ec9421d39825feed7e070c094dd2a261a3ce1ac756a615ac49ce62052495b70c\n",
      "id:doc_9 digest:2cdc07b5cd91addeca7dafc0fcac179c1303cece7ebe9f3e0a71701e8cf827d7\n",
      "id:doc_9 digest:ead0550fc9f66c4a1cff4596f41f5d6c6b374111f2a3b495ab2044ea95f6dada\n",
      "id:doc_10 digest:f707756065d1f788b41fb97fcef81979e1fd241dbfa4034a24bec8e57b648482\n",
      "id:doc_10 digest:636f98cf8754c3a4759da02aa11a3f2aa7cdeb848a4980ec99300ece4a2e92fd\n",
      "id:doc_10 digest:2f429ec2a936a3dcd37504333de59d17ccd6f07f944ae6f5057aa8d29668662b\n",
      "id:doc_10 digest:9c39187e90964fb2503e9a6f9b6da69b965c9c8b53c57f3c0e4de3593e582bd9\n",
      "id:doc_11 digest:60efdb2b99a3c7d843c7b470c81f561f033b31f0c5ba8a46fa6ca04c7cc421df\n",
      "id:doc_11 digest:17eeb609fad179ea13a99a4c7c967a3d4f78ad2a0f1fcb520ca3a74c9fdc3a49\n",
      "id:doc_11 digest:a03f36ef8f17234d2c3de94cfb8f7f9a2c8a9ef1e42a0af06b1f150f2eada805\n",
      "id:doc_11 digest:39372868ea13500bdbb9e2e4fcee00653c352e0a03e24e0d0a77a1b6e008221c\n",
      "id:doc_11 digest:f798d2742de5deb90469cc4e0d63e17050960d3f94cd1d8004c3a1052dabd303\n",
      "id:doc_11 digest:e1b95557b9446b4d7a16a21a8e8c2acfcca5d67c510fe0a515369d030649e222\n",
      "id:doc_11 digest:0616015c4c1671255a7809472a7ef05d5a698e0ee274e630cf212431b0f43808\n",
      "id:doc_11 digest:760f192e2d4e2ef6d28bf514e6ce2283c939d6250becafd6c063450f5a803ba9\n",
      "id:doc_11 digest:7785d72a4a2f8586d81a9b615dcd0f4cab7cf46f0c5cb64dce75188d7ff9ba80\n",
      "id:doc_11 digest:6071d5b83d417ed7b2f47ea8dd5a380039620c6850ce1c6b48c07cb45072afc1\n",
      "id:doc_11 digest:1a6600c1f5e5914041ed40bc246aacf63a7ec90454c4cd6cbb1e72da559c1a0e\n",
      "id:doc_11 digest:2a289d03d479ea73b91440355275ca7a0aa8e70e2513608bbaef404a93e0a101\n",
      "id:doc_11 digest:4831172fc03283befa6bb0f0752b2cf8e5f59a22269e4657ecc09c39a37cfa44\n",
      "id:doc_11 digest:3aff755a96b44a09548c6b1964e665e354a3344b6e2214098f4bff55ae3413c5\n",
      "id:doc_11 digest:88f631025eca5d5be38b898c11dd6e3403c3c5ed4d20b3824b8101d9842bd97f\n",
      "id:doc_11 digest:5a885d39087ac603de1179cb84c9367e9c95e5144ab50d02df66d85855fc0531\n",
      "id:doc_11 digest:e35033d47f453f283f231643acf63fbe3271357aeec257539c182fa907950681\n",
      "id:doc_11 digest:d7a598ee33c540081edd5c4c063a63253146868aa40ff9bbf79b6e60b42acd83\n",
      "id:doc_11 digest:5cd7638552ab4fc482002c5d33c8c439c5b08b3f2c49e0a56406cf922b760ae3\n",
      "id:doc_11 digest:a29added10bfc900adfdc0ff58762fc8d1c9c4c8dfe8685644e15e40f3c05f99\n",
      "id:doc_11 digest:f93d692e26a4d3c2ff0160a00974e511af0bee82761a35378646090609b5096a\n",
      "id:doc_11 digest:0e0d626360827416b55ec93f1854f38733746ad1133e5bc2da2e9f166800d363\n",
      "id:doc_11 digest:26e563cb86fc604f89f608f0aea428af8574a9bf1733a4799348c5f82ae33df3\n",
      "id:doc_11 digest:56e759ee4c342c6abb3d8d8c1c7b95109933108c2b82332b1770f9beaad3f6b9\n",
      "id:doc_11 digest:1349ea9d513a7e5b9f88b2ee83b38f0e641abc53336a3c1d16d1d40c77086fa0\n",
      "id:doc_11 digest:2a0250238b14774dba4d228d65aa639a690b139438efccceb60c765e468a3a0c\n",
      "id:doc_11 digest:f3241b6351791403dffc989cd90a6f9e3cfc889ca10db61c7ad2a8dc574d6aad\n",
      "id:doc_11 digest:9616970be61997dc658720f9c1a161f947ab3eb514b1b7f03e2958608ae921b8\n",
      "id:doc_11 digest:fb9fdab3042bb38ee9eef9fb28ba206ce937f565dabba093db46254ff19b4bbf\n",
      "id:doc_12 digest:28ea3bd2ef701fec4a9a9ce6d6a08b6336853e96095168f5bf418536c4bae297\n",
      "id:doc_12 digest:cffcf0520b313d6fca6d9eaa67ba7e7e8f5519c10ca0f589304e60d7cb2c4ba6\n",
      "id:doc_12 digest:3556481522a40f4b76b6fd91eccdd281bafe748fe38b36f96e90bc59133ce1cd\n",
      "id:doc_12 digest:83ee49bd21571b536cb61b6cd61e2f7fc4f3ddbf1e5aa3635dae85468997ff48\n",
      "id:doc_12 digest:f7431c90fc9173a2c7ea066166097632a365b1e761ce6ce669f29c8628110cbb\n",
      "id:doc_12 digest:dc8d9ca20449f03e0d752cf9c75faf84369193d95951bacba9dddbf0d7fe9273\n",
      "id:doc_12 digest:82622d900f8c83000f0c75145351d26374833ab456bc70d31b71d1e65daef9f0\n",
      "id:doc_12 digest:5fee65260a21f9ee0835dab817fba3ef6e79f253ef990d148f963dbdee91cdf3\n",
      "id:doc_12 digest:1cda21ed21749db131dbc066728d54413387dfd2ad7115cd9026182cecdc7003\n",
      "id:doc_12 digest:e21ae95d09ae67ca4dabf8a75cd3a16f78a96dbdc9b8051418ac6a94f535f48e\n",
      "id:doc_12 digest:99cfcef446616528546ea91078e562427e097d84b2f37628c9487419f9d88716\n",
      "id:doc_12 digest:1e76535804dbe9eee7314ea79e14e8f3aadf04dd1d561c411eef8e8e76e177df\n",
      "id:doc_12 digest:985e22cfddd3066e0bd6c04fe826ffb13b281b7afbc9b762fab5f4a10ec75161\n",
      "id:doc_12 digest:fb68a1e3255fef744120387b55c4fa859fe0e5908bc5906729867c2ad4821217\n",
      "id:doc_12 digest:c5c2d7f9960994a3810cf19a7b98f28516c020fb2ac3b52d624aaf09872bb6b7\n",
      "id:doc_12 digest:4f72cdfed884a4e385c723b952c4616a7fb2dbbf6f7482828b33161735e77331\n",
      "id:doc_13 digest:ef5a3fdf1f8b689057e76000b4e2d10a98aaf2490066141277b0fd5db350bca9\n",
      "id:doc_13 digest:768b6fd49ab75703c694a6281d5b276114bdb094d335a9744d54685e6d5a7de8\n",
      "id:doc_13 digest:1fd92d3abd050b65219d4ec0f87dc46ef657502096f3bc20daf012e5867e4755\n",
      "id:doc_13 digest:4f53f92bee39a35bd0d6b4b8f81a7d596c5a6d109338bcae2fa0f21b3237f73a\n",
      "id:doc_13 digest:c48c271334c619c6f14c1c84025caf638cb3b61b898bdd6c6be317a698ea4db7\n"
     ]
    },
    {
     "data": {
      "application/vnd.jupyter.widget-view+json": {
       "model_id": "a450f0661ea74d3888e646ddc797f800",
       "version_major": 2,
       "version_minor": 0
      },
      "text/plain": [
       "Generating embeddings:   0%|          | 0/108 [00:00<?, ?it/s]"
      ]
     },
     "metadata": {},
     "output_type": "display_data"
    },
    {
     "name": "stderr",
     "output_type": "stream",
     "text": [
      "Add of existing embedding ID: 4ab5bd897f01474fc9b0049f95e31edae3ccd9e74d0f0acd3932b50a74d608b6\n",
      "Add of existing embedding ID: e470fa0d001e50b3ec3088022462a94ea7c87dd80106411b7d120f90b379e977\n",
      "Add of existing embedding ID: 4b3a13a10f7ea2464249fb6aa64e9f403f8151daf24133dbcffbfa0e01fa0d74\n",
      "Add of existing embedding ID: 98e9cbb20d5a2f5ab9d5d9712f9e66ef7123b584e1e1985cebef6bd4f41c0858\n",
      "Add of existing embedding ID: df6183049976174f912d271a7d08fda25e3086030c160fdc603face8a6000e00\n",
      "Add of existing embedding ID: de49ab9024a434ca1cd1efba258fbaa9a3e2d9a1bca3ab4a0349220cc1e2754f\n",
      "Add of existing embedding ID: 15268fd9c2a45644a0c49ca1b4897b4fabfe3005fccee48af0acc7eea7dd0e9c\n",
      "Add of existing embedding ID: 6d646836e0c2e6830a4c6d3147c3b1d28d3e92351cf0be1d27f5f3a18c520e3d\n",
      "Add of existing embedding ID: b7eaf40d5ed90dbefc226732645cf49e5f98fb471a1b56a4151f646b60891738\n",
      "Add of existing embedding ID: 8bd2dacc5eca082fcea46f2e3aace5c8c3817dd817cffa9f1ab3800bd476a3d3\n",
      "Add of existing embedding ID: 7d7e3d805418e033c4aa24a972a8358d33d94a60fef7af58a318efe9232be19b\n",
      "Add of existing embedding ID: 567b14c826413d4ff28ecb510609350966136f2d0914c2d28eda5d8b3e646e82\n",
      "Add of existing embedding ID: 2652e0efd386340481f4aafc7721f97d5f2f4a87ab452b04f4952275cf5a9d9b\n",
      "Add of existing embedding ID: 34766658d6856917c5fd75bc7ed377030aaa94e6020424190e8f4a78b13cc0e5\n",
      "Add of existing embedding ID: 5c3e9cc715caad19aa790a573f7e9b7e7e13e699694a5293fae7a1da112818ee\n",
      "Add of existing embedding ID: cd053b50ba3d43b725ea4cb957a0d0bd8ad2f16aef47a87b56056d2891c237ce\n",
      "Add of existing embedding ID: be37a750110aa95083ba1f01b25fd79e195cfb09272724ae43bd363226419229\n",
      "Add of existing embedding ID: cb4e74d898bb0d095b09a2dd4df266921a0c17b3b27ff1b03bfa587843b4207d\n",
      "Add of existing embedding ID: 8cf94b9369ba8da18d02172b9cbf885afb60cddd0a2381a86a81ca8e6a9b10f9\n",
      "Add of existing embedding ID: e20f03d2063b6e0b4f922c00d62de19ee6657670a26577b04168e0bfc7b1eb42\n",
      "Add of existing embedding ID: 892a22c623618faecd553782dd97454d8c081170c04598767f4a36f05a8a3bb2\n",
      "Add of existing embedding ID: 2c17b2d996a4178952175483443612704c5dd7315f5b30beb7fb099ab044d68d\n",
      "Add of existing embedding ID: 252e704b7a4e29a36e01e55086d2027184611e0f1bc3f4abd273b0246c5d0c43\n",
      "Add of existing embedding ID: 53485f82f10af2df87678b8b4977e4aea87ea25f43b07cf62276798120705d49\n",
      "Add of existing embedding ID: 58a0db6126e2d6858f1cf7cb3e95df17f07b67d02f2ef02567d04358279a6276\n",
      "Add of existing embedding ID: ef0097732e6eed361247a1081f21a3688bdcfff0d8ec6db66c2bfd6381359bf0\n",
      "Add of existing embedding ID: b5eeda2ed7d31c3d4f55c6dd4d95f8c3bc0c4a14e3ef371f92770f124632dbef\n",
      "Add of existing embedding ID: fde5e2f6b5535701bf6cf2a3e296bc595289512bb47225748f69904a512d5bea\n",
      "Add of existing embedding ID: 8286d989740b78f10c31a1452ad639165b59b8973eaa014edbd0ed888adccd8d\n",
      "Add of existing embedding ID: 582874015861ee2f137ad3ae2e4de45f2fd52aba9c92bb8589416d210d89c3eb\n",
      "Add of existing embedding ID: 9afbdeaea403deb0f61cdc3bca5b4a96afe98f4166b36b4f8606cc41a7c0a4c1\n",
      "Add of existing embedding ID: b9507b49d2385ea4d7c6d656582f18b1a7ae64d6075ce9e2654788b4e8bcae8a\n",
      "Add of existing embedding ID: 6f7cf5db827c32c8a735dd896b580efb8bdfb7fd45ebf0acd1e9eed5020b502f\n",
      "Add of existing embedding ID: 38a78f7bcbaeae4dc00110122fa4fc83108ba82f7fcf0fb5a724195c6ef83c85\n",
      "Add of existing embedding ID: 91e2d8c23a72466a8cd6bbc3a16ac0814a43b7c79b4da0345de6f1a5923efa19\n",
      "Add of existing embedding ID: 76e1d67063713ec4c9c1c5d055a7edfb5ba0c445910200373d4675be0b941707\n",
      "Add of existing embedding ID: 77c2dba0b606fc7d48f48508f56d5864ff9632a8179fee36c88446fd36ad4bc4\n",
      "Add of existing embedding ID: 2bd15c93602c4856e678814faac0cbfc4e2881bacbcbccbe0dc756f764aa438f\n",
      "Add of existing embedding ID: 7c0ff552ae4caad1b5fa1914f8c5ea0c907705192580cc127e76b245221805c1\n",
      "Add of existing embedding ID: 375a1bf6285e85964292342467b055c3d4558095abcea5dcc7bf2532178e174e\n",
      "Add of existing embedding ID: 85fa508670e60b79935ae7d11f981ff814dab38ff9f7a17058bbd7bf814e2a39\n",
      "Add of existing embedding ID: 461b41572a7f92eaaa2db5ea8256e8f0977afac42f70f555a131d5fdfcaa4f9b\n",
      "Add of existing embedding ID: b24bf1b2c3832f0f7d7afc99952a709167373f45b65aac0dc9bc29b2b1f6dca7\n",
      "Add of existing embedding ID: 56b9500b587e8bf188557f35d5d3743ea2df8c2bdbe84be4fe25ce51f299bcca\n",
      "Add of existing embedding ID: 3b98a6582d3cd433a8e0d36c3acd40ccb64838c97eb454923d0a2c75e2d4bf35\n",
      "Add of existing embedding ID: e97bbe3d37bacb34902b4db67351799f1309541d4879e53b97fad08a4417304f\n",
      "Add of existing embedding ID: ab651375c4bf52b30d0d709c5c1ac7c52e75399b0cdc1f1139c3d54cda15d0f4\n",
      "Add of existing embedding ID: 1cce366d677f8376bf12534e297b90b03aca077aec33e886104e9e5ea7d51e5f\n",
      "Add of existing embedding ID: 663f0f64773dbe54b88622b68e405f1567fce9a775e5c2b56243bd5ac7c14b64\n",
      "Add of existing embedding ID: abaa50b7db8fbf0dab4c81d1b4d70df618de96dd409f6b6c049ccc90dfb3d349\n",
      "Add of existing embedding ID: 2d5974c99c10fd2236a171b4b213b6f9b7dbaa9888d35bd6ebf63135b5540d3d\n",
      "Add of existing embedding ID: ec9421d39825feed7e070c094dd2a261a3ce1ac756a615ac49ce62052495b70c\n",
      "Add of existing embedding ID: 2cdc07b5cd91addeca7dafc0fcac179c1303cece7ebe9f3e0a71701e8cf827d7\n",
      "Add of existing embedding ID: ead0550fc9f66c4a1cff4596f41f5d6c6b374111f2a3b495ab2044ea95f6dada\n",
      "Add of existing embedding ID: f707756065d1f788b41fb97fcef81979e1fd241dbfa4034a24bec8e57b648482\n",
      "Add of existing embedding ID: 636f98cf8754c3a4759da02aa11a3f2aa7cdeb848a4980ec99300ece4a2e92fd\n",
      "Add of existing embedding ID: 2f429ec2a936a3dcd37504333de59d17ccd6f07f944ae6f5057aa8d29668662b\n",
      "Add of existing embedding ID: 9c39187e90964fb2503e9a6f9b6da69b965c9c8b53c57f3c0e4de3593e582bd9\n",
      "Add of existing embedding ID: 60efdb2b99a3c7d843c7b470c81f561f033b31f0c5ba8a46fa6ca04c7cc421df\n",
      "Add of existing embedding ID: 17eeb609fad179ea13a99a4c7c967a3d4f78ad2a0f1fcb520ca3a74c9fdc3a49\n",
      "Add of existing embedding ID: a03f36ef8f17234d2c3de94cfb8f7f9a2c8a9ef1e42a0af06b1f150f2eada805\n",
      "Add of existing embedding ID: 39372868ea13500bdbb9e2e4fcee00653c352e0a03e24e0d0a77a1b6e008221c\n",
      "Add of existing embedding ID: f798d2742de5deb90469cc4e0d63e17050960d3f94cd1d8004c3a1052dabd303\n",
      "Add of existing embedding ID: e1b95557b9446b4d7a16a21a8e8c2acfcca5d67c510fe0a515369d030649e222\n",
      "Add of existing embedding ID: 0616015c4c1671255a7809472a7ef05d5a698e0ee274e630cf212431b0f43808\n",
      "Add of existing embedding ID: 760f192e2d4e2ef6d28bf514e6ce2283c939d6250becafd6c063450f5a803ba9\n",
      "Add of existing embedding ID: 7785d72a4a2f8586d81a9b615dcd0f4cab7cf46f0c5cb64dce75188d7ff9ba80\n",
      "Add of existing embedding ID: 6071d5b83d417ed7b2f47ea8dd5a380039620c6850ce1c6b48c07cb45072afc1\n",
      "Add of existing embedding ID: 1a6600c1f5e5914041ed40bc246aacf63a7ec90454c4cd6cbb1e72da559c1a0e\n",
      "Add of existing embedding ID: 2a289d03d479ea73b91440355275ca7a0aa8e70e2513608bbaef404a93e0a101\n",
      "Add of existing embedding ID: 4831172fc03283befa6bb0f0752b2cf8e5f59a22269e4657ecc09c39a37cfa44\n",
      "Add of existing embedding ID: 3aff755a96b44a09548c6b1964e665e354a3344b6e2214098f4bff55ae3413c5\n",
      "Add of existing embedding ID: 88f631025eca5d5be38b898c11dd6e3403c3c5ed4d20b3824b8101d9842bd97f\n",
      "Add of existing embedding ID: 5a885d39087ac603de1179cb84c9367e9c95e5144ab50d02df66d85855fc0531\n",
      "Add of existing embedding ID: e35033d47f453f283f231643acf63fbe3271357aeec257539c182fa907950681\n",
      "Add of existing embedding ID: d7a598ee33c540081edd5c4c063a63253146868aa40ff9bbf79b6e60b42acd83\n",
      "Add of existing embedding ID: 5cd7638552ab4fc482002c5d33c8c439c5b08b3f2c49e0a56406cf922b760ae3\n",
      "Add of existing embedding ID: a29added10bfc900adfdc0ff58762fc8d1c9c4c8dfe8685644e15e40f3c05f99\n",
      "Add of existing embedding ID: f93d692e26a4d3c2ff0160a00974e511af0bee82761a35378646090609b5096a\n",
      "Add of existing embedding ID: 0e0d626360827416b55ec93f1854f38733746ad1133e5bc2da2e9f166800d363\n",
      "Add of existing embedding ID: 26e563cb86fc604f89f608f0aea428af8574a9bf1733a4799348c5f82ae33df3\n",
      "Add of existing embedding ID: 56e759ee4c342c6abb3d8d8c1c7b95109933108c2b82332b1770f9beaad3f6b9\n",
      "Add of existing embedding ID: 1349ea9d513a7e5b9f88b2ee83b38f0e641abc53336a3c1d16d1d40c77086fa0\n",
      "Add of existing embedding ID: 2a0250238b14774dba4d228d65aa639a690b139438efccceb60c765e468a3a0c\n",
      "Add of existing embedding ID: f3241b6351791403dffc989cd90a6f9e3cfc889ca10db61c7ad2a8dc574d6aad\n",
      "Add of existing embedding ID: 9616970be61997dc658720f9c1a161f947ab3eb514b1b7f03e2958608ae921b8\n",
      "Add of existing embedding ID: fb9fdab3042bb38ee9eef9fb28ba206ce937f565dabba093db46254ff19b4bbf\n",
      "Add of existing embedding ID: 28ea3bd2ef701fec4a9a9ce6d6a08b6336853e96095168f5bf418536c4bae297\n",
      "Add of existing embedding ID: cffcf0520b313d6fca6d9eaa67ba7e7e8f5519c10ca0f589304e60d7cb2c4ba6\n",
      "Add of existing embedding ID: 3556481522a40f4b76b6fd91eccdd281bafe748fe38b36f96e90bc59133ce1cd\n",
      "Add of existing embedding ID: 83ee49bd21571b536cb61b6cd61e2f7fc4f3ddbf1e5aa3635dae85468997ff48\n",
      "Add of existing embedding ID: f7431c90fc9173a2c7ea066166097632a365b1e761ce6ce669f29c8628110cbb\n",
      "Add of existing embedding ID: dc8d9ca20449f03e0d752cf9c75faf84369193d95951bacba9dddbf0d7fe9273\n",
      "Add of existing embedding ID: 82622d900f8c83000f0c75145351d26374833ab456bc70d31b71d1e65daef9f0\n",
      "Add of existing embedding ID: 5fee65260a21f9ee0835dab817fba3ef6e79f253ef990d148f963dbdee91cdf3\n",
      "Add of existing embedding ID: 1cda21ed21749db131dbc066728d54413387dfd2ad7115cd9026182cecdc7003\n",
      "Add of existing embedding ID: e21ae95d09ae67ca4dabf8a75cd3a16f78a96dbdc9b8051418ac6a94f535f48e\n",
      "Add of existing embedding ID: 99cfcef446616528546ea91078e562427e097d84b2f37628c9487419f9d88716\n",
      "Add of existing embedding ID: 1e76535804dbe9eee7314ea79e14e8f3aadf04dd1d561c411eef8e8e76e177df\n",
      "Add of existing embedding ID: 985e22cfddd3066e0bd6c04fe826ffb13b281b7afbc9b762fab5f4a10ec75161\n",
      "Add of existing embedding ID: fb68a1e3255fef744120387b55c4fa859fe0e5908bc5906729867c2ad4821217\n",
      "Add of existing embedding ID: c5c2d7f9960994a3810cf19a7b98f28516c020fb2ac3b52d624aaf09872bb6b7\n",
      "Add of existing embedding ID: 4f72cdfed884a4e385c723b952c4616a7fb2dbbf6f7482828b33161735e77331\n",
      "Add of existing embedding ID: ef5a3fdf1f8b689057e76000b4e2d10a98aaf2490066141277b0fd5db350bca9\n",
      "Add of existing embedding ID: 768b6fd49ab75703c694a6281d5b276114bdb094d335a9744d54685e6d5a7de8\n",
      "Add of existing embedding ID: 1fd92d3abd050b65219d4ec0f87dc46ef657502096f3bc20daf012e5867e4755\n",
      "Add of existing embedding ID: 4f53f92bee39a35bd0d6b4b8f81a7d596c5a6d109338bcae2fa0f21b3237f73a\n",
      "Add of existing embedding ID: c48c271334c619c6f14c1c84025caf638cb3b61b898bdd6c6be317a698ea4db7\n",
      "Insert of existing embedding ID: 4ab5bd897f01474fc9b0049f95e31edae3ccd9e74d0f0acd3932b50a74d608b6\n",
      "Insert of existing embedding ID: e470fa0d001e50b3ec3088022462a94ea7c87dd80106411b7d120f90b379e977\n",
      "Insert of existing embedding ID: 4b3a13a10f7ea2464249fb6aa64e9f403f8151daf24133dbcffbfa0e01fa0d74\n",
      "Insert of existing embedding ID: 98e9cbb20d5a2f5ab9d5d9712f9e66ef7123b584e1e1985cebef6bd4f41c0858\n",
      "Insert of existing embedding ID: df6183049976174f912d271a7d08fda25e3086030c160fdc603face8a6000e00\n",
      "Insert of existing embedding ID: de49ab9024a434ca1cd1efba258fbaa9a3e2d9a1bca3ab4a0349220cc1e2754f\n",
      "Insert of existing embedding ID: 15268fd9c2a45644a0c49ca1b4897b4fabfe3005fccee48af0acc7eea7dd0e9c\n",
      "Insert of existing embedding ID: 6d646836e0c2e6830a4c6d3147c3b1d28d3e92351cf0be1d27f5f3a18c520e3d\n",
      "Insert of existing embedding ID: b7eaf40d5ed90dbefc226732645cf49e5f98fb471a1b56a4151f646b60891738\n",
      "Insert of existing embedding ID: 8bd2dacc5eca082fcea46f2e3aace5c8c3817dd817cffa9f1ab3800bd476a3d3\n",
      "Insert of existing embedding ID: 7d7e3d805418e033c4aa24a972a8358d33d94a60fef7af58a318efe9232be19b\n",
      "Insert of existing embedding ID: 567b14c826413d4ff28ecb510609350966136f2d0914c2d28eda5d8b3e646e82\n",
      "Insert of existing embedding ID: 2652e0efd386340481f4aafc7721f97d5f2f4a87ab452b04f4952275cf5a9d9b\n",
      "Insert of existing embedding ID: 34766658d6856917c5fd75bc7ed377030aaa94e6020424190e8f4a78b13cc0e5\n",
      "Insert of existing embedding ID: 5c3e9cc715caad19aa790a573f7e9b7e7e13e699694a5293fae7a1da112818ee\n",
      "Insert of existing embedding ID: cd053b50ba3d43b725ea4cb957a0d0bd8ad2f16aef47a87b56056d2891c237ce\n",
      "Insert of existing embedding ID: be37a750110aa95083ba1f01b25fd79e195cfb09272724ae43bd363226419229\n",
      "Insert of existing embedding ID: cb4e74d898bb0d095b09a2dd4df266921a0c17b3b27ff1b03bfa587843b4207d\n",
      "Insert of existing embedding ID: 8cf94b9369ba8da18d02172b9cbf885afb60cddd0a2381a86a81ca8e6a9b10f9\n",
      "Insert of existing embedding ID: e20f03d2063b6e0b4f922c00d62de19ee6657670a26577b04168e0bfc7b1eb42\n",
      "Insert of existing embedding ID: 892a22c623618faecd553782dd97454d8c081170c04598767f4a36f05a8a3bb2\n",
      "Insert of existing embedding ID: 2c17b2d996a4178952175483443612704c5dd7315f5b30beb7fb099ab044d68d\n",
      "Insert of existing embedding ID: 252e704b7a4e29a36e01e55086d2027184611e0f1bc3f4abd273b0246c5d0c43\n",
      "Insert of existing embedding ID: 53485f82f10af2df87678b8b4977e4aea87ea25f43b07cf62276798120705d49\n",
      "Insert of existing embedding ID: 58a0db6126e2d6858f1cf7cb3e95df17f07b67d02f2ef02567d04358279a6276\n",
      "Insert of existing embedding ID: ef0097732e6eed361247a1081f21a3688bdcfff0d8ec6db66c2bfd6381359bf0\n",
      "Insert of existing embedding ID: b5eeda2ed7d31c3d4f55c6dd4d95f8c3bc0c4a14e3ef371f92770f124632dbef\n",
      "Insert of existing embedding ID: fde5e2f6b5535701bf6cf2a3e296bc595289512bb47225748f69904a512d5bea\n",
      "Insert of existing embedding ID: 8286d989740b78f10c31a1452ad639165b59b8973eaa014edbd0ed888adccd8d\n",
      "Insert of existing embedding ID: 582874015861ee2f137ad3ae2e4de45f2fd52aba9c92bb8589416d210d89c3eb\n",
      "Insert of existing embedding ID: 9afbdeaea403deb0f61cdc3bca5b4a96afe98f4166b36b4f8606cc41a7c0a4c1\n",
      "Insert of existing embedding ID: b9507b49d2385ea4d7c6d656582f18b1a7ae64d6075ce9e2654788b4e8bcae8a\n",
      "Insert of existing embedding ID: 6f7cf5db827c32c8a735dd896b580efb8bdfb7fd45ebf0acd1e9eed5020b502f\n",
      "Insert of existing embedding ID: 38a78f7bcbaeae4dc00110122fa4fc83108ba82f7fcf0fb5a724195c6ef83c85\n",
      "Insert of existing embedding ID: 91e2d8c23a72466a8cd6bbc3a16ac0814a43b7c79b4da0345de6f1a5923efa19\n",
      "Insert of existing embedding ID: 76e1d67063713ec4c9c1c5d055a7edfb5ba0c445910200373d4675be0b941707\n",
      "Insert of existing embedding ID: 77c2dba0b606fc7d48f48508f56d5864ff9632a8179fee36c88446fd36ad4bc4\n",
      "Insert of existing embedding ID: 2bd15c93602c4856e678814faac0cbfc4e2881bacbcbccbe0dc756f764aa438f\n",
      "Insert of existing embedding ID: 7c0ff552ae4caad1b5fa1914f8c5ea0c907705192580cc127e76b245221805c1\n",
      "Insert of existing embedding ID: 375a1bf6285e85964292342467b055c3d4558095abcea5dcc7bf2532178e174e\n",
      "Insert of existing embedding ID: 85fa508670e60b79935ae7d11f981ff814dab38ff9f7a17058bbd7bf814e2a39\n",
      "Insert of existing embedding ID: 461b41572a7f92eaaa2db5ea8256e8f0977afac42f70f555a131d5fdfcaa4f9b\n",
      "Insert of existing embedding ID: b24bf1b2c3832f0f7d7afc99952a709167373f45b65aac0dc9bc29b2b1f6dca7\n",
      "Insert of existing embedding ID: 56b9500b587e8bf188557f35d5d3743ea2df8c2bdbe84be4fe25ce51f299bcca\n",
      "Insert of existing embedding ID: 3b98a6582d3cd433a8e0d36c3acd40ccb64838c97eb454923d0a2c75e2d4bf35\n",
      "Insert of existing embedding ID: e97bbe3d37bacb34902b4db67351799f1309541d4879e53b97fad08a4417304f\n",
      "Insert of existing embedding ID: ab651375c4bf52b30d0d709c5c1ac7c52e75399b0cdc1f1139c3d54cda15d0f4\n",
      "Insert of existing embedding ID: 1cce366d677f8376bf12534e297b90b03aca077aec33e886104e9e5ea7d51e5f\n",
      "Insert of existing embedding ID: 663f0f64773dbe54b88622b68e405f1567fce9a775e5c2b56243bd5ac7c14b64\n",
      "Insert of existing embedding ID: abaa50b7db8fbf0dab4c81d1b4d70df618de96dd409f6b6c049ccc90dfb3d349\n",
      "Insert of existing embedding ID: 2d5974c99c10fd2236a171b4b213b6f9b7dbaa9888d35bd6ebf63135b5540d3d\n",
      "Insert of existing embedding ID: ec9421d39825feed7e070c094dd2a261a3ce1ac756a615ac49ce62052495b70c\n",
      "Insert of existing embedding ID: 2cdc07b5cd91addeca7dafc0fcac179c1303cece7ebe9f3e0a71701e8cf827d7\n",
      "Insert of existing embedding ID: ead0550fc9f66c4a1cff4596f41f5d6c6b374111f2a3b495ab2044ea95f6dada\n",
      "Insert of existing embedding ID: f707756065d1f788b41fb97fcef81979e1fd241dbfa4034a24bec8e57b648482\n",
      "Insert of existing embedding ID: 636f98cf8754c3a4759da02aa11a3f2aa7cdeb848a4980ec99300ece4a2e92fd\n",
      "Insert of existing embedding ID: 2f429ec2a936a3dcd37504333de59d17ccd6f07f944ae6f5057aa8d29668662b\n",
      "Insert of existing embedding ID: 9c39187e90964fb2503e9a6f9b6da69b965c9c8b53c57f3c0e4de3593e582bd9\n",
      "Insert of existing embedding ID: 60efdb2b99a3c7d843c7b470c81f561f033b31f0c5ba8a46fa6ca04c7cc421df\n",
      "Insert of existing embedding ID: 17eeb609fad179ea13a99a4c7c967a3d4f78ad2a0f1fcb520ca3a74c9fdc3a49\n",
      "Insert of existing embedding ID: a03f36ef8f17234d2c3de94cfb8f7f9a2c8a9ef1e42a0af06b1f150f2eada805\n",
      "Insert of existing embedding ID: 39372868ea13500bdbb9e2e4fcee00653c352e0a03e24e0d0a77a1b6e008221c\n",
      "Insert of existing embedding ID: f798d2742de5deb90469cc4e0d63e17050960d3f94cd1d8004c3a1052dabd303\n",
      "Insert of existing embedding ID: e1b95557b9446b4d7a16a21a8e8c2acfcca5d67c510fe0a515369d030649e222\n",
      "Insert of existing embedding ID: 0616015c4c1671255a7809472a7ef05d5a698e0ee274e630cf212431b0f43808\n",
      "Insert of existing embedding ID: 760f192e2d4e2ef6d28bf514e6ce2283c939d6250becafd6c063450f5a803ba9\n",
      "Insert of existing embedding ID: 7785d72a4a2f8586d81a9b615dcd0f4cab7cf46f0c5cb64dce75188d7ff9ba80\n",
      "Insert of existing embedding ID: 6071d5b83d417ed7b2f47ea8dd5a380039620c6850ce1c6b48c07cb45072afc1\n",
      "Insert of existing embedding ID: 1a6600c1f5e5914041ed40bc246aacf63a7ec90454c4cd6cbb1e72da559c1a0e\n",
      "Insert of existing embedding ID: 2a289d03d479ea73b91440355275ca7a0aa8e70e2513608bbaef404a93e0a101\n",
      "Insert of existing embedding ID: 4831172fc03283befa6bb0f0752b2cf8e5f59a22269e4657ecc09c39a37cfa44\n",
      "Insert of existing embedding ID: 3aff755a96b44a09548c6b1964e665e354a3344b6e2214098f4bff55ae3413c5\n",
      "Insert of existing embedding ID: 88f631025eca5d5be38b898c11dd6e3403c3c5ed4d20b3824b8101d9842bd97f\n",
      "Insert of existing embedding ID: 5a885d39087ac603de1179cb84c9367e9c95e5144ab50d02df66d85855fc0531\n",
      "Insert of existing embedding ID: e35033d47f453f283f231643acf63fbe3271357aeec257539c182fa907950681\n",
      "Insert of existing embedding ID: d7a598ee33c540081edd5c4c063a63253146868aa40ff9bbf79b6e60b42acd83\n",
      "Insert of existing embedding ID: 5cd7638552ab4fc482002c5d33c8c439c5b08b3f2c49e0a56406cf922b760ae3\n",
      "Insert of existing embedding ID: a29added10bfc900adfdc0ff58762fc8d1c9c4c8dfe8685644e15e40f3c05f99\n",
      "Insert of existing embedding ID: f93d692e26a4d3c2ff0160a00974e511af0bee82761a35378646090609b5096a\n",
      "Insert of existing embedding ID: 0e0d626360827416b55ec93f1854f38733746ad1133e5bc2da2e9f166800d363\n",
      "Insert of existing embedding ID: 26e563cb86fc604f89f608f0aea428af8574a9bf1733a4799348c5f82ae33df3\n",
      "Insert of existing embedding ID: 56e759ee4c342c6abb3d8d8c1c7b95109933108c2b82332b1770f9beaad3f6b9\n",
      "Insert of existing embedding ID: 1349ea9d513a7e5b9f88b2ee83b38f0e641abc53336a3c1d16d1d40c77086fa0\n",
      "Insert of existing embedding ID: 2a0250238b14774dba4d228d65aa639a690b139438efccceb60c765e468a3a0c\n",
      "Insert of existing embedding ID: f3241b6351791403dffc989cd90a6f9e3cfc889ca10db61c7ad2a8dc574d6aad\n",
      "Insert of existing embedding ID: 9616970be61997dc658720f9c1a161f947ab3eb514b1b7f03e2958608ae921b8\n",
      "Insert of existing embedding ID: fb9fdab3042bb38ee9eef9fb28ba206ce937f565dabba093db46254ff19b4bbf\n",
      "Insert of existing embedding ID: 28ea3bd2ef701fec4a9a9ce6d6a08b6336853e96095168f5bf418536c4bae297\n",
      "Insert of existing embedding ID: cffcf0520b313d6fca6d9eaa67ba7e7e8f5519c10ca0f589304e60d7cb2c4ba6\n",
      "Insert of existing embedding ID: 3556481522a40f4b76b6fd91eccdd281bafe748fe38b36f96e90bc59133ce1cd\n",
      "Insert of existing embedding ID: 83ee49bd21571b536cb61b6cd61e2f7fc4f3ddbf1e5aa3635dae85468997ff48\n",
      "Insert of existing embedding ID: f7431c90fc9173a2c7ea066166097632a365b1e761ce6ce669f29c8628110cbb\n",
      "Insert of existing embedding ID: dc8d9ca20449f03e0d752cf9c75faf84369193d95951bacba9dddbf0d7fe9273\n",
      "Insert of existing embedding ID: 82622d900f8c83000f0c75145351d26374833ab456bc70d31b71d1e65daef9f0\n",
      "Insert of existing embedding ID: 5fee65260a21f9ee0835dab817fba3ef6e79f253ef990d148f963dbdee91cdf3\n",
      "Insert of existing embedding ID: 1cda21ed21749db131dbc066728d54413387dfd2ad7115cd9026182cecdc7003\n",
      "Insert of existing embedding ID: e21ae95d09ae67ca4dabf8a75cd3a16f78a96dbdc9b8051418ac6a94f535f48e\n",
      "Insert of existing embedding ID: 99cfcef446616528546ea91078e562427e097d84b2f37628c9487419f9d88716\n",
      "Insert of existing embedding ID: 1e76535804dbe9eee7314ea79e14e8f3aadf04dd1d561c411eef8e8e76e177df\n",
      "Insert of existing embedding ID: 985e22cfddd3066e0bd6c04fe826ffb13b281b7afbc9b762fab5f4a10ec75161\n",
      "Insert of existing embedding ID: fb68a1e3255fef744120387b55c4fa859fe0e5908bc5906729867c2ad4821217\n",
      "Insert of existing embedding ID: c5c2d7f9960994a3810cf19a7b98f28516c020fb2ac3b52d624aaf09872bb6b7\n",
      "Insert of existing embedding ID: 4f72cdfed884a4e385c723b952c4616a7fb2dbbf6f7482828b33161735e77331\n",
      "Insert of existing embedding ID: ef5a3fdf1f8b689057e76000b4e2d10a98aaf2490066141277b0fd5db350bca9\n",
      "Insert of existing embedding ID: 768b6fd49ab75703c694a6281d5b276114bdb094d335a9744d54685e6d5a7de8\n",
      "Insert of existing embedding ID: 1fd92d3abd050b65219d4ec0f87dc46ef657502096f3bc20daf012e5867e4755\n",
      "Insert of existing embedding ID: 4f53f92bee39a35bd0d6b4b8f81a7d596c5a6d109338bcae2fa0f21b3237f73a\n",
      "Insert of existing embedding ID: c48c271334c619c6f14c1c84025caf638cb3b61b898bdd6c6be317a698ea4db7\n"
     ]
    }
   ],
   "source": [
    "pipeline = IngestionPipeline(\n",
    "    transformations=[\n",
    "        textSplitter,\n",
    "        OpenAIEmbedding(model = 'text-embedding-3-small'),\n",
    "    ],\n",
    "    vector_store= vectorStore\n",
    ")\n",
    "\n",
    "nodes = pipeline.run(documents=documents, show_progress=True)"
   ]
  },
  {
   "cell_type": "markdown",
   "id": "48cc62ad-56ee-41d2-bbd3-fbd1901c7bec",
   "metadata": {},
   "source": [
    "## Query the Engine"
   ]
  },
  {
   "cell_type": "code",
   "execution_count": 34,
   "id": "ab6d0c60-3cec-481f-8dff-298729d5db4e",
   "metadata": {},
   "outputs": [],
   "source": [
    "index= VectorStoreIndex.from_vector_store(vectorStore)"
   ]
  },
  {
   "cell_type": "code",
   "execution_count": 31,
   "id": "46ecc796-b636-4e75-9046-c971c9eb1d2a",
   "metadata": {},
   "outputs": [
    {
     "name": "stdout",
     "output_type": "stream",
     "text": [
      "The LLaMA 2 model has 7 billion and 13 billion parameters.\n",
      "\n"
     ]
    }
   ],
   "source": [
    "llm = Gemini(model=\"models/gemini-2.0-flash\", temperature=0, max_tokens=512)\n",
    "queryEngine = index.as_query_engine(llm=llm, similarity_top_k=5)\n",
    "\n",
    "res = queryEngine.query(\"How many parameters LLaMA 2 model has?\")\n",
    "\n",
    "print(res.response)"
   ]
  },
  {
   "cell_type": "markdown",
   "id": "13b9194e-0b38-4d38-97ec-38fd2820be85",
   "metadata": {},
   "source": [
    "## Evaluation\n",
    "LlamaIndex is able to use an LLM to generate a number of questions for each node.<br>\n",
    "<b>This way, we already know the node that must be selected to answer to a question.</b>"
   ]
  },
  {
   "cell_type": "code",
   "execution_count": 42,
   "id": "e22b5898-1709-4c42-a675-e1ee3b37d5e6",
   "metadata": {},
   "outputs": [
    {
     "name": "stdout",
     "output_type": "stream",
     "text": [
      "The dataset file ./rag_eval_dataset.json already exists\n"
     ]
    }
   ],
   "source": [
    "ragEvalDatasetFilename= \"./rag_eval_dataset.json\" \n",
    "if not os.path.exists( ragEvalDatasetFilename):    \n",
    "    llmLite = OpenAI(model=\"gpt-4o-mini\", temperature=0, max_tokens=512)\n",
    "    ragEvaluationDataset = generate_question_context_pairs(nodes, llm=llmLite, num_questions_per_chunk=1)\n",
    "    ragEvaluationDataset.save_json(ragEvalDatasetFilename)\n",
    "    print('Generates the dataset')\n",
    "else:\n",
    "    print(f'The dataset file {ragEvalDatasetFilename} already exists')"
   ]
  },
  {
   "cell_type": "code",
   "execution_count": 47,
   "id": "a22e818c-fdfc-4e62-a4b6-ed5c2504c160",
   "metadata": {},
   "outputs": [],
   "source": [
    "def displayResultsRetriever(name, evalResults):\n",
    "    \"\"\"Display results from evaluate.\"\"\"\n",
    "\n",
    "    metric_dicts = []\n",
    "    for evalResult in evalResults:\n",
    "        metric_dict = evalResult.metric_vals_dict\n",
    "        metric_dicts.append(metric_dict)\n",
    "\n",
    "    full_df = pd.DataFrame(metric_dicts)\n",
    "\n",
    "    hit_rate = full_df[\"hit_rate\"].mean()\n",
    "    mrr = full_df[\"mrr\"].mean()\n",
    "\n",
    "    metric_df = pd.DataFrame(\n",
    "        {\"Retriever Name\": [name], \"Hit Rate\": [hit_rate], \"MRR\": [mrr]}\n",
    "    )\n",
    "\n",
    "    return metric_df"
   ]
  },
  {
   "cell_type": "code",
   "execution_count": 50,
   "id": "a865d4ae-2362-48d8-89fd-2b9b8644cfa8",
   "metadata": {},
   "outputs": [
    {
     "name": "stdout",
     "output_type": "stream",
     "text": [
      "    Retriever Name  Hit Rate       MRR\n",
      "0  Retriever top_2  0.027778  0.023148\n",
      "    Retriever Name  Hit Rate       MRR\n",
      "0  Retriever top_4  0.037037  0.025463\n",
      "    Retriever Name  Hit Rate      MRR\n",
      "0  Retriever top_6  0.064815  0.03071\n",
      "    Retriever Name  Hit Rate       MRR\n",
      "0  Retriever top_8  0.111111  0.036828\n",
      "     Retriever Name  Hit Rate       MRR\n",
      "0  Retriever top_10   0.12037  0.037856\n"
     ]
    }
   ],
   "source": [
    "for k in [2, 4, 6, 8, 10]:\n",
    "    retriever = index.as_retriever(similarity_top_k=k)\n",
    "    retriever_evaluator = RetrieverEvaluator.from_metric_names([\"mrr\", \"hit_rate\"], retriever=retriever)\n",
    "    eval_results = await retriever_evaluator.aevaluate_dataset( ragEvaluationDataset, workers=32)\n",
    "    print(displayResultsRetriever(f\"Retriever top_{k}\", eval_results))"
   ]
  }
 ],
 "metadata": {
  "kernelspec": {
   "display_name": "Python 3 (ipykernel)",
   "language": "python",
   "name": "python3"
  },
  "language_info": {
   "codemirror_mode": {
    "name": "ipython",
    "version": 3
   },
   "file_extension": ".py",
   "mimetype": "text/x-python",
   "name": "python",
   "nbconvert_exporter": "python",
   "pygments_lexer": "ipython3",
   "version": "3.10.12"
  }
 },
 "nbformat": 4,
 "nbformat_minor": 5
}
