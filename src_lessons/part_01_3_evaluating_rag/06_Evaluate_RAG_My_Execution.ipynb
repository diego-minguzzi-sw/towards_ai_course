{
 "cells": [
  {
   "cell_type": "markdown",
   "metadata": {
    "id": "5BGJ3fxhOk2V"
   },
   "source": [
    "# Install Packages and Setup Variables\n"
   ]
  },
  {
   "cell_type": "code",
   "execution_count": 17,
   "metadata": {
    "id": "riuXwpSPcvWC"
   },
   "outputs": [],
   "source": [
    "from llama_index.core import Document, VectorStoreIndex\n",
    "from llama_index.core.evaluation import generate_question_context_pairs, RetrieverEvaluator\n",
    "from llama_index.core.ingestion import IngestionPipeline\n",
    "from llama_index.core.node_parser import TokenTextSplitter\n",
    "from llama_index.core.schema import BaseNode, TextNode\n",
    "from llama_index.embeddings.openai import OpenAIEmbedding\n",
    "from llama_index.llms.gemini import Gemini\n",
    "from llama_index.llms.openai import OpenAI\n",
    "from llama_index.vector_stores.chroma import ChromaVectorStore"
   ]
  },
  {
   "cell_type": "code",
   "execution_count": 4,
   "metadata": {
    "id": "km-KQOrgr3VB"
   },
   "outputs": [],
   "source": [
    "# Allows running asyncio in environments with an existing event loop, like Jupyter notebooks.\n",
    "\n",
    "import nest_asyncio\n",
    "\n",
    "nest_asyncio.apply()"
   ]
  },
  {
   "cell_type": "code",
   "execution_count": 5,
   "metadata": {
    "id": "w4Tt3EvjVFJW"
   },
   "outputs": [],
   "source": [
    "from llama_index.embeddings.openai import OpenAIEmbedding\n",
    "from llama_index.core import Settings\n",
    "\n",
    "Settings.embed_model = OpenAIEmbedding(\n",
    "    model=\"text-embedding-3-small\"\n",
    ")"
   ]
  },
  {
   "cell_type": "markdown",
   "metadata": {
    "id": "0BwVuJXlzHVL"
   },
   "source": [
    "# Create a VectoreStore\n"
   ]
  },
  {
   "cell_type": "code",
   "execution_count": 6,
   "metadata": {
    "id": "SQP87lHczHKc"
   },
   "outputs": [],
   "source": [
    "import chromadb\n",
    "\n",
    "# create client and a new collection\n",
    "# chromadb.EphemeralClient saves data in-memory.\n",
    "chroma_client = chromadb.PersistentClient(path=\"./mini-llama-articles\")\n",
    "chroma_collection = chroma_client.get_or_create_collection(\"mini-llama-articles\")"
   ]
  },
  {
   "cell_type": "code",
   "execution_count": 7,
   "metadata": {
    "id": "zAaGcYMJzHAN"
   },
   "outputs": [],
   "source": [
    "from llama_index.vector_stores.chroma import ChromaVectorStore\n",
    "\n",
    "# Define a storage context object using the created vector database.\n",
    "vector_store = ChromaVectorStore(chroma_collection=chroma_collection)"
   ]
  },
  {
   "cell_type": "markdown",
   "metadata": {
    "id": "I9JbAzFcjkpn"
   },
   "source": [
    "# Load the Dataset (CSV)\n"
   ]
  },
  {
   "cell_type": "markdown",
   "metadata": {
    "id": "_Tif8-JoRH68"
   },
   "source": [
    "## Download\n"
   ]
  },
  {
   "cell_type": "markdown",
   "metadata": {
    "id": "4fQaa1LN1mXL"
   },
   "source": [
    "The dataset includes several articles from the TowardsAI blog, which provide an in-depth explanation of the LLaMA2 model.\n"
   ]
  },
  {
   "cell_type": "code",
   "execution_count": 8,
   "metadata": {
    "colab": {
     "base_uri": "https://localhost:8080/"
    },
    "id": "fQtpDvUzKNzI",
    "outputId": "161614a6-8cb9-4baa-b5ff-cb828082bff0"
   },
   "outputs": [
    {
     "name": "stdout",
     "output_type": "stream",
     "text": [
      "  % Total    % Received % Xferd  Average Speed   Time    Time     Time  Current\n",
      "                                 Dload  Upload   Total   Spent    Left  Speed\n",
      "100  169k  100  169k    0     0   103k      0  0:00:01  0:00:01 --:--:--  103k\n"
     ]
    }
   ],
   "source": [
    "!curl -o ./mini-dataset.csv https://raw.githubusercontent.com/AlaFalaki/tutorial_notebooks/main/data/mini-llama-articles.csv"
   ]
  },
  {
   "cell_type": "markdown",
   "metadata": {
    "id": "zk-4alIxROo8"
   },
   "source": [
    "## Load the Articles\n"
   ]
  },
  {
   "cell_type": "code",
   "execution_count": 9,
   "metadata": {
    "colab": {
     "base_uri": "https://localhost:8080/"
    },
    "id": "_WER5lt0N7c5",
    "outputId": "e4255372-407b-4940-e001-6cc8078199ea"
   },
   "outputs": [
    {
     "data": {
      "text/plain": [
       "14"
      ]
     },
     "execution_count": 9,
     "metadata": {},
     "output_type": "execute_result"
    }
   ],
   "source": [
    "import csv\n",
    "\n",
    "rows = []\n",
    "\n",
    "# Load the file as a JSON\n",
    "with open(\"./mini-dataset.csv\", mode=\"r\", encoding=\"utf-8\") as file:\n",
    "    csv_reader = csv.reader(file)\n",
    "\n",
    "    for idx, row in enumerate(csv_reader):\n",
    "        if idx == 0:\n",
    "            continue\n",
    "            # Skip header row\n",
    "        rows.append(row)\n",
    "\n",
    "# The number of characters in the dataset.\n",
    "len(rows)"
   ]
  },
  {
   "cell_type": "markdown",
   "metadata": {
    "id": "wxEStggPdxYs"
   },
   "source": [
    "# Convert to Document obj\n"
   ]
  },
  {
   "cell_type": "code",
   "execution_count": 10,
   "metadata": {
    "id": "lFvW_886dxKX"
   },
   "outputs": [],
   "source": [
    "from llama_index.core import Document\n",
    "from llama_index.core.schema import TextNode\n",
    "\n",
    "# Convert the chunks to Document objects so the LlamaIndex framework can process them.\n",
    "documents = [\n",
    "    Document(\n",
    "        text=row[1],\n",
    "        metadata={\"title\": row[0], \"url\": row[2], \"source_name\": row[3]},\n",
    "    )\n",
    "    for row in rows\n",
    "]\n",
    "# By default, the node/chunks ids are set to random uuids. To ensure same id's per run, we manually set them.\n",
    "for idx, doc in enumerate(documents):\n",
    "    doc.id_ = f\"doc_{idx}\""
   ]
  },
  {
   "cell_type": "markdown",
   "metadata": {
    "id": "S17g2RYOjmf2"
   },
   "source": [
    "# Transforming\n"
   ]
  },
  {
   "cell_type": "code",
   "execution_count": 11,
   "metadata": {
    "id": "STACTMUR1z9N"
   },
   "outputs": [],
   "source": [
    "from llama_index.core.node_parser import TokenTextSplitter\n",
    "from llama_index.core.schema import BaseNode\n",
    "import hashlib\n",
    "\n",
    "\n",
    "def deterministic_id_func(i: int, doc: BaseNode) -> str:\n",
    "    \"\"\"Deterministic ID function for the text splitter.\n",
    "    This will be used to generate a unique repeatable identifier for each node.\"\"\"\n",
    "    unique_identifier = doc.id_ + str(i)\n",
    "    hasher = hashlib.sha256()\n",
    "    hasher.update(unique_identifier.encode(\"utf-8\"))\n",
    "    return hasher.hexdigest()\n",
    "\n",
    "\n",
    "text_splitter = TokenTextSplitter(\n",
    "    separator=\" \", chunk_size=512, chunk_overlap=128, id_func=deterministic_id_func\n",
    ")"
   ]
  },
  {
   "cell_type": "code",
   "execution_count": 12,
   "metadata": {
    "colab": {
     "base_uri": "https://localhost:8080/",
     "height": 81,
     "referenced_widgets": [
      "3899b901d232443a821837b1f93453ea",
      "f51c623ab24c4eccb72044edd17c26d0",
      "688b28a3781d4334b4ef06eefab1185c",
      "db9fa16416744cca8c8c32f4660ee824",
      "af096acec2d8433997ab669c7dba3dda",
      "cb3640bd576047c988e503fbdd2b8f8c",
      "7c774e8905a34f8990f79008ee459d32",
      "4a4774b2aa3a4ff09af600b57ced8344",
      "090ba8a7067a480caad4600c51a26764",
      "ea6c7f8257a6453bb79d7ab0ab40ab69",
      "0b4b91c5a6f543aa920fdf62a2937e8d",
      "86e14d7fdf31488a842bef1a5641f459",
      "ef7bac2328e74d3986bd736cb03a887a",
      "454abe0df86f4a41ac6546b7982771d8",
      "a1d04547397e4e77b3e9ec59584c7e91",
      "868f3342afba4f5a9c961f931291ab33",
      "7b1eddad84744dcaa0c8c352ae7f4d2b",
      "3f72e4b06c51437bafc1399acd14c2e4",
      "df0c86480b7241c2899e5ef50631959f",
      "4039da779d0f417391659b2a770a5be7",
      "ffcfae1447634dd9a33abc9f7d0a3a31",
      "038f8e91d55c48ba8f04e18b03aa8e3c"
     ]
    },
    "id": "CtdsIUQ81_hT",
    "outputId": "ef8b02b1-9768-4b4d-8324-e7a2e6ac6ef1"
   },
   "outputs": [
    {
     "data": {
      "application/vnd.jupyter.widget-view+json": {
       "model_id": "337e7080b2034d6c966e9eeb11dd0ed0",
       "version_major": 2,
       "version_minor": 0
      },
      "text/plain": [
       "Parsing nodes:   0%|          | 0/14 [00:00<?, ?it/s]"
      ]
     },
     "metadata": {},
     "output_type": "display_data"
    },
    {
     "data": {
      "application/vnd.jupyter.widget-view+json": {
       "model_id": "51a0703f832a414d9ec865c416af7dcd",
       "version_major": 2,
       "version_minor": 0
      },
      "text/plain": [
       "Generating embeddings:   0%|          | 0/108 [00:00<?, ?it/s]"
      ]
     },
     "metadata": {},
     "output_type": "display_data"
    },
    {
     "name": "stderr",
     "output_type": "stream",
     "text": [
      "Insert of existing embedding ID: 4ab5bd897f01474fc9b0049f95e31edae3ccd9e74d0f0acd3932b50a74d608b6\n",
      "Insert of existing embedding ID: e470fa0d001e50b3ec3088022462a94ea7c87dd80106411b7d120f90b379e977\n",
      "Insert of existing embedding ID: 4b3a13a10f7ea2464249fb6aa64e9f403f8151daf24133dbcffbfa0e01fa0d74\n",
      "Insert of existing embedding ID: 98e9cbb20d5a2f5ab9d5d9712f9e66ef7123b584e1e1985cebef6bd4f41c0858\n",
      "Insert of existing embedding ID: df6183049976174f912d271a7d08fda25e3086030c160fdc603face8a6000e00\n",
      "Insert of existing embedding ID: de49ab9024a434ca1cd1efba258fbaa9a3e2d9a1bca3ab4a0349220cc1e2754f\n",
      "Insert of existing embedding ID: 15268fd9c2a45644a0c49ca1b4897b4fabfe3005fccee48af0acc7eea7dd0e9c\n",
      "Insert of existing embedding ID: 6d646836e0c2e6830a4c6d3147c3b1d28d3e92351cf0be1d27f5f3a18c520e3d\n",
      "Insert of existing embedding ID: b7eaf40d5ed90dbefc226732645cf49e5f98fb471a1b56a4151f646b60891738\n",
      "Insert of existing embedding ID: 8bd2dacc5eca082fcea46f2e3aace5c8c3817dd817cffa9f1ab3800bd476a3d3\n",
      "Insert of existing embedding ID: 7d7e3d805418e033c4aa24a972a8358d33d94a60fef7af58a318efe9232be19b\n",
      "Insert of existing embedding ID: 567b14c826413d4ff28ecb510609350966136f2d0914c2d28eda5d8b3e646e82\n",
      "Insert of existing embedding ID: 2652e0efd386340481f4aafc7721f97d5f2f4a87ab452b04f4952275cf5a9d9b\n",
      "Insert of existing embedding ID: 34766658d6856917c5fd75bc7ed377030aaa94e6020424190e8f4a78b13cc0e5\n",
      "Insert of existing embedding ID: 5c3e9cc715caad19aa790a573f7e9b7e7e13e699694a5293fae7a1da112818ee\n",
      "Insert of existing embedding ID: cd053b50ba3d43b725ea4cb957a0d0bd8ad2f16aef47a87b56056d2891c237ce\n",
      "Insert of existing embedding ID: be37a750110aa95083ba1f01b25fd79e195cfb09272724ae43bd363226419229\n",
      "Insert of existing embedding ID: cb4e74d898bb0d095b09a2dd4df266921a0c17b3b27ff1b03bfa587843b4207d\n",
      "Insert of existing embedding ID: 8cf94b9369ba8da18d02172b9cbf885afb60cddd0a2381a86a81ca8e6a9b10f9\n",
      "Insert of existing embedding ID: e20f03d2063b6e0b4f922c00d62de19ee6657670a26577b04168e0bfc7b1eb42\n",
      "Insert of existing embedding ID: 892a22c623618faecd553782dd97454d8c081170c04598767f4a36f05a8a3bb2\n",
      "Insert of existing embedding ID: 2c17b2d996a4178952175483443612704c5dd7315f5b30beb7fb099ab044d68d\n",
      "Insert of existing embedding ID: 252e704b7a4e29a36e01e55086d2027184611e0f1bc3f4abd273b0246c5d0c43\n",
      "Insert of existing embedding ID: 53485f82f10af2df87678b8b4977e4aea87ea25f43b07cf62276798120705d49\n",
      "Insert of existing embedding ID: 58a0db6126e2d6858f1cf7cb3e95df17f07b67d02f2ef02567d04358279a6276\n",
      "Insert of existing embedding ID: ef0097732e6eed361247a1081f21a3688bdcfff0d8ec6db66c2bfd6381359bf0\n",
      "Insert of existing embedding ID: b5eeda2ed7d31c3d4f55c6dd4d95f8c3bc0c4a14e3ef371f92770f124632dbef\n",
      "Insert of existing embedding ID: fde5e2f6b5535701bf6cf2a3e296bc595289512bb47225748f69904a512d5bea\n",
      "Insert of existing embedding ID: 8286d989740b78f10c31a1452ad639165b59b8973eaa014edbd0ed888adccd8d\n",
      "Insert of existing embedding ID: 582874015861ee2f137ad3ae2e4de45f2fd52aba9c92bb8589416d210d89c3eb\n",
      "Insert of existing embedding ID: 9afbdeaea403deb0f61cdc3bca5b4a96afe98f4166b36b4f8606cc41a7c0a4c1\n",
      "Insert of existing embedding ID: b9507b49d2385ea4d7c6d656582f18b1a7ae64d6075ce9e2654788b4e8bcae8a\n",
      "Insert of existing embedding ID: 6f7cf5db827c32c8a735dd896b580efb8bdfb7fd45ebf0acd1e9eed5020b502f\n",
      "Insert of existing embedding ID: 38a78f7bcbaeae4dc00110122fa4fc83108ba82f7fcf0fb5a724195c6ef83c85\n",
      "Insert of existing embedding ID: 91e2d8c23a72466a8cd6bbc3a16ac0814a43b7c79b4da0345de6f1a5923efa19\n",
      "Insert of existing embedding ID: 76e1d67063713ec4c9c1c5d055a7edfb5ba0c445910200373d4675be0b941707\n",
      "Insert of existing embedding ID: 77c2dba0b606fc7d48f48508f56d5864ff9632a8179fee36c88446fd36ad4bc4\n",
      "Insert of existing embedding ID: 2bd15c93602c4856e678814faac0cbfc4e2881bacbcbccbe0dc756f764aa438f\n",
      "Insert of existing embedding ID: 7c0ff552ae4caad1b5fa1914f8c5ea0c907705192580cc127e76b245221805c1\n",
      "Insert of existing embedding ID: 375a1bf6285e85964292342467b055c3d4558095abcea5dcc7bf2532178e174e\n",
      "Insert of existing embedding ID: 85fa508670e60b79935ae7d11f981ff814dab38ff9f7a17058bbd7bf814e2a39\n",
      "Insert of existing embedding ID: 461b41572a7f92eaaa2db5ea8256e8f0977afac42f70f555a131d5fdfcaa4f9b\n",
      "Insert of existing embedding ID: b24bf1b2c3832f0f7d7afc99952a709167373f45b65aac0dc9bc29b2b1f6dca7\n",
      "Insert of existing embedding ID: 56b9500b587e8bf188557f35d5d3743ea2df8c2bdbe84be4fe25ce51f299bcca\n",
      "Insert of existing embedding ID: 3b98a6582d3cd433a8e0d36c3acd40ccb64838c97eb454923d0a2c75e2d4bf35\n",
      "Insert of existing embedding ID: e97bbe3d37bacb34902b4db67351799f1309541d4879e53b97fad08a4417304f\n",
      "Insert of existing embedding ID: ab651375c4bf52b30d0d709c5c1ac7c52e75399b0cdc1f1139c3d54cda15d0f4\n",
      "Insert of existing embedding ID: 1cce366d677f8376bf12534e297b90b03aca077aec33e886104e9e5ea7d51e5f\n",
      "Insert of existing embedding ID: 663f0f64773dbe54b88622b68e405f1567fce9a775e5c2b56243bd5ac7c14b64\n",
      "Insert of existing embedding ID: abaa50b7db8fbf0dab4c81d1b4d70df618de96dd409f6b6c049ccc90dfb3d349\n",
      "Insert of existing embedding ID: 2d5974c99c10fd2236a171b4b213b6f9b7dbaa9888d35bd6ebf63135b5540d3d\n",
      "Insert of existing embedding ID: ec9421d39825feed7e070c094dd2a261a3ce1ac756a615ac49ce62052495b70c\n",
      "Insert of existing embedding ID: 2cdc07b5cd91addeca7dafc0fcac179c1303cece7ebe9f3e0a71701e8cf827d7\n",
      "Insert of existing embedding ID: ead0550fc9f66c4a1cff4596f41f5d6c6b374111f2a3b495ab2044ea95f6dada\n",
      "Insert of existing embedding ID: f707756065d1f788b41fb97fcef81979e1fd241dbfa4034a24bec8e57b648482\n",
      "Insert of existing embedding ID: 636f98cf8754c3a4759da02aa11a3f2aa7cdeb848a4980ec99300ece4a2e92fd\n",
      "Insert of existing embedding ID: 2f429ec2a936a3dcd37504333de59d17ccd6f07f944ae6f5057aa8d29668662b\n",
      "Insert of existing embedding ID: 9c39187e90964fb2503e9a6f9b6da69b965c9c8b53c57f3c0e4de3593e582bd9\n",
      "Insert of existing embedding ID: 60efdb2b99a3c7d843c7b470c81f561f033b31f0c5ba8a46fa6ca04c7cc421df\n",
      "Insert of existing embedding ID: 17eeb609fad179ea13a99a4c7c967a3d4f78ad2a0f1fcb520ca3a74c9fdc3a49\n",
      "Insert of existing embedding ID: a03f36ef8f17234d2c3de94cfb8f7f9a2c8a9ef1e42a0af06b1f150f2eada805\n",
      "Insert of existing embedding ID: 39372868ea13500bdbb9e2e4fcee00653c352e0a03e24e0d0a77a1b6e008221c\n",
      "Insert of existing embedding ID: f798d2742de5deb90469cc4e0d63e17050960d3f94cd1d8004c3a1052dabd303\n",
      "Insert of existing embedding ID: e1b95557b9446b4d7a16a21a8e8c2acfcca5d67c510fe0a515369d030649e222\n",
      "Insert of existing embedding ID: 0616015c4c1671255a7809472a7ef05d5a698e0ee274e630cf212431b0f43808\n",
      "Insert of existing embedding ID: 760f192e2d4e2ef6d28bf514e6ce2283c939d6250becafd6c063450f5a803ba9\n",
      "Insert of existing embedding ID: 7785d72a4a2f8586d81a9b615dcd0f4cab7cf46f0c5cb64dce75188d7ff9ba80\n",
      "Insert of existing embedding ID: 6071d5b83d417ed7b2f47ea8dd5a380039620c6850ce1c6b48c07cb45072afc1\n",
      "Insert of existing embedding ID: 1a6600c1f5e5914041ed40bc246aacf63a7ec90454c4cd6cbb1e72da559c1a0e\n",
      "Insert of existing embedding ID: 2a289d03d479ea73b91440355275ca7a0aa8e70e2513608bbaef404a93e0a101\n",
      "Insert of existing embedding ID: 4831172fc03283befa6bb0f0752b2cf8e5f59a22269e4657ecc09c39a37cfa44\n",
      "Insert of existing embedding ID: 3aff755a96b44a09548c6b1964e665e354a3344b6e2214098f4bff55ae3413c5\n",
      "Insert of existing embedding ID: 88f631025eca5d5be38b898c11dd6e3403c3c5ed4d20b3824b8101d9842bd97f\n",
      "Insert of existing embedding ID: 5a885d39087ac603de1179cb84c9367e9c95e5144ab50d02df66d85855fc0531\n",
      "Insert of existing embedding ID: e35033d47f453f283f231643acf63fbe3271357aeec257539c182fa907950681\n",
      "Insert of existing embedding ID: d7a598ee33c540081edd5c4c063a63253146868aa40ff9bbf79b6e60b42acd83\n",
      "Insert of existing embedding ID: 5cd7638552ab4fc482002c5d33c8c439c5b08b3f2c49e0a56406cf922b760ae3\n",
      "Insert of existing embedding ID: a29added10bfc900adfdc0ff58762fc8d1c9c4c8dfe8685644e15e40f3c05f99\n",
      "Insert of existing embedding ID: f93d692e26a4d3c2ff0160a00974e511af0bee82761a35378646090609b5096a\n",
      "Insert of existing embedding ID: 0e0d626360827416b55ec93f1854f38733746ad1133e5bc2da2e9f166800d363\n",
      "Insert of existing embedding ID: 26e563cb86fc604f89f608f0aea428af8574a9bf1733a4799348c5f82ae33df3\n",
      "Insert of existing embedding ID: 56e759ee4c342c6abb3d8d8c1c7b95109933108c2b82332b1770f9beaad3f6b9\n",
      "Insert of existing embedding ID: 1349ea9d513a7e5b9f88b2ee83b38f0e641abc53336a3c1d16d1d40c77086fa0\n",
      "Insert of existing embedding ID: 2a0250238b14774dba4d228d65aa639a690b139438efccceb60c765e468a3a0c\n",
      "Insert of existing embedding ID: f3241b6351791403dffc989cd90a6f9e3cfc889ca10db61c7ad2a8dc574d6aad\n",
      "Insert of existing embedding ID: 9616970be61997dc658720f9c1a161f947ab3eb514b1b7f03e2958608ae921b8\n",
      "Insert of existing embedding ID: fb9fdab3042bb38ee9eef9fb28ba206ce937f565dabba093db46254ff19b4bbf\n",
      "Insert of existing embedding ID: 28ea3bd2ef701fec4a9a9ce6d6a08b6336853e96095168f5bf418536c4bae297\n",
      "Insert of existing embedding ID: cffcf0520b313d6fca6d9eaa67ba7e7e8f5519c10ca0f589304e60d7cb2c4ba6\n",
      "Insert of existing embedding ID: 3556481522a40f4b76b6fd91eccdd281bafe748fe38b36f96e90bc59133ce1cd\n",
      "Insert of existing embedding ID: 83ee49bd21571b536cb61b6cd61e2f7fc4f3ddbf1e5aa3635dae85468997ff48\n",
      "Insert of existing embedding ID: f7431c90fc9173a2c7ea066166097632a365b1e761ce6ce669f29c8628110cbb\n",
      "Insert of existing embedding ID: dc8d9ca20449f03e0d752cf9c75faf84369193d95951bacba9dddbf0d7fe9273\n",
      "Insert of existing embedding ID: 82622d900f8c83000f0c75145351d26374833ab456bc70d31b71d1e65daef9f0\n",
      "Insert of existing embedding ID: 5fee65260a21f9ee0835dab817fba3ef6e79f253ef990d148f963dbdee91cdf3\n",
      "Insert of existing embedding ID: 1cda21ed21749db131dbc066728d54413387dfd2ad7115cd9026182cecdc7003\n",
      "Insert of existing embedding ID: e21ae95d09ae67ca4dabf8a75cd3a16f78a96dbdc9b8051418ac6a94f535f48e\n",
      "Insert of existing embedding ID: 99cfcef446616528546ea91078e562427e097d84b2f37628c9487419f9d88716\n",
      "Insert of existing embedding ID: 1e76535804dbe9eee7314ea79e14e8f3aadf04dd1d561c411eef8e8e76e177df\n",
      "Insert of existing embedding ID: 985e22cfddd3066e0bd6c04fe826ffb13b281b7afbc9b762fab5f4a10ec75161\n",
      "Insert of existing embedding ID: fb68a1e3255fef744120387b55c4fa859fe0e5908bc5906729867c2ad4821217\n",
      "Insert of existing embedding ID: c5c2d7f9960994a3810cf19a7b98f28516c020fb2ac3b52d624aaf09872bb6b7\n",
      "Insert of existing embedding ID: 4f72cdfed884a4e385c723b952c4616a7fb2dbbf6f7482828b33161735e77331\n",
      "Insert of existing embedding ID: ef5a3fdf1f8b689057e76000b4e2d10a98aaf2490066141277b0fd5db350bca9\n",
      "Insert of existing embedding ID: 768b6fd49ab75703c694a6281d5b276114bdb094d335a9744d54685e6d5a7de8\n",
      "Insert of existing embedding ID: 1fd92d3abd050b65219d4ec0f87dc46ef657502096f3bc20daf012e5867e4755\n",
      "Insert of existing embedding ID: 4f53f92bee39a35bd0d6b4b8f81a7d596c5a6d109338bcae2fa0f21b3237f73a\n",
      "Insert of existing embedding ID: c48c271334c619c6f14c1c84025caf638cb3b61b898bdd6c6be317a698ea4db7\n",
      "Add of existing embedding ID: 4ab5bd897f01474fc9b0049f95e31edae3ccd9e74d0f0acd3932b50a74d608b6\n",
      "Add of existing embedding ID: e470fa0d001e50b3ec3088022462a94ea7c87dd80106411b7d120f90b379e977\n",
      "Add of existing embedding ID: 4b3a13a10f7ea2464249fb6aa64e9f403f8151daf24133dbcffbfa0e01fa0d74\n",
      "Add of existing embedding ID: 98e9cbb20d5a2f5ab9d5d9712f9e66ef7123b584e1e1985cebef6bd4f41c0858\n",
      "Add of existing embedding ID: df6183049976174f912d271a7d08fda25e3086030c160fdc603face8a6000e00\n",
      "Add of existing embedding ID: de49ab9024a434ca1cd1efba258fbaa9a3e2d9a1bca3ab4a0349220cc1e2754f\n",
      "Add of existing embedding ID: 15268fd9c2a45644a0c49ca1b4897b4fabfe3005fccee48af0acc7eea7dd0e9c\n",
      "Add of existing embedding ID: 6d646836e0c2e6830a4c6d3147c3b1d28d3e92351cf0be1d27f5f3a18c520e3d\n",
      "Add of existing embedding ID: b7eaf40d5ed90dbefc226732645cf49e5f98fb471a1b56a4151f646b60891738\n",
      "Add of existing embedding ID: 8bd2dacc5eca082fcea46f2e3aace5c8c3817dd817cffa9f1ab3800bd476a3d3\n",
      "Add of existing embedding ID: 7d7e3d805418e033c4aa24a972a8358d33d94a60fef7af58a318efe9232be19b\n",
      "Add of existing embedding ID: 567b14c826413d4ff28ecb510609350966136f2d0914c2d28eda5d8b3e646e82\n",
      "Add of existing embedding ID: 2652e0efd386340481f4aafc7721f97d5f2f4a87ab452b04f4952275cf5a9d9b\n",
      "Add of existing embedding ID: 34766658d6856917c5fd75bc7ed377030aaa94e6020424190e8f4a78b13cc0e5\n",
      "Add of existing embedding ID: 5c3e9cc715caad19aa790a573f7e9b7e7e13e699694a5293fae7a1da112818ee\n",
      "Add of existing embedding ID: cd053b50ba3d43b725ea4cb957a0d0bd8ad2f16aef47a87b56056d2891c237ce\n",
      "Add of existing embedding ID: be37a750110aa95083ba1f01b25fd79e195cfb09272724ae43bd363226419229\n",
      "Add of existing embedding ID: cb4e74d898bb0d095b09a2dd4df266921a0c17b3b27ff1b03bfa587843b4207d\n",
      "Add of existing embedding ID: 8cf94b9369ba8da18d02172b9cbf885afb60cddd0a2381a86a81ca8e6a9b10f9\n",
      "Add of existing embedding ID: e20f03d2063b6e0b4f922c00d62de19ee6657670a26577b04168e0bfc7b1eb42\n",
      "Add of existing embedding ID: 892a22c623618faecd553782dd97454d8c081170c04598767f4a36f05a8a3bb2\n",
      "Add of existing embedding ID: 2c17b2d996a4178952175483443612704c5dd7315f5b30beb7fb099ab044d68d\n",
      "Add of existing embedding ID: 252e704b7a4e29a36e01e55086d2027184611e0f1bc3f4abd273b0246c5d0c43\n",
      "Add of existing embedding ID: 53485f82f10af2df87678b8b4977e4aea87ea25f43b07cf62276798120705d49\n",
      "Add of existing embedding ID: 58a0db6126e2d6858f1cf7cb3e95df17f07b67d02f2ef02567d04358279a6276\n",
      "Add of existing embedding ID: ef0097732e6eed361247a1081f21a3688bdcfff0d8ec6db66c2bfd6381359bf0\n",
      "Add of existing embedding ID: b5eeda2ed7d31c3d4f55c6dd4d95f8c3bc0c4a14e3ef371f92770f124632dbef\n",
      "Add of existing embedding ID: fde5e2f6b5535701bf6cf2a3e296bc595289512bb47225748f69904a512d5bea\n",
      "Add of existing embedding ID: 8286d989740b78f10c31a1452ad639165b59b8973eaa014edbd0ed888adccd8d\n",
      "Add of existing embedding ID: 582874015861ee2f137ad3ae2e4de45f2fd52aba9c92bb8589416d210d89c3eb\n",
      "Add of existing embedding ID: 9afbdeaea403deb0f61cdc3bca5b4a96afe98f4166b36b4f8606cc41a7c0a4c1\n",
      "Add of existing embedding ID: b9507b49d2385ea4d7c6d656582f18b1a7ae64d6075ce9e2654788b4e8bcae8a\n",
      "Add of existing embedding ID: 6f7cf5db827c32c8a735dd896b580efb8bdfb7fd45ebf0acd1e9eed5020b502f\n",
      "Add of existing embedding ID: 38a78f7bcbaeae4dc00110122fa4fc83108ba82f7fcf0fb5a724195c6ef83c85\n",
      "Add of existing embedding ID: 91e2d8c23a72466a8cd6bbc3a16ac0814a43b7c79b4da0345de6f1a5923efa19\n",
      "Add of existing embedding ID: 76e1d67063713ec4c9c1c5d055a7edfb5ba0c445910200373d4675be0b941707\n",
      "Add of existing embedding ID: 77c2dba0b606fc7d48f48508f56d5864ff9632a8179fee36c88446fd36ad4bc4\n",
      "Add of existing embedding ID: 2bd15c93602c4856e678814faac0cbfc4e2881bacbcbccbe0dc756f764aa438f\n",
      "Add of existing embedding ID: 7c0ff552ae4caad1b5fa1914f8c5ea0c907705192580cc127e76b245221805c1\n",
      "Add of existing embedding ID: 375a1bf6285e85964292342467b055c3d4558095abcea5dcc7bf2532178e174e\n",
      "Add of existing embedding ID: 85fa508670e60b79935ae7d11f981ff814dab38ff9f7a17058bbd7bf814e2a39\n",
      "Add of existing embedding ID: 461b41572a7f92eaaa2db5ea8256e8f0977afac42f70f555a131d5fdfcaa4f9b\n",
      "Add of existing embedding ID: b24bf1b2c3832f0f7d7afc99952a709167373f45b65aac0dc9bc29b2b1f6dca7\n",
      "Add of existing embedding ID: 56b9500b587e8bf188557f35d5d3743ea2df8c2bdbe84be4fe25ce51f299bcca\n",
      "Add of existing embedding ID: 3b98a6582d3cd433a8e0d36c3acd40ccb64838c97eb454923d0a2c75e2d4bf35\n",
      "Add of existing embedding ID: e97bbe3d37bacb34902b4db67351799f1309541d4879e53b97fad08a4417304f\n",
      "Add of existing embedding ID: ab651375c4bf52b30d0d709c5c1ac7c52e75399b0cdc1f1139c3d54cda15d0f4\n",
      "Add of existing embedding ID: 1cce366d677f8376bf12534e297b90b03aca077aec33e886104e9e5ea7d51e5f\n",
      "Add of existing embedding ID: 663f0f64773dbe54b88622b68e405f1567fce9a775e5c2b56243bd5ac7c14b64\n",
      "Add of existing embedding ID: abaa50b7db8fbf0dab4c81d1b4d70df618de96dd409f6b6c049ccc90dfb3d349\n",
      "Add of existing embedding ID: 2d5974c99c10fd2236a171b4b213b6f9b7dbaa9888d35bd6ebf63135b5540d3d\n",
      "Add of existing embedding ID: ec9421d39825feed7e070c094dd2a261a3ce1ac756a615ac49ce62052495b70c\n",
      "Add of existing embedding ID: 2cdc07b5cd91addeca7dafc0fcac179c1303cece7ebe9f3e0a71701e8cf827d7\n",
      "Add of existing embedding ID: ead0550fc9f66c4a1cff4596f41f5d6c6b374111f2a3b495ab2044ea95f6dada\n",
      "Add of existing embedding ID: f707756065d1f788b41fb97fcef81979e1fd241dbfa4034a24bec8e57b648482\n",
      "Add of existing embedding ID: 636f98cf8754c3a4759da02aa11a3f2aa7cdeb848a4980ec99300ece4a2e92fd\n",
      "Add of existing embedding ID: 2f429ec2a936a3dcd37504333de59d17ccd6f07f944ae6f5057aa8d29668662b\n",
      "Add of existing embedding ID: 9c39187e90964fb2503e9a6f9b6da69b965c9c8b53c57f3c0e4de3593e582bd9\n",
      "Add of existing embedding ID: 60efdb2b99a3c7d843c7b470c81f561f033b31f0c5ba8a46fa6ca04c7cc421df\n",
      "Add of existing embedding ID: 17eeb609fad179ea13a99a4c7c967a3d4f78ad2a0f1fcb520ca3a74c9fdc3a49\n",
      "Add of existing embedding ID: a03f36ef8f17234d2c3de94cfb8f7f9a2c8a9ef1e42a0af06b1f150f2eada805\n",
      "Add of existing embedding ID: 39372868ea13500bdbb9e2e4fcee00653c352e0a03e24e0d0a77a1b6e008221c\n",
      "Add of existing embedding ID: f798d2742de5deb90469cc4e0d63e17050960d3f94cd1d8004c3a1052dabd303\n",
      "Add of existing embedding ID: e1b95557b9446b4d7a16a21a8e8c2acfcca5d67c510fe0a515369d030649e222\n",
      "Add of existing embedding ID: 0616015c4c1671255a7809472a7ef05d5a698e0ee274e630cf212431b0f43808\n",
      "Add of existing embedding ID: 760f192e2d4e2ef6d28bf514e6ce2283c939d6250becafd6c063450f5a803ba9\n",
      "Add of existing embedding ID: 7785d72a4a2f8586d81a9b615dcd0f4cab7cf46f0c5cb64dce75188d7ff9ba80\n",
      "Add of existing embedding ID: 6071d5b83d417ed7b2f47ea8dd5a380039620c6850ce1c6b48c07cb45072afc1\n",
      "Add of existing embedding ID: 1a6600c1f5e5914041ed40bc246aacf63a7ec90454c4cd6cbb1e72da559c1a0e\n",
      "Add of existing embedding ID: 2a289d03d479ea73b91440355275ca7a0aa8e70e2513608bbaef404a93e0a101\n",
      "Add of existing embedding ID: 4831172fc03283befa6bb0f0752b2cf8e5f59a22269e4657ecc09c39a37cfa44\n",
      "Add of existing embedding ID: 3aff755a96b44a09548c6b1964e665e354a3344b6e2214098f4bff55ae3413c5\n",
      "Add of existing embedding ID: 88f631025eca5d5be38b898c11dd6e3403c3c5ed4d20b3824b8101d9842bd97f\n",
      "Add of existing embedding ID: 5a885d39087ac603de1179cb84c9367e9c95e5144ab50d02df66d85855fc0531\n",
      "Add of existing embedding ID: e35033d47f453f283f231643acf63fbe3271357aeec257539c182fa907950681\n",
      "Add of existing embedding ID: d7a598ee33c540081edd5c4c063a63253146868aa40ff9bbf79b6e60b42acd83\n",
      "Add of existing embedding ID: 5cd7638552ab4fc482002c5d33c8c439c5b08b3f2c49e0a56406cf922b760ae3\n",
      "Add of existing embedding ID: a29added10bfc900adfdc0ff58762fc8d1c9c4c8dfe8685644e15e40f3c05f99\n",
      "Add of existing embedding ID: f93d692e26a4d3c2ff0160a00974e511af0bee82761a35378646090609b5096a\n",
      "Add of existing embedding ID: 0e0d626360827416b55ec93f1854f38733746ad1133e5bc2da2e9f166800d363\n",
      "Add of existing embedding ID: 26e563cb86fc604f89f608f0aea428af8574a9bf1733a4799348c5f82ae33df3\n",
      "Add of existing embedding ID: 56e759ee4c342c6abb3d8d8c1c7b95109933108c2b82332b1770f9beaad3f6b9\n",
      "Add of existing embedding ID: 1349ea9d513a7e5b9f88b2ee83b38f0e641abc53336a3c1d16d1d40c77086fa0\n",
      "Add of existing embedding ID: 2a0250238b14774dba4d228d65aa639a690b139438efccceb60c765e468a3a0c\n",
      "Add of existing embedding ID: f3241b6351791403dffc989cd90a6f9e3cfc889ca10db61c7ad2a8dc574d6aad\n",
      "Add of existing embedding ID: 9616970be61997dc658720f9c1a161f947ab3eb514b1b7f03e2958608ae921b8\n",
      "Add of existing embedding ID: fb9fdab3042bb38ee9eef9fb28ba206ce937f565dabba093db46254ff19b4bbf\n",
      "Add of existing embedding ID: 28ea3bd2ef701fec4a9a9ce6d6a08b6336853e96095168f5bf418536c4bae297\n",
      "Add of existing embedding ID: cffcf0520b313d6fca6d9eaa67ba7e7e8f5519c10ca0f589304e60d7cb2c4ba6\n",
      "Add of existing embedding ID: 3556481522a40f4b76b6fd91eccdd281bafe748fe38b36f96e90bc59133ce1cd\n",
      "Add of existing embedding ID: 83ee49bd21571b536cb61b6cd61e2f7fc4f3ddbf1e5aa3635dae85468997ff48\n",
      "Add of existing embedding ID: f7431c90fc9173a2c7ea066166097632a365b1e761ce6ce669f29c8628110cbb\n",
      "Add of existing embedding ID: dc8d9ca20449f03e0d752cf9c75faf84369193d95951bacba9dddbf0d7fe9273\n",
      "Add of existing embedding ID: 82622d900f8c83000f0c75145351d26374833ab456bc70d31b71d1e65daef9f0\n",
      "Add of existing embedding ID: 5fee65260a21f9ee0835dab817fba3ef6e79f253ef990d148f963dbdee91cdf3\n",
      "Add of existing embedding ID: 1cda21ed21749db131dbc066728d54413387dfd2ad7115cd9026182cecdc7003\n",
      "Add of existing embedding ID: e21ae95d09ae67ca4dabf8a75cd3a16f78a96dbdc9b8051418ac6a94f535f48e\n",
      "Add of existing embedding ID: 99cfcef446616528546ea91078e562427e097d84b2f37628c9487419f9d88716\n",
      "Add of existing embedding ID: 1e76535804dbe9eee7314ea79e14e8f3aadf04dd1d561c411eef8e8e76e177df\n",
      "Add of existing embedding ID: 985e22cfddd3066e0bd6c04fe826ffb13b281b7afbc9b762fab5f4a10ec75161\n",
      "Add of existing embedding ID: fb68a1e3255fef744120387b55c4fa859fe0e5908bc5906729867c2ad4821217\n",
      "Add of existing embedding ID: c5c2d7f9960994a3810cf19a7b98f28516c020fb2ac3b52d624aaf09872bb6b7\n",
      "Add of existing embedding ID: 4f72cdfed884a4e385c723b952c4616a7fb2dbbf6f7482828b33161735e77331\n",
      "Add of existing embedding ID: ef5a3fdf1f8b689057e76000b4e2d10a98aaf2490066141277b0fd5db350bca9\n",
      "Add of existing embedding ID: 768b6fd49ab75703c694a6281d5b276114bdb094d335a9744d54685e6d5a7de8\n",
      "Add of existing embedding ID: 1fd92d3abd050b65219d4ec0f87dc46ef657502096f3bc20daf012e5867e4755\n",
      "Add of existing embedding ID: 4f53f92bee39a35bd0d6b4b8f81a7d596c5a6d109338bcae2fa0f21b3237f73a\n",
      "Add of existing embedding ID: c48c271334c619c6f14c1c84025caf638cb3b61b898bdd6c6be317a698ea4db7\n"
     ]
    }
   ],
   "source": [
    "from llama_index.embeddings.openai import OpenAIEmbedding\n",
    "from llama_index.core.ingestion import IngestionPipeline\n",
    "\n",
    "pipeline = IngestionPipeline(\n",
    "    transformations=[\n",
    "        text_splitter,\n",
    "        OpenAIEmbedding(model = 'text-embedding-3-small'),\n",
    "    ],\n",
    "    vector_store=vector_store,\n",
    ")\n",
    "\n",
    "nodes = pipeline.run(documents=documents, show_progress=True)"
   ]
  },
  {
   "cell_type": "markdown",
   "metadata": {
    "id": "EV0ll57p46Dc"
   },
   "source": [
    "# Load Indexes\n"
   ]
  },
  {
   "cell_type": "code",
   "execution_count": 13,
   "metadata": {
    "id": "HbT3-kRO4Qpt"
   },
   "outputs": [],
   "source": [
    "# Create your index\n",
    "from llama_index.core import VectorStoreIndex\n",
    "\n",
    "index = VectorStoreIndex.from_vector_store(vector_store)"
   ]
  },
  {
   "cell_type": "code",
   "execution_count": 14,
   "metadata": {
    "id": "sb61DWU84bHP"
   },
   "outputs": [],
   "source": [
    "from llama_index.llms.gemini import Gemini\n",
    "\n",
    "# Define a query engine that is responsible for retrieving related pieces of text,\n",
    "# and using a LLM to formulate the final answer.\n",
    "\n",
    "llm = Gemini(model=\"models/gemini-2.0-flash\", temperature=0.3, max_tokens=512)\n",
    "query_engine = index.as_query_engine(llm=llm, similarity_top_k=5)"
   ]
  },
  {
   "cell_type": "code",
   "execution_count": 15,
   "metadata": {
    "id": "G32W2LMMCmnv"
   },
   "outputs": [],
   "source": [
    "res = query_engine.query(\"How many parameters LLaMA 2 model has?\")"
   ]
  },
  {
   "cell_type": "code",
   "execution_count": 16,
   "metadata": {
    "colab": {
     "base_uri": "https://localhost:8080/",
     "height": 53
    },
    "id": "obc20cU5Cxf2",
    "outputId": "985145fb-a319-4655-d5a9-a8cc3568f7b4"
   },
   "outputs": [
    {
     "data": {
      "text/plain": [
       "'The Llama 2 model is available in four sizes: 7 billion, 13 billion, 34 billion, and 70 billion parameters.\\n'"
      ]
     },
     "execution_count": 16,
     "metadata": {},
     "output_type": "execute_result"
    }
   ],
   "source": [
    "res.response"
   ]
  },
  {
   "cell_type": "code",
   "execution_count": 17,
   "metadata": {
    "colab": {
     "base_uri": "https://localhost:8080/"
    },
    "id": "oIAO-saJCzYe",
    "outputId": "a328a2be-9f80-4938-a992-400b7e0cbc3e"
   },
   "outputs": [
    {
     "name": "stdout",
     "output_type": "stream",
     "text": [
      "Node ID\t 9afbdeaea403deb0f61cdc3bca5b4a96afe98f4166b36b4f8606cc41a7c0a4c1\n",
      "Title\t Fine-Tuning a Llama-2 7B Model for Python Code Generation\n",
      "Score\t 0.3664011846530983\n",
      "-_-_-_-_-_-_-_-_-_-_-_-_-_-_-_-_-_-_-_-_\n",
      "Node ID\t b9507b49d2385ea4d7c6d656582f18b1a7ae64d6075ce9e2654788b4e8bcae8a\n",
      "Title\t Fine-Tuning a Llama-2 7B Model for Python Code Generation\n",
      "Score\t 0.3644145915142922\n",
      "-_-_-_-_-_-_-_-_-_-_-_-_-_-_-_-_-_-_-_-_\n",
      "Node ID\t fde5e2f6b5535701bf6cf2a3e296bc595289512bb47225748f69904a512d5bea\n",
      "Title\t Exploring Large Language Models -Part 3\n",
      "Score\t 0.3612243418026971\n",
      "-_-_-_-_-_-_-_-_-_-_-_-_-_-_-_-_-_-_-_-_\n",
      "Node ID\t f707756065d1f788b41fb97fcef81979e1fd241dbfa4034a24bec8e57b648482\n",
      "Title\t Meta's Llama 2: Revolutionizing Open Source Language Models for Commercial Use\n",
      "Score\t 0.3567710190861099\n",
      "-_-_-_-_-_-_-_-_-_-_-_-_-_-_-_-_-_-_-_-_\n",
      "Node ID\t 58a0db6126e2d6858f1cf7cb3e95df17f07b67d02f2ef02567d04358279a6276\n",
      "Title\t Exploring Large Language Models -Part 3\n",
      "Score\t 0.35218337016784906\n",
      "-_-_-_-_-_-_-_-_-_-_-_-_-_-_-_-_-_-_-_-_\n"
     ]
    }
   ],
   "source": [
    "for src in res.source_nodes:\n",
    "    print(\"Node ID\\t\", src.node_id)\n",
    "    print(\"Title\\t\", src.metadata[\"title\"])\n",
    "    print(\"Score\\t\", src.score)\n",
    "    print(\"-_\" * 20)"
   ]
  },
  {
   "cell_type": "markdown",
   "metadata": {
    "id": "d4xxZHbdN0lK"
   },
   "source": [
    "# Evaluate the retrieval process and quality of answers\n",
    "\n",
    "We can evaluate our RAG system with a dataset of questions and associated chunks. Given a question, we can see if the RAG system retrieves the correct chunks of text that can answer the question.\n",
    "\n",
    "You can generate a synthetic dataset with an LLM such as `gemini-1.5-flash` or create an authentic and manually curated dataset.\n",
    "\n",
    "Note that a **well curated dataset will always be a better option**, especially for a specific domain or use case.\n"
   ]
  },
  {
   "cell_type": "markdown",
   "metadata": {
    "id": "SuYIj1tD1Hwv"
   },
   "source": [
    "In our example, we will generate a synthetic dataset using `gemini-1.5-flash` to make it simple.\n",
    "\n",
    "This is the default prompt that the `generate_question_context_pairs` function will uses:\n",
    "\n",
    "```python\n",
    "DEFAULT_QA_GENERATE_PROMPT_TMPL = \"\"\"\\\n",
    "Context information is below.\n",
    "\n",
    "---------------------\n",
    "{context_str}\n",
    "---------------------\n",
    "\n",
    "Given the context information and no prior knowledge,\n",
    "generate only questions based on the below query.\n",
    "\n",
    "You are a Teacher/Professor. Your task is to setup \\\n",
    "{num_questions_per_chunk} questions for an upcoming \\\n",
    "quiz/examination. The questions should be diverse in nature \\\n",
    "across the document. Restrict the questions to the \\\n",
    "context information provided.\"\n",
    "\"\"\"\n",
    "```\n"
   ]
  },
  {
   "cell_type": "code",
   "execution_count": 18,
   "metadata": {
    "colab": {
     "base_uri": "https://localhost:8080/",
     "height": 34
    },
    "id": "_kCbMX67TqG-",
    "outputId": "28e5f9c0-c8b1-4ea7-cb75-5d977a8c86b7"
   },
   "outputs": [
    {
     "name": "stderr",
     "output_type": "stream",
     "text": [
      "100%|████████████████████████████████████████████████████████████████████████████████████████████████████████████████████████████████████████████████████████| 25/25 [02:01<00:00,  4.87s/it]\n"
     ]
    }
   ],
   "source": [
    "# Free Tier-Gemini API key\n",
    "from llama_index.core.llms.utils import LLM\n",
    "from llama_index.core.schema import MetadataMode, TextNode\n",
    "from tqdm import tqdm\n",
    "import json\n",
    "import re\n",
    "import uuid\n",
    "import warnings\n",
    "import time\n",
    "from typing import Dict, List, Tuple\n",
    "from llama_index.core.evaluation import EmbeddingQAFinetuneDataset\n",
    "\n",
    "DEFAULT_QA_GENERATE_PROMPT_TMPL = \"\"\"\\\n",
    "Context information is below.\n",
    "\n",
    "---------------------\n",
    "{context_str}\n",
    "---------------------\n",
    "\n",
    "Given the context information and not prior knowledge.\n",
    "generate only questions based on the below query.\n",
    "\n",
    "You are a Teacher/ Professor. Your task is to setup \\\n",
    "{num_questions_per_chunk} questions for an upcoming \\\n",
    "quiz/examination. The questions should be diverse in nature \\\n",
    "across the document. Restrict the questions to the \\\n",
    "context information provided.\"\n",
    "\"\"\"\n",
    "\n",
    "def generate_question_context_pairs(\n",
    "    nodes: List[TextNode],\n",
    "    llm: LLM,\n",
    "    qa_generate_prompt_tmpl: str = DEFAULT_QA_GENERATE_PROMPT_TMPL,\n",
    "    num_questions_per_chunk: int = 2,\n",
    "    request_delay: float = 2.0\n",
    ") -> EmbeddingQAFinetuneDataset:\n",
    "    \"\"\"Generate examples given a set of nodes with delays between requests.\"\"\"\n",
    "    node_dict = {\n",
    "        node.node_id: node.get_content(metadata_mode=MetadataMode.NONE)\n",
    "        for node in nodes\n",
    "    }\n",
    "\n",
    "    queries = {}\n",
    "    relevant_docs = {}\n",
    "\n",
    "    for node_id, text in tqdm(node_dict.items()):\n",
    "        query = qa_generate_prompt_tmpl.format(\n",
    "            context_str=text, num_questions_per_chunk=num_questions_per_chunk\n",
    "        )\n",
    "        response = llm.complete(query)\n",
    "\n",
    "        result = str(response).strip().split(\"\\n\")\n",
    "        questions = [\n",
    "            re.sub(r\"^\\d+[\\).\\s]\", \"\", question).strip() for question in result\n",
    "        ]\n",
    "        questions = [question for question in questions if len(question) > 0][\n",
    "            :num_questions_per_chunk\n",
    "        ]\n",
    "\n",
    "        num_questions_generated = len(questions)\n",
    "        if num_questions_generated < num_questions_per_chunk:\n",
    "            warnings.warn(\n",
    "                f\"Fewer questions generated ({num_questions_generated}) \"\n",
    "                f\"than requested ({num_questions_per_chunk}).\"\n",
    "            )\n",
    "\n",
    "        for question in questions:\n",
    "            question_id = str(uuid.uuid4())\n",
    "            queries[question_id] = question\n",
    "            relevant_docs[question_id] = [node_id]\n",
    "\n",
    "        time.sleep(request_delay)\n",
    "\n",
    "    return EmbeddingQAFinetuneDataset(\n",
    "        queries=queries, corpus=node_dict, relevant_docs=relevant_docs\n",
    "    )\n",
    "\n",
    "#from llama_index.core.evaluation import generate_question_context_pairs\n",
    "from llama_index.llms.gemini import Gemini\n",
    "\n",
    "llm = Gemini(model=\"models/gemini-1.5-flash\", temperature=1, max_tokens=512)\n",
    "\n",
    "rag_eval_dataset = generate_question_context_pairs(\n",
    "    nodes[:25],\n",
    "    llm=llm,\n",
    "    num_questions_per_chunk=1,\n",
    "    request_delay=4\n",
    ")\n",
    "\n",
    "# Save the dataset as a json file for later use\n",
    "rag_eval_dataset.save_json(\"./rag_eval_dataset.json\")\n"
   ]
  },
  {
   "cell_type": "code",
   "execution_count": null,
   "metadata": {
    "id": "jhHLA3he1Hww"
   },
   "outputs": [],
   "source": [
    "# #Paid-Gemini API Key\n",
    "\n",
    "# from llama_index.core.evaluation import generate_question_context_pairs\n",
    "# from llama_index.llms.gemini import Gemini\n",
    "\n",
    "# llm = Gemini(model=\"models/gemini-1.5-flash\", temperature=1, max_tokens=512)\n",
    "# rag_eval_dataset = generate_question_context_pairs(nodes, llm=llm, num_questions_per_chunk=1)\n",
    "\n",
    "# # We can save the dataset as a json file for later use.\n",
    "# rag_eval_dataset.save_json(\"./rag_eval_dataset.json\")"
   ]
  },
  {
   "cell_type": "code",
   "execution_count": null,
   "metadata": {
    "id": "mNDd5i921Hww"
   },
   "outputs": [],
   "source": [
    "# We can also load the dataset from a previously saved json file.\n",
    "from llama_index.core.evaluation import EmbeddingQAFinetuneDataset\n",
    "\n",
    "rag_eval_dataset = EmbeddingQAFinetuneDataset.from_json(\"./rag_eval_dataset.json\")"
   ]
  },
  {
   "cell_type": "markdown",
   "metadata": {
    "id": "qOx3vDWA1Hww"
   },
   "source": [
    "### Evaluation for Hit Rate and Mean Reciprocal Rank (MRR)\n",
    "\n",
    "We will make use of `RetrieverEvaluator` available in Llama-index. We will measure the Hit Rate and Mean Reciprocal Rank (MRR).\n",
    "\n",
    "**Hit Rate:**\n",
    "\n",
    "Think of the Hit Rate like playing a game of guessing. You're given a question and you need to guess the correct answer from a list of options. The Hit Rate measures how often you guess the correct answer by only looking at your top few guesses. If you often find the right answer in your first few guesses, you have a high Hit Rate. So, in the context of a retrieval system, it's about how frequently the system finds the correct document within its top 'k' picks (where 'k' is a number you decide, like top 5 or top 10).\n",
    "\n",
    "**Mean Reciprocal Rank (MRR):**\n",
    "\n",
    "MRR is a bit like measuring how quickly you can find a treasure in a list of boxes. Imagine you have a row of boxes and only one of them has a treasure. The MRR calculates how close to the start of the row the treasure box is, on average. If the treasure is always in the first box you open, you're doing great and have an MRR of 1. If it's in the second box, the score is 1/2, since you took two tries to find it. If it's in the third box, your score is 1/3, and so on. MRR averages these scores across all your searches. So, for a retrieval system, MRR looks at where the correct document ranks in the system's guesses. If it's usually near the top, the MRR will be high, indicating good performance.\n",
    "In summary, Hit Rate tells you how often the system gets it right in its top guesses, and MRR tells you how close to the top the right answer usually is. Both metrics are useful for evaluating the effectiveness of a retrieval system, like how well a search engine or a recommendation system works.\n"
   ]
  },
  {
   "cell_type": "code",
   "execution_count": 19,
   "metadata": {
    "id": "eARSzx8I1Hww"
   },
   "outputs": [],
   "source": [
    "import pandas as pd\n",
    "\n",
    "\n",
    "def display_results_retriever(name, eval_results):\n",
    "    \"\"\"Display results from evaluate.\"\"\"\n",
    "\n",
    "    metric_dicts = []\n",
    "    for eval_result in eval_results:\n",
    "        metric_dict = eval_result.metric_vals_dict\n",
    "        metric_dicts.append(metric_dict)\n",
    "\n",
    "    full_df = pd.DataFrame(metric_dicts)\n",
    "\n",
    "    hit_rate = full_df[\"hit_rate\"].mean()\n",
    "    mrr = full_df[\"mrr\"].mean()\n",
    "\n",
    "    metric_df = pd.DataFrame(\n",
    "        {\"Retriever Name\": [name], \"Hit Rate\": [hit_rate], \"MRR\": [mrr]}\n",
    "    )\n",
    "\n",
    "    return metric_df"
   ]
  },
  {
   "cell_type": "code",
   "execution_count": 20,
   "metadata": {
    "colab": {
     "base_uri": "https://localhost:8080/"
    },
    "id": "hD5YflG51Hww",
    "outputId": "4d6168ce-07f6-4654-e8e1-88d8b33ed61b"
   },
   "outputs": [
    {
     "name": "stdout",
     "output_type": "stream",
     "text": [
      "    Retriever Name  Hit Rate  MRR\n",
      "0  Retriever top_2      0.84  0.7\n",
      "    Retriever Name  Hit Rate       MRR\n",
      "0  Retriever top_4      0.92  0.723333\n",
      "    Retriever Name  Hit Rate   MRR\n",
      "0  Retriever top_6      0.96  0.73\n",
      "    Retriever Name  Hit Rate       MRR\n",
      "0  Retriever top_8       1.0  0.735714\n",
      "     Retriever Name  Hit Rate       MRR\n",
      "0  Retriever top_10       1.0  0.735714\n"
     ]
    }
   ],
   "source": [
    "from llama_index.core.evaluation import RetrieverEvaluator\n",
    "\n",
    "# We can evaluate the retievers with different top_k values.\n",
    "for i in [2, 4, 6, 8, 10]:\n",
    "    retriever = index.as_retriever(similarity_top_k=i)\n",
    "    retriever_evaluator = RetrieverEvaluator.from_metric_names(\n",
    "        [\"mrr\", \"hit_rate\"], retriever=retriever\n",
    "    )\n",
    "    eval_results = await retriever_evaluator.aevaluate_dataset(\n",
    "        rag_eval_dataset, workers=32\n",
    "    )\n",
    "    print(display_results_retriever(f\"Retriever top_{i}\", eval_results))\n",
    "\n",
    "time.sleep(60)"
   ]
  },
  {
   "cell_type": "markdown",
   "metadata": {
    "id": "9y6uofcJ1Hwx"
   },
   "source": [
    "### Evaluation using Relevance and Faithfulness metrics.\n",
    "\n",
    "Here, we evaluate the answer generated by the LLM. Is the answer using the correct context? Is the answer faithful to the context? Is the answer relevant to the question?\n",
    "\n",
    "An LLM will answer these questions, more specifically `gpt-4o`.\n",
    "\n",
    "**`FaithfulnessEvaluator`**\n",
    "Evaluates if the answer is faithful to the retrieved contexts (in other words, whether there's an hallucination).\n",
    "\n",
    "**`RelevancyEvaluator`**\n",
    "Evaluates whether the retrieved context and answer are relevant to the user question.\n",
    "\n",
    "Now, let's see how the top_k value affects these two metrics.\n"
   ]
  },
  {
   "cell_type": "code",
   "execution_count": 22,
   "metadata": {
    "colab": {
     "base_uri": "https://localhost:8080/"
    },
    "id": "ckjE4fcD1Hwx",
    "outputId": "e524181c-2fc8-45db-de79-4ed4587a3f88"
   },
   "outputs": [
    {
     "name": "stdout",
     "output_type": "stream",
     "text": [
      "top_2 faithfulness_score: 1.0\n",
      "top_2 relevancy_score: 1.0\n",
      "===============\n"
     ]
    },
    {
     "name": "stderr",
     "output_type": "stream",
     "text": [
      "Retrying llama_index.llms.openai.base.OpenAI._achat in 1.0 seconds as it raised RateLimitError: Error code: 429 - {'error': {'message': 'Rate limit reached for gpt-4o in organization org-neGD6TXgMpurKxduMXmsAgtL on tokens per min (TPM): Limit 30000, Used 27978, Requested 2931. Please try again in 1.818s. Visit https://platform.openai.com/account/rate-limits to learn more.', 'type': 'tokens', 'param': None, 'code': 'rate_limit_exceeded'}}.\n"
     ]
    },
    {
     "name": "stdout",
     "output_type": "stream",
     "text": [
      "top_4 faithfulness_score: 1.0\n",
      "top_4 relevancy_score: 1.0\n",
      "===============\n"
     ]
    }
   ],
   "source": [
    "from llama_index.core.evaluation import RelevancyEvaluator, FaithfulnessEvaluator, BatchEvalRunner\n",
    "from llama_index.llms.openai import OpenAI\n",
    "\n",
    "# Create your index\n",
    "from llama_index.core import VectorStoreIndex\n",
    "index = VectorStoreIndex.from_vector_store(vector_store)\n",
    "\n",
    "# Define an LLM as a judge\n",
    "llm_gpt4o = OpenAI(temperature=0, model=\"gpt-4o\")\n",
    "llm_gpt4o_mini = OpenAI(temperature=0, model=\"gpt-4o-mini\")\n",
    "\n",
    "# Initiate the faithfulnes and relevancy evaluator objects\n",
    "faithfulness_evaluator = FaithfulnessEvaluator(llm=llm_gpt4o)\n",
    "relevancy_evaluator = RelevancyEvaluator(llm=llm_gpt4o)\n",
    "\n",
    "# Extract the questions from the dataset\n",
    "queries = list(rag_eval_dataset.queries.values())\n",
    "# Limit to first 10 question to save time (!!remove this line in production!!)\n",
    "batch_eval_queries = queries[:10]\n",
    "\n",
    "# The batch evaluator runs the evaluation in batches\n",
    "runner = BatchEvalRunner(\n",
    "    {\"faithfulness\": faithfulness_evaluator, \"relevancy\": relevancy_evaluator},\n",
    "    workers=2,\n",
    ")\n",
    "\n",
    "\n",
    "# Define a for-loop to try different `similarity_top_k` values\n",
    "# for i in [2, 4, 6, 8, 10]:\n",
    "for i in [2, 4]:\n",
    "    # Set query engine with different number of returned chunks\n",
    "    query_engine = index.as_query_engine(similarity_top_k=i, llm = llm_gpt4o_mini)\n",
    "\n",
    "    # Run the evaluation\n",
    "    eval_results = await runner.aevaluate_queries(query_engine, queries=batch_eval_queries)\n",
    "\n",
    "    # Printing the results\n",
    "    faithfulness_score = sum(\n",
    "        result.passing for result in eval_results[\"faithfulness\"]\n",
    "    ) / len(eval_results[\"faithfulness\"])\n",
    "    print(f\"top_{i} faithfulness_score: {faithfulness_score}\")\n",
    "\n",
    "    relevancy_score = sum(result.passing for result in eval_results[\"relevancy\"]) / len(\n",
    "        eval_results[\"relevancy\"]\n",
    "    )\n",
    "    print(f\"top_{i} relevancy_score: {relevancy_score}\")\n",
    "    print(\"=\"*15)\n",
    "    time.sleep(3)\n"
   ]
  },
  {
   "cell_type": "markdown",
   "metadata": {
    "id": "YmlmP2Px4THB"
   },
   "source": [
    "### Correctness\n"
   ]
  },
  {
   "cell_type": "code",
   "execution_count": 18,
   "metadata": {
    "id": "aUulxzuh1Hwx"
   },
   "outputs": [],
   "source": [
    "from llama_index.core.evaluation import CorrectnessEvaluator\n",
    "\n",
    "query = (\n",
    "    \"Can you explain the theory of relativity proposed by Albert Einstein in\" \" detail?\"\n",
    ")\n",
    "\n",
    "reference = \"\"\"\n",
    "Certainly! Albert Einstein's theory of relativity consists of two main components: special relativity and general relativity. Special relativity, published in 1905, introduced the concept that the laws of physics are the same for all non-accelerating observers and that the speed of light in a vacuum is a constant, regardless of the motion of the source or observer. It also gave rise to the famous equation E=mc², which relates energy (E) and mass (m).\n",
    "\n",
    "General relativity, published in 1915, extended these ideas to include the effects of gravity. According to general relativity, gravity is not a force between masses, as described by Newton's theory of gravity, but rather the result of the warping of space and time by mass and energy. Massive objects, such as planets and stars, cause a curvature in spacetime, and smaller objects follow curved paths in response to this curvature. This concept is often illustrated using the analogy of a heavy ball placed on a rubber sheet, causing it to create a depression that other objects (representing smaller masses) naturally move towards.\n",
    "\n",
    "In essence, general relativity provided a new understanding of gravity, explaining phenomena like the bending of light by gravity (gravitational lensing) and the precession of the orbit of Mercury. It has been confirmed through numerous experiments and observations and has become a fundamental theory in modern physics.\n",
    "\"\"\"\n",
    "\n",
    "response = \"\"\"\n",
    "Certainly! Albert Einstein's theory of relativity consists of two main components: special relativity and general relativity. Special relativity, published in 1905, introduced the concept that the laws of physics are the same for all non-accelerating observers and that the speed of light in a vacuum is a constant, regardless of the motion of the source or observer. It also gave rise to the famous equation E=mc², which relates energy (E) and mass (m).\n",
    "\n",
    "However, general relativity, published in 1915, extended these ideas to include the effects of magnetism. According to general relativity, gravity is not a force between masses but rather the result of the warping of space and time by magnetic fields generated by massive objects. Massive objects, such as planets and stars, create magnetic fields that cause a curvature in spacetime, and smaller objects follow curved paths in response to this magnetic curvature. This concept is often illustrated using the analogy of a heavy ball placed on a rubber sheet with magnets underneath, causing it to create a depression that other objects (representing smaller masses) naturally move towards due to magnetic attraction.\n",
    "\"\"\""
   ]
  },
  {
   "cell_type": "code",
   "execution_count": 19,
   "metadata": {
    "id": "CYIjkAP74bly"
   },
   "outputs": [],
   "source": [
    "llm_gpt4o = OpenAI(temperature=0, model=\"gpt-4o\")\n",
    "llm_gpt4o_mini = OpenAI(temperature=0, model=\"gpt-4o-mini\")\n",
    "evaluator = CorrectnessEvaluator(llm=llm_gpt4o)\n",
    "\n",
    "result = evaluator.evaluate(query=query,response=response,reference=reference,)"
   ]
  },
  {
   "cell_type": "code",
   "execution_count": 24,
   "metadata": {},
   "outputs": [
    {
     "name": "stdout",
     "output_type": "stream",
     "text": [
      "\n",
      "Certainly! Albert Einstein's theory of relativity consists of two main components: special relativity and general relativity. Special relativity, published in 1905, introduced the concept that the laws of physics are the same for all non-accelerating observers and that the speed of light in a vacuum is a constant, regardless of the motion of the source or observer. It also gave rise to the famous equation E=mc², which relates energy (E) and mass (m).\n",
      "\n",
      "However, general relativity, published in 1915, extended these ideas to include the effects of magnetism. According to general relativity, gravity is not a force between masses but rather the result of the warping of space and time by magnetic fields generated by massive objects. Massive objects, such as planets and stars, create magnetic fields that cause a curvature in spacetime, and smaller objects follow curved paths in response to this magnetic curvature. This concept is often illustrated using the analogy of a heavy ball placed on a rubber sheet with magnets underneath, causing it to create a depression that other objects (representing smaller masses) naturally move towards due to magnetic attraction.\n",
      "\n"
     ]
    }
   ],
   "source": [
    "print(result.response)"
   ]
  },
  {
   "cell_type": "code",
   "execution_count": 20,
   "metadata": {
    "colab": {
     "base_uri": "https://localhost:8080/"
    },
    "id": "-3b-bgvA4dAz",
    "outputId": "eeeb0c00-cb1d-473b-b3f7-ba7e1ade310b"
   },
   "outputs": [
    {
     "data": {
      "text/plain": [
       "2.0"
      ]
     },
     "execution_count": 20,
     "metadata": {},
     "output_type": "execute_result"
    }
   ],
   "source": [
    "result.score"
   ]
  },
  {
   "cell_type": "code",
   "execution_count": 21,
   "metadata": {
    "colab": {
     "base_uri": "https://localhost:8080/",
     "height": 87
    },
    "id": "KNEhRQAo4dT0",
    "outputId": "a3f978e4-8416-400c-912e-a7d36a8e456b"
   },
   "outputs": [
    {
     "data": {
      "text/plain": [
       "'The generated answer is mostly relevant but contains a significant mistake. It incorrectly states that general relativity involves the effects of magnetism and magnetic fields, which is not accurate. General relativity deals with the warping of space and time due to mass and energy, not magnetism. This error affects the correctness of the explanation, warranting a score of 2.0.'"
      ]
     },
     "execution_count": 21,
     "metadata": {},
     "output_type": "execute_result"
    }
   ],
   "source": [
    "result.feedback"
   ]
  },
  {
   "cell_type": "code",
   "execution_count": null,
   "metadata": {
    "id": "ZOlwVWZb49H4"
   },
   "outputs": [],
   "source": []
  }
 ],
 "metadata": {
  "colab": {
   "provenance": []
  },
  "kernelspec": {
   "display_name": "Python 3 (ipykernel)",
   "language": "python",
   "name": "python3"
  },
  "language_info": {
   "codemirror_mode": {
    "name": "ipython",
    "version": 3
   },
   "file_extension": ".py",
   "mimetype": "text/x-python",
   "name": "python",
   "nbconvert_exporter": "python",
   "pygments_lexer": "ipython3",
   "version": "3.10.12"
  },
  "widgets": {
   "application/vnd.jupyter.widget-state+json": {
    "038f8e91d55c48ba8f04e18b03aa8e3c": {
     "model_module": "@jupyter-widgets/controls",
     "model_module_version": "1.5.0",
     "model_name": "DescriptionStyleModel",
     "state": {
      "_model_module": "@jupyter-widgets/controls",
      "_model_module_version": "1.5.0",
      "_model_name": "DescriptionStyleModel",
      "_view_count": null,
      "_view_module": "@jupyter-widgets/base",
      "_view_module_version": "1.2.0",
      "_view_name": "StyleView",
      "description_width": ""
     }
    },
    "090ba8a7067a480caad4600c51a26764": {
     "model_module": "@jupyter-widgets/controls",
     "model_module_version": "1.5.0",
     "model_name": "ProgressStyleModel",
     "state": {
      "_model_module": "@jupyter-widgets/controls",
      "_model_module_version": "1.5.0",
      "_model_name": "ProgressStyleModel",
      "_view_count": null,
      "_view_module": "@jupyter-widgets/base",
      "_view_module_version": "1.2.0",
      "_view_name": "StyleView",
      "bar_color": null,
      "description_width": ""
     }
    },
    "0b4b91c5a6f543aa920fdf62a2937e8d": {
     "model_module": "@jupyter-widgets/controls",
     "model_module_version": "1.5.0",
     "model_name": "DescriptionStyleModel",
     "state": {
      "_model_module": "@jupyter-widgets/controls",
      "_model_module_version": "1.5.0",
      "_model_name": "DescriptionStyleModel",
      "_view_count": null,
      "_view_module": "@jupyter-widgets/base",
      "_view_module_version": "1.2.0",
      "_view_name": "StyleView",
      "description_width": ""
     }
    },
    "3899b901d232443a821837b1f93453ea": {
     "model_module": "@jupyter-widgets/controls",
     "model_module_version": "1.5.0",
     "model_name": "HBoxModel",
     "state": {
      "_dom_classes": [],
      "_model_module": "@jupyter-widgets/controls",
      "_model_module_version": "1.5.0",
      "_model_name": "HBoxModel",
      "_view_count": null,
      "_view_module": "@jupyter-widgets/controls",
      "_view_module_version": "1.5.0",
      "_view_name": "HBoxView",
      "box_style": "",
      "children": [
       "IPY_MODEL_f51c623ab24c4eccb72044edd17c26d0",
       "IPY_MODEL_688b28a3781d4334b4ef06eefab1185c",
       "IPY_MODEL_db9fa16416744cca8c8c32f4660ee824"
      ],
      "layout": "IPY_MODEL_af096acec2d8433997ab669c7dba3dda"
     }
    },
    "3f72e4b06c51437bafc1399acd14c2e4": {
     "model_module": "@jupyter-widgets/controls",
     "model_module_version": "1.5.0",
     "model_name": "DescriptionStyleModel",
     "state": {
      "_model_module": "@jupyter-widgets/controls",
      "_model_module_version": "1.5.0",
      "_model_name": "DescriptionStyleModel",
      "_view_count": null,
      "_view_module": "@jupyter-widgets/base",
      "_view_module_version": "1.2.0",
      "_view_name": "StyleView",
      "description_width": ""
     }
    },
    "4039da779d0f417391659b2a770a5be7": {
     "model_module": "@jupyter-widgets/controls",
     "model_module_version": "1.5.0",
     "model_name": "ProgressStyleModel",
     "state": {
      "_model_module": "@jupyter-widgets/controls",
      "_model_module_version": "1.5.0",
      "_model_name": "ProgressStyleModel",
      "_view_count": null,
      "_view_module": "@jupyter-widgets/base",
      "_view_module_version": "1.2.0",
      "_view_name": "StyleView",
      "bar_color": null,
      "description_width": ""
     }
    },
    "454abe0df86f4a41ac6546b7982771d8": {
     "model_module": "@jupyter-widgets/controls",
     "model_module_version": "1.5.0",
     "model_name": "FloatProgressModel",
     "state": {
      "_dom_classes": [],
      "_model_module": "@jupyter-widgets/controls",
      "_model_module_version": "1.5.0",
      "_model_name": "FloatProgressModel",
      "_view_count": null,
      "_view_module": "@jupyter-widgets/controls",
      "_view_module_version": "1.5.0",
      "_view_name": "ProgressView",
      "bar_style": "success",
      "description": "",
      "description_tooltip": null,
      "layout": "IPY_MODEL_df0c86480b7241c2899e5ef50631959f",
      "max": 108,
      "min": 0,
      "orientation": "horizontal",
      "style": "IPY_MODEL_4039da779d0f417391659b2a770a5be7",
      "value": 108
     }
    },
    "4a4774b2aa3a4ff09af600b57ced8344": {
     "model_module": "@jupyter-widgets/base",
     "model_module_version": "1.2.0",
     "model_name": "LayoutModel",
     "state": {
      "_model_module": "@jupyter-widgets/base",
      "_model_module_version": "1.2.0",
      "_model_name": "LayoutModel",
      "_view_count": null,
      "_view_module": "@jupyter-widgets/base",
      "_view_module_version": "1.2.0",
      "_view_name": "LayoutView",
      "align_content": null,
      "align_items": null,
      "align_self": null,
      "border": null,
      "bottom": null,
      "display": null,
      "flex": null,
      "flex_flow": null,
      "grid_area": null,
      "grid_auto_columns": null,
      "grid_auto_flow": null,
      "grid_auto_rows": null,
      "grid_column": null,
      "grid_gap": null,
      "grid_row": null,
      "grid_template_areas": null,
      "grid_template_columns": null,
      "grid_template_rows": null,
      "height": null,
      "justify_content": null,
      "justify_items": null,
      "left": null,
      "margin": null,
      "max_height": null,
      "max_width": null,
      "min_height": null,
      "min_width": null,
      "object_fit": null,
      "object_position": null,
      "order": null,
      "overflow": null,
      "overflow_x": null,
      "overflow_y": null,
      "padding": null,
      "right": null,
      "top": null,
      "visibility": null,
      "width": null
     }
    },
    "688b28a3781d4334b4ef06eefab1185c": {
     "model_module": "@jupyter-widgets/controls",
     "model_module_version": "1.5.0",
     "model_name": "FloatProgressModel",
     "state": {
      "_dom_classes": [],
      "_model_module": "@jupyter-widgets/controls",
      "_model_module_version": "1.5.0",
      "_model_name": "FloatProgressModel",
      "_view_count": null,
      "_view_module": "@jupyter-widgets/controls",
      "_view_module_version": "1.5.0",
      "_view_name": "ProgressView",
      "bar_style": "success",
      "description": "",
      "description_tooltip": null,
      "layout": "IPY_MODEL_4a4774b2aa3a4ff09af600b57ced8344",
      "max": 14,
      "min": 0,
      "orientation": "horizontal",
      "style": "IPY_MODEL_090ba8a7067a480caad4600c51a26764",
      "value": 14
     }
    },
    "7b1eddad84744dcaa0c8c352ae7f4d2b": {
     "model_module": "@jupyter-widgets/base",
     "model_module_version": "1.2.0",
     "model_name": "LayoutModel",
     "state": {
      "_model_module": "@jupyter-widgets/base",
      "_model_module_version": "1.2.0",
      "_model_name": "LayoutModel",
      "_view_count": null,
      "_view_module": "@jupyter-widgets/base",
      "_view_module_version": "1.2.0",
      "_view_name": "LayoutView",
      "align_content": null,
      "align_items": null,
      "align_self": null,
      "border": null,
      "bottom": null,
      "display": null,
      "flex": null,
      "flex_flow": null,
      "grid_area": null,
      "grid_auto_columns": null,
      "grid_auto_flow": null,
      "grid_auto_rows": null,
      "grid_column": null,
      "grid_gap": null,
      "grid_row": null,
      "grid_template_areas": null,
      "grid_template_columns": null,
      "grid_template_rows": null,
      "height": null,
      "justify_content": null,
      "justify_items": null,
      "left": null,
      "margin": null,
      "max_height": null,
      "max_width": null,
      "min_height": null,
      "min_width": null,
      "object_fit": null,
      "object_position": null,
      "order": null,
      "overflow": null,
      "overflow_x": null,
      "overflow_y": null,
      "padding": null,
      "right": null,
      "top": null,
      "visibility": null,
      "width": null
     }
    },
    "7c774e8905a34f8990f79008ee459d32": {
     "model_module": "@jupyter-widgets/controls",
     "model_module_version": "1.5.0",
     "model_name": "DescriptionStyleModel",
     "state": {
      "_model_module": "@jupyter-widgets/controls",
      "_model_module_version": "1.5.0",
      "_model_name": "DescriptionStyleModel",
      "_view_count": null,
      "_view_module": "@jupyter-widgets/base",
      "_view_module_version": "1.2.0",
      "_view_name": "StyleView",
      "description_width": ""
     }
    },
    "868f3342afba4f5a9c961f931291ab33": {
     "model_module": "@jupyter-widgets/base",
     "model_module_version": "1.2.0",
     "model_name": "LayoutModel",
     "state": {
      "_model_module": "@jupyter-widgets/base",
      "_model_module_version": "1.2.0",
      "_model_name": "LayoutModel",
      "_view_count": null,
      "_view_module": "@jupyter-widgets/base",
      "_view_module_version": "1.2.0",
      "_view_name": "LayoutView",
      "align_content": null,
      "align_items": null,
      "align_self": null,
      "border": null,
      "bottom": null,
      "display": null,
      "flex": null,
      "flex_flow": null,
      "grid_area": null,
      "grid_auto_columns": null,
      "grid_auto_flow": null,
      "grid_auto_rows": null,
      "grid_column": null,
      "grid_gap": null,
      "grid_row": null,
      "grid_template_areas": null,
      "grid_template_columns": null,
      "grid_template_rows": null,
      "height": null,
      "justify_content": null,
      "justify_items": null,
      "left": null,
      "margin": null,
      "max_height": null,
      "max_width": null,
      "min_height": null,
      "min_width": null,
      "object_fit": null,
      "object_position": null,
      "order": null,
      "overflow": null,
      "overflow_x": null,
      "overflow_y": null,
      "padding": null,
      "right": null,
      "top": null,
      "visibility": null,
      "width": null
     }
    },
    "86e14d7fdf31488a842bef1a5641f459": {
     "model_module": "@jupyter-widgets/controls",
     "model_module_version": "1.5.0",
     "model_name": "HBoxModel",
     "state": {
      "_dom_classes": [],
      "_model_module": "@jupyter-widgets/controls",
      "_model_module_version": "1.5.0",
      "_model_name": "HBoxModel",
      "_view_count": null,
      "_view_module": "@jupyter-widgets/controls",
      "_view_module_version": "1.5.0",
      "_view_name": "HBoxView",
      "box_style": "",
      "children": [
       "IPY_MODEL_ef7bac2328e74d3986bd736cb03a887a",
       "IPY_MODEL_454abe0df86f4a41ac6546b7982771d8",
       "IPY_MODEL_a1d04547397e4e77b3e9ec59584c7e91"
      ],
      "layout": "IPY_MODEL_868f3342afba4f5a9c961f931291ab33"
     }
    },
    "a1d04547397e4e77b3e9ec59584c7e91": {
     "model_module": "@jupyter-widgets/controls",
     "model_module_version": "1.5.0",
     "model_name": "HTMLModel",
     "state": {
      "_dom_classes": [],
      "_model_module": "@jupyter-widgets/controls",
      "_model_module_version": "1.5.0",
      "_model_name": "HTMLModel",
      "_view_count": null,
      "_view_module": "@jupyter-widgets/controls",
      "_view_module_version": "1.5.0",
      "_view_name": "HTMLView",
      "description": "",
      "description_tooltip": null,
      "layout": "IPY_MODEL_ffcfae1447634dd9a33abc9f7d0a3a31",
      "placeholder": "​",
      "style": "IPY_MODEL_038f8e91d55c48ba8f04e18b03aa8e3c",
      "value": " 108/108 [00:02&lt;00:00, 47.44it/s]"
     }
    },
    "af096acec2d8433997ab669c7dba3dda": {
     "model_module": "@jupyter-widgets/base",
     "model_module_version": "1.2.0",
     "model_name": "LayoutModel",
     "state": {
      "_model_module": "@jupyter-widgets/base",
      "_model_module_version": "1.2.0",
      "_model_name": "LayoutModel",
      "_view_count": null,
      "_view_module": "@jupyter-widgets/base",
      "_view_module_version": "1.2.0",
      "_view_name": "LayoutView",
      "align_content": null,
      "align_items": null,
      "align_self": null,
      "border": null,
      "bottom": null,
      "display": null,
      "flex": null,
      "flex_flow": null,
      "grid_area": null,
      "grid_auto_columns": null,
      "grid_auto_flow": null,
      "grid_auto_rows": null,
      "grid_column": null,
      "grid_gap": null,
      "grid_row": null,
      "grid_template_areas": null,
      "grid_template_columns": null,
      "grid_template_rows": null,
      "height": null,
      "justify_content": null,
      "justify_items": null,
      "left": null,
      "margin": null,
      "max_height": null,
      "max_width": null,
      "min_height": null,
      "min_width": null,
      "object_fit": null,
      "object_position": null,
      "order": null,
      "overflow": null,
      "overflow_x": null,
      "overflow_y": null,
      "padding": null,
      "right": null,
      "top": null,
      "visibility": null,
      "width": null
     }
    },
    "cb3640bd576047c988e503fbdd2b8f8c": {
     "model_module": "@jupyter-widgets/base",
     "model_module_version": "1.2.0",
     "model_name": "LayoutModel",
     "state": {
      "_model_module": "@jupyter-widgets/base",
      "_model_module_version": "1.2.0",
      "_model_name": "LayoutModel",
      "_view_count": null,
      "_view_module": "@jupyter-widgets/base",
      "_view_module_version": "1.2.0",
      "_view_name": "LayoutView",
      "align_content": null,
      "align_items": null,
      "align_self": null,
      "border": null,
      "bottom": null,
      "display": null,
      "flex": null,
      "flex_flow": null,
      "grid_area": null,
      "grid_auto_columns": null,
      "grid_auto_flow": null,
      "grid_auto_rows": null,
      "grid_column": null,
      "grid_gap": null,
      "grid_row": null,
      "grid_template_areas": null,
      "grid_template_columns": null,
      "grid_template_rows": null,
      "height": null,
      "justify_content": null,
      "justify_items": null,
      "left": null,
      "margin": null,
      "max_height": null,
      "max_width": null,
      "min_height": null,
      "min_width": null,
      "object_fit": null,
      "object_position": null,
      "order": null,
      "overflow": null,
      "overflow_x": null,
      "overflow_y": null,
      "padding": null,
      "right": null,
      "top": null,
      "visibility": null,
      "width": null
     }
    },
    "db9fa16416744cca8c8c32f4660ee824": {
     "model_module": "@jupyter-widgets/controls",
     "model_module_version": "1.5.0",
     "model_name": "HTMLModel",
     "state": {
      "_dom_classes": [],
      "_model_module": "@jupyter-widgets/controls",
      "_model_module_version": "1.5.0",
      "_model_name": "HTMLModel",
      "_view_count": null,
      "_view_module": "@jupyter-widgets/controls",
      "_view_module_version": "1.5.0",
      "_view_name": "HTMLView",
      "description": "",
      "description_tooltip": null,
      "layout": "IPY_MODEL_ea6c7f8257a6453bb79d7ab0ab40ab69",
      "placeholder": "​",
      "style": "IPY_MODEL_0b4b91c5a6f543aa920fdf62a2937e8d",
      "value": " 14/14 [00:01&lt;00:00, 13.16it/s]"
     }
    },
    "df0c86480b7241c2899e5ef50631959f": {
     "model_module": "@jupyter-widgets/base",
     "model_module_version": "1.2.0",
     "model_name": "LayoutModel",
     "state": {
      "_model_module": "@jupyter-widgets/base",
      "_model_module_version": "1.2.0",
      "_model_name": "LayoutModel",
      "_view_count": null,
      "_view_module": "@jupyter-widgets/base",
      "_view_module_version": "1.2.0",
      "_view_name": "LayoutView",
      "align_content": null,
      "align_items": null,
      "align_self": null,
      "border": null,
      "bottom": null,
      "display": null,
      "flex": null,
      "flex_flow": null,
      "grid_area": null,
      "grid_auto_columns": null,
      "grid_auto_flow": null,
      "grid_auto_rows": null,
      "grid_column": null,
      "grid_gap": null,
      "grid_row": null,
      "grid_template_areas": null,
      "grid_template_columns": null,
      "grid_template_rows": null,
      "height": null,
      "justify_content": null,
      "justify_items": null,
      "left": null,
      "margin": null,
      "max_height": null,
      "max_width": null,
      "min_height": null,
      "min_width": null,
      "object_fit": null,
      "object_position": null,
      "order": null,
      "overflow": null,
      "overflow_x": null,
      "overflow_y": null,
      "padding": null,
      "right": null,
      "top": null,
      "visibility": null,
      "width": null
     }
    },
    "ea6c7f8257a6453bb79d7ab0ab40ab69": {
     "model_module": "@jupyter-widgets/base",
     "model_module_version": "1.2.0",
     "model_name": "LayoutModel",
     "state": {
      "_model_module": "@jupyter-widgets/base",
      "_model_module_version": "1.2.0",
      "_model_name": "LayoutModel",
      "_view_count": null,
      "_view_module": "@jupyter-widgets/base",
      "_view_module_version": "1.2.0",
      "_view_name": "LayoutView",
      "align_content": null,
      "align_items": null,
      "align_self": null,
      "border": null,
      "bottom": null,
      "display": null,
      "flex": null,
      "flex_flow": null,
      "grid_area": null,
      "grid_auto_columns": null,
      "grid_auto_flow": null,
      "grid_auto_rows": null,
      "grid_column": null,
      "grid_gap": null,
      "grid_row": null,
      "grid_template_areas": null,
      "grid_template_columns": null,
      "grid_template_rows": null,
      "height": null,
      "justify_content": null,
      "justify_items": null,
      "left": null,
      "margin": null,
      "max_height": null,
      "max_width": null,
      "min_height": null,
      "min_width": null,
      "object_fit": null,
      "object_position": null,
      "order": null,
      "overflow": null,
      "overflow_x": null,
      "overflow_y": null,
      "padding": null,
      "right": null,
      "top": null,
      "visibility": null,
      "width": null
     }
    },
    "ef7bac2328e74d3986bd736cb03a887a": {
     "model_module": "@jupyter-widgets/controls",
     "model_module_version": "1.5.0",
     "model_name": "HTMLModel",
     "state": {
      "_dom_classes": [],
      "_model_module": "@jupyter-widgets/controls",
      "_model_module_version": "1.5.0",
      "_model_name": "HTMLModel",
      "_view_count": null,
      "_view_module": "@jupyter-widgets/controls",
      "_view_module_version": "1.5.0",
      "_view_name": "HTMLView",
      "description": "",
      "description_tooltip": null,
      "layout": "IPY_MODEL_7b1eddad84744dcaa0c8c352ae7f4d2b",
      "placeholder": "​",
      "style": "IPY_MODEL_3f72e4b06c51437bafc1399acd14c2e4",
      "value": "Generating embeddings: 100%"
     }
    },
    "f51c623ab24c4eccb72044edd17c26d0": {
     "model_module": "@jupyter-widgets/controls",
     "model_module_version": "1.5.0",
     "model_name": "HTMLModel",
     "state": {
      "_dom_classes": [],
      "_model_module": "@jupyter-widgets/controls",
      "_model_module_version": "1.5.0",
      "_model_name": "HTMLModel",
      "_view_count": null,
      "_view_module": "@jupyter-widgets/controls",
      "_view_module_version": "1.5.0",
      "_view_name": "HTMLView",
      "description": "",
      "description_tooltip": null,
      "layout": "IPY_MODEL_cb3640bd576047c988e503fbdd2b8f8c",
      "placeholder": "​",
      "style": "IPY_MODEL_7c774e8905a34f8990f79008ee459d32",
      "value": "Parsing nodes: 100%"
     }
    },
    "ffcfae1447634dd9a33abc9f7d0a3a31": {
     "model_module": "@jupyter-widgets/base",
     "model_module_version": "1.2.0",
     "model_name": "LayoutModel",
     "state": {
      "_model_module": "@jupyter-widgets/base",
      "_model_module_version": "1.2.0",
      "_model_name": "LayoutModel",
      "_view_count": null,
      "_view_module": "@jupyter-widgets/base",
      "_view_module_version": "1.2.0",
      "_view_name": "LayoutView",
      "align_content": null,
      "align_items": null,
      "align_self": null,
      "border": null,
      "bottom": null,
      "display": null,
      "flex": null,
      "flex_flow": null,
      "grid_area": null,
      "grid_auto_columns": null,
      "grid_auto_flow": null,
      "grid_auto_rows": null,
      "grid_column": null,
      "grid_gap": null,
      "grid_row": null,
      "grid_template_areas": null,
      "grid_template_columns": null,
      "grid_template_rows": null,
      "height": null,
      "justify_content": null,
      "justify_items": null,
      "left": null,
      "margin": null,
      "max_height": null,
      "max_width": null,
      "min_height": null,
      "min_width": null,
      "object_fit": null,
      "object_position": null,
      "order": null,
      "overflow": null,
      "overflow_x": null,
      "overflow_y": null,
      "padding": null,
      "right": null,
      "top": null,
      "visibility": null,
      "width": null
     }
    }
   }
  }
 },
 "nbformat": 4,
 "nbformat_minor": 4
}
