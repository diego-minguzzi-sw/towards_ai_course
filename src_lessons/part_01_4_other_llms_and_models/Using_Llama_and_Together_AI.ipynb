{
 "cells": [
  {
   "cell_type": "markdown",
   "id": "04fddccf-6f40-49d0-a465-d7a0f48a0854",
   "metadata": {},
   "source": [
    "# Part 1 Building RAG AI Tutor - Using other LLMs and Embedding Models\n",
    "## Using LLama 3.1 70B on Together.ai"
   ]
  },
  {
   "cell_type": "code",
   "execution_count": 4,
   "id": "54bc4fbc-169e-4e52-a2ed-bb13b9aa6d4e",
   "metadata": {},
   "outputs": [],
   "source": [
    "from llama_index.vector_stores.chroma import ChromaVectorStore\n",
    "\n",
    "import chromadb\n",
    "import nest_asyncio\n",
    "import os"
   ]
  },
  {
   "cell_type": "code",
   "execution_count": 3,
   "id": "8fcca846-6ec3-4255-9c1b-621fa67b8ecc",
   "metadata": {},
   "outputs": [],
   "source": [
    "nest_asyncio.apply()"
   ]
  },
  {
   "cell_type": "markdown",
   "id": "e0202cd5-87ad-40e8-b80b-11c18dcfb57c",
   "metadata": {},
   "source": [
    "<b>Create a Vector Store</b>"
   ]
  },
  {
   "cell_type": "code",
   "execution_count": 6,
   "id": "cce7eaca-169f-4822-a525-b10ff4907a11",
   "metadata": {},
   "outputs": [],
   "source": [
    "vectorStoreName = \"mini-llama-articles\"\n",
    "chromaClient = chromadb.PersistentClient( path=vectorStoreName)\n",
    "chromaCollection = chromaClient.get_or_create_collection( vectorStoreName)\n",
    "vectorStore = ChromaVectorStore( chroma_collection=chromaCollection)"
   ]
  },
  {
   "cell_type": "markdown",
   "id": "d274cc2f-789c-4ce9-9730-79bbd19e3918",
   "metadata": {},
   "source": [
    "<b>Ingest documents into the Vector storage.</b>"
   ]
  },
  {
   "cell_type": "code",
   "execution_count": 8,
   "id": "24e3eb29-1b57-4fa0-9882-970df10e2226",
   "metadata": {},
   "outputs": [
    {
     "name": "stdout",
     "output_type": "stream",
     "text": [
      "  % Total    % Received % Xferd  Average Speed   Time    Time     Time  Current\n",
      "                                 Dload  Upload   Total   Spent    Left  Speed\n",
      "100  169k  100  169k    0     0   363k      0 --:--:-- --:--:-- --:--:--  363k\n"
     ]
    }
   ],
   "source": [
    "!curl -o ./mini-llama-articles.csv \"https://raw.githubusercontent.com/AlaFalaki/tutorial_notebooks/main/data/mini-llama-articles.csv\""
   ]
  }
 ],
 "metadata": {
  "kernelspec": {
   "display_name": "Python 3 (ipykernel)",
   "language": "python",
   "name": "python3"
  },
  "language_info": {
   "codemirror_mode": {
    "name": "ipython",
    "version": 3
   },
   "file_extension": ".py",
   "mimetype": "text/x-python",
   "name": "python",
   "nbconvert_exporter": "python",
   "pygments_lexer": "ipython3",
   "version": "3.10.12"
  }
 },
 "nbformat": 4,
 "nbformat_minor": 5
}
