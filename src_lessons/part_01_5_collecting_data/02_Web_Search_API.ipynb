{
 "cells": [
  {
   "cell_type": "markdown",
   "id": "e944d4ea-9889-4755-ba41-cac6cb92e823",
   "metadata": {},
   "source": [
    "# Web Search \n",
    "\n",
    "## Example of Agent"
   ]
  },
  {
   "cell_type": "code",
   "execution_count": 1,
   "id": "0276786b-1af6-42a8-bb15-0c850cac3328",
   "metadata": {},
   "outputs": [],
   "source": [
    "from llama_index.core.tools import FunctionTool\n",
    "from llama_index.core.agent import ReActAgent"
   ]
  },
  {
   "cell_type": "code",
   "execution_count": 3,
   "id": "beb8ce00-2cbc-4f32-869b-ef3a31ac84b6",
   "metadata": {},
   "outputs": [],
   "source": [
    "def multiply(a: int, b: int) -> int:\n",
    "    \"\"\"Multiply two integers and returns the result integer\"\"\"\n",
    "    return a * b\n",
    "\n",
    "def add(a: int, b: int) -> int:\n",
    "    \"\"\"Add two integers and returns the result integer\"\"\"\n",
    "    return a + b\n",
    "\n",
    "def sub(a: int, b: int) -> int:\n",
    "    \"\"\"Subtract two integers and returns the result integer\"\"\"\n",
    "    return a - b    \n",
    "\n",
    "add_tool = FunctionTool.from_defaults(fn=add)\n",
    "sub_tool = FunctionTool.from_defaults(fn=sub)\n",
    "multiply_tool = FunctionTool.from_defaults(fn=multiply)\n",
    "\n",
    "agent = ReActAgent.from_tools([add_tool, sub_tool, multiply_tool], verbose=True) # LlM - GPT-4o-mini"
   ]
  },
  {
   "cell_type": "code",
   "execution_count": 6,
   "id": "35fab285-2945-4cc2-8501-30c8ee070a1e",
   "metadata": {},
   "outputs": [
    {
     "name": "stdout",
     "output_type": "stream",
     "text": [
      "> Running step b2935099-fe96-4c55-a371-18888467dc17. Step input: What is the result of the expression ((10 + 2)*2 - 12) ?\n",
      "\u001b[1;3;38;5;200mThought: I can answer without using any more tools. I'll use the user's language to answer\n",
      "Answer: The result of the expression ((10 + 2)*2 - 12) is 14.\n",
      "\u001b[0m"
     ]
    }
   ],
   "source": [
    "# res = agent.chat(\"What is the multiplication of 43 and 45?\")\n",
    "res = agent.chat(\"What is the result of the expression ((10 + 2)*2 - 12) ?\")"
   ]
  },
  {
   "cell_type": "code",
   "execution_count": 5,
   "id": "d70d18f2-ebb8-466c-ade4-4497338a5659",
   "metadata": {},
   "outputs": [
    {
     "data": {
      "text/plain": [
       "'Action: multiply\\nAction Input: {\"a\": 12, \"b\": 2}'"
      ]
     },
     "execution_count": 5,
     "metadata": {},
     "output_type": "execute_result"
    }
   ],
   "source": [
    "res.response"
   ]
  }
 ],
 "metadata": {
  "kernelspec": {
   "display_name": "Python 3 (ipykernel)",
   "language": "python",
   "name": "python3"
  },
  "language_info": {
   "codemirror_mode": {
    "name": "ipython",
    "version": 3
   },
   "file_extension": ".py",
   "mimetype": "text/x-python",
   "name": "python",
   "nbconvert_exporter": "python",
   "pygments_lexer": "ipython3",
   "version": "3.10.12"
  }
 },
 "nbformat": 4,
 "nbformat_minor": 5
}
