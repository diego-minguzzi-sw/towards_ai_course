{
 "cells": [
  {
   "cell_type": "markdown",
   "id": "29814780-6d66-4023-8723-63a80602d6e0",
   "metadata": {},
   "source": [
    "# Structuring Your Data\n",
    "\n",
    "## Structured Data in LLM(s)\n",
    "Structured data in LLM: the LLM generates JSON or XML output data, according to a schema.<br>\n",
    "A first attempt is add the to prompt, the instructions on how to generate the output, e.g. the format and the schema.  \n",
    "Moreover, usually some examples of output are provided.  This approach seems effective, but it is unreliable.<br>\n",
    "There is no guarantee that the model adheres to the specificed format.<br>\n",
    "<p/>\n",
    "<b>Response format</b> Another technique is using the <code>response_format</code> argument.<br>\n",
    "Hint: with structed output, use a low temperature, e.g. ZERO.<br>\n",
    "\n",
    "\n"
   ]
  }
 ],
 "metadata": {
  "kernelspec": {
   "display_name": "Python 3 (ipykernel)",
   "language": "python",
   "name": "python3"
  },
  "language_info": {
   "codemirror_mode": {
    "name": "ipython",
    "version": 3
   },
   "file_extension": ".py",
   "mimetype": "text/x-python",
   "name": "python",
   "nbconvert_exporter": "python",
   "pygments_lexer": "ipython3",
   "version": "3.10.12"
  }
 },
 "nbformat": 4,
 "nbformat_minor": 5
}
