{
 "cells": [
  {
   "cell_type": "code",
   "execution_count": 24,
   "id": "24ba5c6f-b28a-458b-ac1d-8032c4b804a0",
   "metadata": {},
   "outputs": [],
   "source": [
    "import enum\n",
    "from langchain_core.messages.base import BaseMessage\n",
    "from langchain_core.output_parsers import StrOutputParser\n",
    "from langchain_core.prompts import ChatPromptTemplate\n",
    "from langchain_google_genai import ChatGoogleGenerativeAI\n",
    "import logging as log\n",
    "import os\n",
    "import pprint\n",
    "\n",
    "log.basicConfig(level=log.INFO, format='%(asctime)s [%(levelname)5s] %(message)s',datefmt='%H:%M:%S')"
   ]
  },
  {
   "cell_type": "code",
   "execution_count": 25,
   "id": "c08e52cc-605c-4e23-a1e0-afbdfd9d699b",
   "metadata": {},
   "outputs": [],
   "source": [
    "class FinishReason(enum.Enum):\n",
    "    Stop=0,\n",
    "    LengthExceeded=1\n",
    "\n",
    "def parseFinishReason( message: BaseMessage):\n",
    "    finishReason= message.response_metadata['finish_reason']\n",
    "    if 'STOP'==finishReason:\n",
    "        return FinishReason.Stop        \n",
    "    elif 'LENGTH'==finishReason:       \n",
    "        return FinishReason.LengthExceeded\n",
    "    raise ValueError(f'Invalid finish reason:{s}')"
   ]
  },
  {
   "cell_type": "code",
   "execution_count": 26,
   "id": "5660128b-4c7b-4d4e-8c3e-832f0344213c",
   "metadata": {},
   "outputs": [
    {
     "name": "stderr",
     "output_type": "stream",
     "text": [
      "17:00:26 [ INFO] Got envvar:GOOGLE_API_KEY.\n"
     ]
    }
   ],
   "source": [
    "API_KEY='GOOGLE_API_KEY'\n",
    "MODEL_NAME='gemini-1.5-pro'\n",
    "assert API_KEY in os.environ \n",
    "assert len( str(API_KEY).strip() ) > 0\n",
    "log.info(f'Got envvar:{API_KEY}.')"
   ]
  },
  {
   "cell_type": "code",
   "execution_count": 27,
   "id": "b049189d-fb60-4f32-a13d-816f9167f8e1",
   "metadata": {},
   "outputs": [],
   "source": [
    "model = ChatGoogleGenerativeAI(model=MODEL_NAME, \n",
    "                               max_output_tokens=100,\n",
    "                               temperature=0.0)\n",
    "\n",
    "template= ChatPromptTemplate([('system','You are a helpful assistant.'),\n",
    "                             ('human','{request}')])\n",
    "parser= StrOutputParser()\n",
    "\n",
    "chain = template | model | parser"
   ]
  },
  {
   "cell_type": "code",
   "execution_count": 28,
   "id": "ca5f0d03-ef5f-4f6c-8fed-8e10b00e4f33",
   "metadata": {},
   "outputs": [],
   "source": [
    "result= chain.invoke({ 'request':\"\"\"\n",
    "Generate a table with the 5 most popular pharmaceutical companies and their foundation years. \n",
    "The response should include only the table, with no additional text. \n",
    "Use the following example format:\n",
    "---\n",
    "Company | Foundation Year\n",
    "Microsoft | 1975\n",
    "Apple | 1976\n",
    "Google | 1998\n",
    "Amazon | 1994\n",
    "Meta | 2004\n",
    "---\"\"\"})"
   ]
  },
  {
   "cell_type": "code",
   "execution_count": 29,
   "id": "abe8fc94-3cd2-4cd6-b9f5-091363fc9b97",
   "metadata": {},
   "outputs": [
    {
     "name": "stdout",
     "output_type": "stream",
     "text": [
      "```\n",
      "Company | Foundation Year\n",
      "------- | --------\n",
      "Johnson & Johnson | 1886\n",
      "Pfizer | 1849\n",
      "Roche | 1896\n",
      "Novartis | 1996\n",
      "AbbVie | 2013\n",
      "```\n"
     ]
    }
   ],
   "source": [
    "print(result)"
   ]
  },
  {
   "cell_type": "markdown",
   "id": "622357d1-6d2a-4757-a1da-0da5313a06ff",
   "metadata": {},
   "source": [
    "## Set up the judge"
   ]
  },
  {
   "cell_type": "code",
   "execution_count": 35,
   "id": "96a68d0a-cdee-4679-8120-b687d6a51dbf",
   "metadata": {},
   "outputs": [],
   "source": [
    "templateJudge= ChatPromptTemplate([('system',\"\"\"You are a strict judge. Evaluate inputs based on the given criteria and provide only the required response.\n",
    "Your task is to verify if a given table matches the exact format and structure of a provided example table.\n",
    "Here's an example of the format that the table should have:\n",
    "---\n",
    "Company | Foundation Year\n",
    "Microsoft | 1975\n",
    "Apple | 1976\n",
    "Google | 1998\n",
    "Amazon | 1994\n",
    "Meta | 2004\n",
    "---\"\"\"),\n",
    "                                   ('human',\"\"\" \n",
    "Table to Check:\n",
    "{table_to_check}\n",
    "\n",
    "Instructions:\n",
    "- The table to check should match the structure, headers, and format of the Example Table exactly.\n",
    "- The column names must be \"Company\" and \"Foundation Year\".\n",
    "- The values in each row should have the company names and their corresponding foundation years.\n",
    "- If the given table matches the example table in all these aspects, write \"Yes\".\n",
    "- Write \"No\" if there are any differences in structure, headers, or if any company/year is missing or incorrect.\n",
    "\n",
    "Only respond with \"Yes\" or \"No\".                                   \n",
    "\"\"\")])\n",
    "parserJudge= StrOutputParser()\n",
    "\n",
    "chainJudge = templateJudge | model | parserJudge"
   ]
  },
  {
   "cell_type": "code",
   "execution_count": 36,
   "id": "1898cfe0-8aae-4ba3-b7d8-4ef026dd7bd5",
   "metadata": {},
   "outputs": [],
   "source": [
    "resultJudge= chainJudge.invoke({ 'table_to_check':result})"
   ]
  },
  {
   "cell_type": "code",
   "execution_count": 37,
   "id": "a048a368-d487-4265-a098-b15f569e8918",
   "metadata": {},
   "outputs": [
    {
     "name": "stdout",
     "output_type": "stream",
     "text": [
      "Yes\n"
     ]
    }
   ],
   "source": [
    "print(resultJudge)"
   ]
  },
  {
   "cell_type": "markdown",
   "id": "dd88efbd-b7d4-4fef-ab50-8da70c2f2856",
   "metadata": {},
   "source": [
    "### Use a badly formatted table."
   ]
  },
  {
   "cell_type": "code",
   "execution_count": 38,
   "id": "691ecb0e-6f43-451b-be11-34a21ef2fb9a",
   "metadata": {},
   "outputs": [],
   "source": [
    "badly_formatted_table = \"\"\"\n",
    "Company | Foundation Year\n",
    "\n",
    "Microsoft | 1975\n",
    "\n",
    "Apple | 1976\n",
    "Google | 1998\n",
    "Amazon | 1994\n",
    "\n",
    "Meta | 2004\n",
    "\"\"\""
   ]
  },
  {
   "cell_type": "code",
   "execution_count": 39,
   "id": "1cf2fcad-6a7f-4917-80ea-f0bcb2699168",
   "metadata": {},
   "outputs": [
    {
     "name": "stdout",
     "output_type": "stream",
     "text": [
      "No\n"
     ]
    }
   ],
   "source": [
    "resultJudge= chainJudge.invoke({ 'table_to_check':badly_formatted_table})\n",
    "print(resultJudge)"
   ]
  },
  {
   "cell_type": "markdown",
   "id": "9f17f683-5058-473d-a647-e4b928501bec",
   "metadata": {},
   "source": [
    "## Judging the Company Type"
   ]
  },
  {
   "cell_type": "code",
   "execution_count": 43,
   "id": "5f442fa1-df35-450d-b2dd-580aa16e4f33",
   "metadata": {},
   "outputs": [],
   "source": [
    "templateJudge= ChatPromptTemplate([('system',\"\"\"You are a strict judge. Evaluate inputs based on the given criteria and provide only the required response.\"\"\"),\n",
    "                                   ('human',\"\"\"Your task is to verify if a given table contains only companies from the pharmaceutical industry.\n",
    "Here's an example of the format that the table should have:\n",
    "---\n",
    "Company | Foundation Year\n",
    "Microsoft | 1975\n",
    "Apple | 1976\n",
    "Google | 1998\n",
    "Amazon | 1994\n",
    "Meta | 2004\n",
    "---       \n",
    "\n",
    "Here's the table to check:\n",
    "{table_to_check}\n",
    "\n",
    "Instructions:\n",
    "- The table to check should match the structure, headers, and format of the Example Table exactly.\n",
    "- The column names must be \"Company\" and \"Foundation Year\".\n",
    "- Evaluate whether each company in the table is part of the pharmaceutical sector.\n",
    "- If all companies in the table are from the pharmaceutical industry, write \"Yes\".\n",
    "- Write \"No\" if any company in the table is not from the pharmaceutical industry.\n",
    "\n",
    "Only respond with \"Yes\" or \"No\", and nothing else.                                   \n",
    "\"\"\")])\n",
    "parserJudge= StrOutputParser()\n",
    "\n",
    "chainJudge = templateJudge | model | parserJudge"
   ]
  },
  {
   "cell_type": "code",
   "execution_count": 44,
   "id": "007b9311-7be5-41c0-9437-e369cb3d4bcf",
   "metadata": {},
   "outputs": [
    {
     "name": "stdout",
     "output_type": "stream",
     "text": [
      "Yes\n"
     ]
    }
   ],
   "source": [
    "resultJudge= chainJudge.invoke({ 'table_to_check':result})\n",
    "print(resultJudge)"
   ]
  },
  {
   "cell_type": "code",
   "execution_count": 45,
   "id": "4b2ddf6b-a318-4354-bcd8-3339f1ed71a6",
   "metadata": {},
   "outputs": [
    {
     "name": "stdout",
     "output_type": "stream",
     "text": [
      "No\n"
     ]
    }
   ],
   "source": [
    "resultJudge= chainJudge.invoke({ 'table_to_check':badly_formatted_table})\n",
    "print(resultJudge)"
   ]
  }
 ],
 "metadata": {
  "kernelspec": {
   "display_name": "Python 3 (ipykernel)",
   "language": "python",
   "name": "python3"
  },
  "language_info": {
   "codemirror_mode": {
    "name": "ipython",
    "version": 3
   },
   "file_extension": ".py",
   "mimetype": "text/x-python",
   "name": "python",
   "nbconvert_exporter": "python",
   "pygments_lexer": "ipython3",
   "version": "3.10.12"
  }
 },
 "nbformat": 4,
 "nbformat_minor": 5
}
