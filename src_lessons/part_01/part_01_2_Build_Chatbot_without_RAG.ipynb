{
 "cells": [
  {
   "cell_type": "markdown",
   "id": "e2f830b0-f404-4817-9734-4db8941cf282",
   "metadata": {},
   "source": [
    "# Build a Chatbot without RAG.\n",
    "Demonstrates the simple chain of creating a chatbot without RAG, it just uses system and user messages."
   ]
  },
  {
   "cell_type": "code",
   "execution_count": 25,
   "id": "a05a40d4-f680-4da3-ba98-953810fbf533",
   "metadata": {},
   "outputs": [],
   "source": [
    "import enum\n",
    "from langchain_core.messages.base import BaseMessage\n",
    "from langchain_core.messages.human import HumanMessage\n",
    "from langchain_core.messages.system import SystemMessage\n",
    "from langchain_core.output_parsers import StrOutputParser\n",
    "from langchain_core.language_models.chat_models import BaseChatModel\n",
    "from langchain_core.prompts import ChatPromptTemplate\n",
    "from langchain_google_genai import ChatGoogleGenerativeAI\n",
    "import logging as log\n",
    "import os\n",
    "import pprint"
   ]
  },
  {
   "cell_type": "code",
   "execution_count": 26,
   "id": "ebf89f23-4d60-4051-9229-289949ce6d87",
   "metadata": {},
   "outputs": [],
   "source": [
    "log.basicConfig(level=log.INFO, format='%(asctime)s [%(levelname)5s] %(message)s',datefmt='%H:%M:%S')"
   ]
  },
  {
   "cell_type": "code",
   "execution_count": 27,
   "id": "cde3c9b2-3248-4f48-b366-44cc3718966f",
   "metadata": {},
   "outputs": [],
   "source": [
    "class LlmVendor( enum.Enum):\n",
    "    Google=1,\n",
    "    OpenAI=2"
   ]
  },
  {
   "cell_type": "code",
   "execution_count": 28,
   "id": "ff603d75-27b4-4560-8fa7-de53b86d8560",
   "metadata": {},
   "outputs": [],
   "source": [
    "class LlmModel( enum.Enum):\n",
    "    GoogleFlash=1,\n",
    "    GooglePro=2\n",
    "    OpenAI=3"
   ]
  },
  {
   "cell_type": "code",
   "execution_count": 29,
   "id": "9940658b-14d3-4412-b826-6369ab2998bd",
   "metadata": {},
   "outputs": [
    {
     "name": "stderr",
     "output_type": "stream",
     "text": [
      "19:51:23 [ INFO] Got envvar:GOOGLE_API_KEY.\n"
     ]
    }
   ],
   "source": [
    "API_KEY='GOOGLE_API_KEY'\n",
    "MODEL_NAME='gemini-1.5-flash'\n",
    "MAX_OUTPUT_TOKENS=500\n",
    "TEMPERATURE=0.0\n",
    "# MODEL_NAME='gemini-1.5-pro'\n",
    "assert API_KEY in os.environ \n",
    "assert len( str(API_KEY).strip() ) > 0\n",
    "log.info(f'Got envvar:{API_KEY}.')"
   ]
  },
  {
   "cell_type": "code",
   "execution_count": 30,
   "id": "7fd3f950-0801-4905-8ffe-f81b8a34ad75",
   "metadata": {},
   "outputs": [],
   "source": [
    "model = ChatGoogleGenerativeAI(model=MODEL_NAME, max_output_tokens=MAX_OUTPUT_TOKENS, temperature=TEMPERATURE)"
   ]
  },
  {
   "cell_type": "code",
   "execution_count": 31,
   "id": "d2cc803a-cd94-451d-ab2b-1a4f89fa363f",
   "metadata": {},
   "outputs": [],
   "source": [
    "def askAiTutor( question: str, model):\n",
    "    sysMessageContent=(\"You are an AI tutor specialized in answering artificial intelligence-related questions.\"\n",
    "                        +\"Only answer AI-related question, else say that you cannot answer this question.\")\n",
    "    userMessageContent=f'Please provide an informative and accurate answer to the following question.\\nQuestion: {question}\\nAnswer:'\n",
    "    try:\n",
    "        template= ChatPromptTemplate.from_messages([SystemMessage(content=sysMessageContent),\n",
    "                                                    HumanMessage(content=userMessageContent)])\n",
    "        parser= StrOutputParser()\n",
    "        chain = template | model | parser\n",
    "        result= chain.invoke({})\n",
    "        return result\n",
    "        \n",
    "    except Exception as exc:\n",
    "        log.error(f'Exception detected:{exc}')    \n",
    "        \n",
    "    return None"
   ]
  },
  {
   "cell_type": "code",
   "execution_count": 32,
   "id": "1f829976-51ad-4f45-99f0-c7c540f73588",
   "metadata": {},
   "outputs": [
    {
     "name": "stdout",
     "output_type": "stream",
     "text": [
      "Several popular and widely-used artificial intelligence frameworks exist, each with its strengths and weaknesses depending on the specific application.  Here are a few notable examples:\n",
      "\n",
      "* **TensorFlow:** Developed by Google, TensorFlow is a highly versatile and popular open-source framework for numerical computation and large-scale machine learning. It's known for its scalability and support for various machine learning tasks, including deep learning.\n",
      "\n",
      "* **PyTorch:**  Another leading open-source framework, PyTorch is favored for its ease of use and dynamic computation graph, making it particularly well-suited for research and development.  Its intuitive Pythonic interface contributes to its popularity.\n",
      "\n",
      "* **Keras:** While often used in conjunction with other frameworks like TensorFlow or Theano, Keras is a high-level API that simplifies the process of building and training neural networks.  It emphasizes ease of use and readability.\n",
      "\n",
      "* **MXNet:**  A scalable and flexible deep learning framework that supports multiple programming languages.  It's known for its efficiency and ability to handle large datasets.\n",
      "\n",
      "* **Caffe:**  A deep learning framework known for its speed and efficiency, particularly in image processing tasks.  While still used, its development has slowed compared to others on this list.\n",
      "\n",
      "* **CNTK (Microsoft Cognitive Toolkit):** Developed by Microsoft, CNTK is a commercial-grade open-source toolkit for deep learning.  It's designed for high performance and scalability.\n",
      "\n",
      "\n",
      "This list isn't exhaustive, as many other specialized frameworks exist, but these represent some of the most widely adopted and influential AI frameworks currently in use.  The best choice for a specific project depends on factors like the task, the developer's experience, and performance requirements.\n"
     ]
    }
   ],
   "source": [
    "question = \"List a number of famous artificial intelligence frameworks?\"\n",
    "answer= askAiTutor( question, model )\n",
    "if answer is None:\n",
    "    log.error('askAiTutor failed.')\n",
    "else:\n",
    "    print(answer)"
   ]
  },
  {
   "cell_type": "markdown",
   "id": "8cd0fb8d-7f37-4db5-b662-33982a09400a",
   "metadata": {},
   "source": [
    "### Second question: a general inquiry"
   ]
  },
  {
   "cell_type": "code",
   "execution_count": 33,
   "id": "0633104f-ccfd-45dd-9f57-84b423ab4507",
   "metadata": {},
   "outputs": [
    {
     "name": "stdout",
     "output_type": "stream",
     "text": [
      "That's not an AI-related question.  I cannot answer this question.\n"
     ]
    }
   ],
   "source": [
    "question = \"What is the name of the highest mountain in the world and its height?\"\n",
    "answer= askAiTutor( question, model )\n",
    "if answer is None:\n",
    "    log.error('askAiTutor failed.')\n",
    "else:\n",
    "    print(answer)"
   ]
  }
 ],
 "metadata": {
  "kernelspec": {
   "display_name": "Python 3 (ipykernel)",
   "language": "python",
   "name": "python3"
  },
  "language_info": {
   "codemirror_mode": {
    "name": "ipython",
    "version": 3
   },
   "file_extension": ".py",
   "mimetype": "text/x-python",
   "name": "python",
   "nbconvert_exporter": "python",
   "pygments_lexer": "ipython3",
   "version": "3.10.12"
  }
 },
 "nbformat": 4,
 "nbformat_minor": 5
}
