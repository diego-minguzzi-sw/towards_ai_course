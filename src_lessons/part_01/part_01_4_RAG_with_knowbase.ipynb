{
 "cells": [
  {
   "cell_type": "markdown",
   "id": "a5cf402f-dda2-4991-a437-b4a49c1c27a0",
   "metadata": {},
   "source": [
    "# Build your knowledge base for RAG\n",
    "RAG example using a small textual dataset."
   ]
  },
  {
   "cell_type": "code",
   "execution_count": 1,
   "id": "3ec294c8-b0be-475f-bcc9-9cb9e3528eb3",
   "metadata": {},
   "outputs": [
    {
     "name": "stderr",
     "output_type": "stream",
     "text": [
      "14:42:23 [ INFO] HTTP Request: GET https://api.gradio.app/gradio-messaging/en \"HTTP/1.1 200 OK\"\n"
     ]
    }
   ],
   "source": [
    "from langchain_core.messages.base import BaseMessage\n",
    "from langchain_core.messages.human import HumanMessage\n",
    "from langchain_core.messages.system import SystemMessage\n",
    "from langchain_core.output_parsers import StrOutputParser\n",
    "from langchain_core.language_models.chat_models import BaseChatModel\n",
    "from langchain_core.prompts import ChatPromptTemplate\n",
    "from langchain_google_genai import ChatGoogleGenerativeAI\n",
    "from openai import OpenAI\n",
    "from sklearn.metrics.pairwise import cosine_similarity\n",
    "from tqdm.notebook import tqdm\n",
    "\n",
    "import csv\n",
    "import enum\n",
    "import gradio as gr\n",
    "import logging as log\n",
    "import numpy as np\n",
    "import os\n",
    "import pandas as pd\n",
    "import pickle\n",
    "import pprint"
   ]
  },
  {
   "cell_type": "code",
   "execution_count": 2,
   "id": "fd73cfe6-56e6-4baa-b915-65161722ce32",
   "metadata": {},
   "outputs": [],
   "source": [
    "log.basicConfig(level=log.INFO, format='%(asctime)s [%(levelname)5s] %(message)s',datefmt='%H:%M:%S')"
   ]
  },
  {
   "cell_type": "code",
   "execution_count": 3,
   "id": "d6aa9a9e-26f8-4bd7-b1ff-be8e9c702c02",
   "metadata": {},
   "outputs": [],
   "source": [
    "df= None # Dataframe containing the dataset\n",
    "embeddings= None\n",
    "loadSavedData= True"
   ]
  },
  {
   "cell_type": "markdown",
   "id": "d1728c69-f331-4adf-9dc1-820fd62c3eda",
   "metadata": {},
   "source": [
    "### LLM Model Factory"
   ]
  },
  {
   "cell_type": "code",
   "execution_count": 4,
   "id": "3811b2ab-5411-4668-a93c-f1abe9eba1f5",
   "metadata": {},
   "outputs": [
    {
     "name": "stdout",
     "output_type": "stream",
     "text": [
      "(model:LlmModel.GeminiFlash, vendor:LlmVendor.Google, envVar:GOOGLE_API_KEY)\n"
     ]
    }
   ],
   "source": [
    "class LlmVendor( enum.Enum):\n",
    "    Google=1,\n",
    "    OpenAI=2\n",
    "\n",
    "class LlmModel( enum.Enum):\n",
    "    GeminiFlash=1,\n",
    "    GeminiPro=2\n",
    "    OpenAI=3\n",
    "    \n",
    "class LlmModelFactory():\n",
    "    def __init__(self, model: LlmModel, vendor: LlmVendor, envVar:str):\n",
    "        self._model = model\n",
    "        self._vendor= vendor\n",
    "        self._envVar= envVar\n",
    "\n",
    "        if not envVar in os.environ:\n",
    "            raise ValueError(f'{envVar} not found in the environment.')\n",
    "\n",
    "    @staticmethod\n",
    "    def createGoogleGeminiFlash(): \n",
    "        return LlmModelFactory(model= LlmModel.GeminiFlash,  \n",
    "                               vendor= LlmVendor.Google,\n",
    "                               envVar='GOOGLE_API_KEY')\n",
    "    @staticmethod\n",
    "    def modelName( llmModel: LlmModel):\n",
    "        match llmModel:\n",
    "            case LlmModel.GeminiFlash:\n",
    "                return \"gemini-1.5-flash\"\n",
    "            case LlmModel.GeminiPro:     \n",
    "                return \"gemini-1.5-pro\"\n",
    "        \n",
    "    def __str__(self):\n",
    "        return f'(model:{self._model}, vendor:{self._vendor}, envVar:{self._envVar})'\n",
    "\n",
    "    def createChatModel(self, \n",
    "                       maxOutputTokens=250,\n",
    "                       temperature=0.0):\n",
    "        match self._vendor:\n",
    "            case LlmVendor.Google:\n",
    "                return ChatGoogleGenerativeAI(model= LlmModelFactory.modelName(self._model), \n",
    "                                              max_output_tokens=maxOutputTokens, \n",
    "                                              temperature=temperature)\n",
    "                \n",
    "\n",
    "llmModelFactory= LlmModelFactory.createGoogleGeminiFlash()\n",
    "print(llmModelFactory)"
   ]
  },
  {
   "cell_type": "markdown",
   "id": "d839a73f-4bd9-48e7-8b0e-12de7c0578f1",
   "metadata": {},
   "source": [
    "## Load the dataset"
   ]
  },
  {
   "cell_type": "code",
   "execution_count": 5,
   "id": "322ea435-6296-42d9-a6f5-63af8b07a6f3",
   "metadata": {},
   "outputs": [
    {
     "name": "stdout",
     "output_type": "stream",
     "text": [
      "TaiDatasetRoot: /home/minguzzi/repo/towards_ai_course/dataset\n",
      "datasetFile:     /home/minguzzi/repo/towards_ai_course/dataset/rag_ai_tutor/mini-llama-articles.txt\n",
      "Embeddings file: /home/minguzzi/repo/towards_ai_course/dataset/rag_ai_tutor/rag_ai_tutor_embeddings.pickle\n"
     ]
    }
   ],
   "source": [
    "TaiDatasetRootEnvVar='TAI_DATASET_ROOT'\n",
    "assert TaiDatasetRootEnvVar in os.environ\n",
    "TaiDatasetRoot= os.environ[TaiDatasetRootEnvVar]\n",
    "print(f'TaiDatasetRoot: {TaiDatasetRoot}')\n",
    "\n",
    "datasetFile= os.path.join(TaiDatasetRoot, 'rag_ai_tutor', 'mini-llama-articles.txt')\n",
    "processedDatasetFile= os.path.join(TaiDatasetRoot, 'rag_ai_tutor', 'RAG_AI_TUTOR.csv')\n",
    "ragAiTutorEmbeddingsFile= os.path.join(TaiDatasetRoot, 'rag_ai_tutor', 'rag_ai_tutor_embeddings.pickle')\n",
    "\n",
    "print(f'datasetFile:     {datasetFile}')\n",
    "print(f'Embeddings file: {ragAiTutorEmbeddingsFile}')\n",
    "assert os.path.exists( datasetFile)"
   ]
  },
  {
   "cell_type": "code",
   "execution_count": 6,
   "id": "530b3496-96b3-4da8-ae9a-5758cb1bdecf",
   "metadata": {},
   "outputs": [
    {
     "data": {
      "text/html": [
       "<div>\n",
       "<style scoped>\n",
       "    .dataframe tbody tr th:only-of-type {\n",
       "        vertical-align: middle;\n",
       "    }\n",
       "\n",
       "    .dataframe tbody tr th {\n",
       "        vertical-align: top;\n",
       "    }\n",
       "\n",
       "    .dataframe thead th {\n",
       "        text-align: right;\n",
       "    }\n",
       "</style>\n",
       "<table border=\"1\" class=\"dataframe\">\n",
       "  <thead>\n",
       "    <tr style=\"text-align: right;\">\n",
       "      <th></th>\n",
       "      <th>title</th>\n",
       "      <th>content</th>\n",
       "      <th>url</th>\n",
       "      <th>source</th>\n",
       "    </tr>\n",
       "  </thead>\n",
       "  <tbody>\n",
       "    <tr>\n",
       "      <th>0</th>\n",
       "      <td>Beyond GPT-4: What's New?</td>\n",
       "      <td>LLM Variants and Meta's Open Source Before she...</td>\n",
       "      <td>https://pub.towardsai.net/beyond-gpt-4-whats-n...</td>\n",
       "      <td>towards_ai</td>\n",
       "    </tr>\n",
       "    <tr>\n",
       "      <th>1</th>\n",
       "      <td>Building a Q&amp;A Bot over Private Documents with...</td>\n",
       "      <td>Private data to be used The example provided c...</td>\n",
       "      <td>https://pub.towardsai.net/building-a-q-a-bot-o...</td>\n",
       "      <td>towards_ai</td>\n",
       "    </tr>\n",
       "    <tr>\n",
       "      <th>2</th>\n",
       "      <td>Enhancing E-commerce Product Search Using LLMs</td>\n",
       "      <td>Problem Statement Despite the pioneers like Am...</td>\n",
       "      <td>https://pub.towardsai.net/enhancing-e-commerce...</td>\n",
       "      <td>towards_ai</td>\n",
       "    </tr>\n",
       "    <tr>\n",
       "      <th>3</th>\n",
       "      <td>Exploring Large Language Models -Part 3</td>\n",
       "      <td>Fine Tuning on Custom Domain Data All the popu...</td>\n",
       "      <td>https://pub.towardsai.net/exploring-large-lang...</td>\n",
       "      <td>towards_ai</td>\n",
       "    </tr>\n",
       "    <tr>\n",
       "      <th>4</th>\n",
       "      <td>Fine-Tuning a Llama-2 7B Model for Python Code...</td>\n",
       "      <td>New Llama-2 model In mid-July, Meta released i...</td>\n",
       "      <td>https://pub.towardsai.net/fine-tuning-a-llama-...</td>\n",
       "      <td>towards_ai</td>\n",
       "    </tr>\n",
       "    <tr>\n",
       "      <th>5</th>\n",
       "      <td>Foundation Models: Scaling Large Language Models</td>\n",
       "      <td>New Moore's Laws Achieving Zettascale Computin...</td>\n",
       "      <td>https://pub.towardsai.net/foundation-models-37...</td>\n",
       "      <td>towards_ai</td>\n",
       "    </tr>\n",
       "    <tr>\n",
       "      <th>6</th>\n",
       "      <td>GPTQ Quantization on a Llama 2 7B Fine-Tuned M...</td>\n",
       "      <td>GPTQ: Post-training quantization on generative...</td>\n",
       "      <td>https://pub.towardsai.net/gptq-quantization-on...</td>\n",
       "      <td>towards_ai</td>\n",
       "    </tr>\n",
       "    <tr>\n",
       "      <th>7</th>\n",
       "      <td>LLaMA by Meta leaked by an anonymous forum: Qu...</td>\n",
       "      <td>LLaMA: Meta's new AI tool According to the off...</td>\n",
       "      <td>https://pub.towardsai.net/llama-by-meta-leaked...</td>\n",
       "      <td>towards_ai</td>\n",
       "    </tr>\n",
       "    <tr>\n",
       "      <th>8</th>\n",
       "      <td>LLaMA-GPT4All: Simplified Local ChatGPT</td>\n",
       "      <td>Introduce GPT4All GPT4All is a large language ...</td>\n",
       "      <td>https://pub.towardsai.net/llama-gpt4all-simpli...</td>\n",
       "      <td>towards_ai</td>\n",
       "    </tr>\n",
       "    <tr>\n",
       "      <th>9</th>\n",
       "      <td>Inside Code Llama: Meta AI's Entrance in the C...</td>\n",
       "      <td>Inside Code Llama The release of Code Llama do...</td>\n",
       "      <td>https://pub.towardsai.net/inside-code-llama-me...</td>\n",
       "      <td>towards_ai</td>\n",
       "    </tr>\n",
       "    <tr>\n",
       "      <th>10</th>\n",
       "      <td>Meta's Llama 2: Revolutionizing Open Source La...</td>\n",
       "      <td>I. Llama 2: Revolutionizing Commercial Use Unl...</td>\n",
       "      <td>https://pub.towardsai.net/metas-llama-2-revolu...</td>\n",
       "      <td>towards_ai</td>\n",
       "    </tr>\n",
       "    <tr>\n",
       "      <th>11</th>\n",
       "      <td>The Generative AI Revolution: Exploring the Cu...</td>\n",
       "      <td>What is Generative AI? Generative AI is a subf...</td>\n",
       "      <td>https://pub.towardsai.net/the-generative-ai-re...</td>\n",
       "      <td>towards_ai</td>\n",
       "    </tr>\n",
       "    <tr>\n",
       "      <th>12</th>\n",
       "      <td>Building Intuition on the Concepts behind LLMs...</td>\n",
       "      <td>Neural Networks LLMs like ChatGPT are trained ...</td>\n",
       "      <td>https://pub.towardsai.net/building-intuition-o...</td>\n",
       "      <td>towards_ai</td>\n",
       "    </tr>\n",
       "    <tr>\n",
       "      <th>13</th>\n",
       "      <td>WizardCoder: Why It's the Best Coding Model Ou...</td>\n",
       "      <td>What Sets WizardCoder Apart One might wonder w...</td>\n",
       "      <td>https://pub.towardsai.net/wizardcoder-why-its-...</td>\n",
       "      <td>towards_ai</td>\n",
       "    </tr>\n",
       "  </tbody>\n",
       "</table>\n",
       "</div>"
      ],
      "text/plain": [
       "                                                title  \\\n",
       "0                           Beyond GPT-4: What's New?   \n",
       "1   Building a Q&A Bot over Private Documents with...   \n",
       "2      Enhancing E-commerce Product Search Using LLMs   \n",
       "3             Exploring Large Language Models -Part 3   \n",
       "4   Fine-Tuning a Llama-2 7B Model for Python Code...   \n",
       "5    Foundation Models: Scaling Large Language Models   \n",
       "6   GPTQ Quantization on a Llama 2 7B Fine-Tuned M...   \n",
       "7   LLaMA by Meta leaked by an anonymous forum: Qu...   \n",
       "8             LLaMA-GPT4All: Simplified Local ChatGPT   \n",
       "9   Inside Code Llama: Meta AI's Entrance in the C...   \n",
       "10  Meta's Llama 2: Revolutionizing Open Source La...   \n",
       "11  The Generative AI Revolution: Exploring the Cu...   \n",
       "12  Building Intuition on the Concepts behind LLMs...   \n",
       "13  WizardCoder: Why It's the Best Coding Model Ou...   \n",
       "\n",
       "                                              content  \\\n",
       "0   LLM Variants and Meta's Open Source Before she...   \n",
       "1   Private data to be used The example provided c...   \n",
       "2   Problem Statement Despite the pioneers like Am...   \n",
       "3   Fine Tuning on Custom Domain Data All the popu...   \n",
       "4   New Llama-2 model In mid-July, Meta released i...   \n",
       "5   New Moore's Laws Achieving Zettascale Computin...   \n",
       "6   GPTQ: Post-training quantization on generative...   \n",
       "7   LLaMA: Meta's new AI tool According to the off...   \n",
       "8   Introduce GPT4All GPT4All is a large language ...   \n",
       "9   Inside Code Llama The release of Code Llama do...   \n",
       "10  I. Llama 2: Revolutionizing Commercial Use Unl...   \n",
       "11  What is Generative AI? Generative AI is a subf...   \n",
       "12  Neural Networks LLMs like ChatGPT are trained ...   \n",
       "13  What Sets WizardCoder Apart One might wonder w...   \n",
       "\n",
       "                                                  url      source  \n",
       "0   https://pub.towardsai.net/beyond-gpt-4-whats-n...  towards_ai  \n",
       "1   https://pub.towardsai.net/building-a-q-a-bot-o...  towards_ai  \n",
       "2   https://pub.towardsai.net/enhancing-e-commerce...  towards_ai  \n",
       "3   https://pub.towardsai.net/exploring-large-lang...  towards_ai  \n",
       "4   https://pub.towardsai.net/fine-tuning-a-llama-...  towards_ai  \n",
       "5   https://pub.towardsai.net/foundation-models-37...  towards_ai  \n",
       "6   https://pub.towardsai.net/gptq-quantization-on...  towards_ai  \n",
       "7   https://pub.towardsai.net/llama-by-meta-leaked...  towards_ai  \n",
       "8   https://pub.towardsai.net/llama-gpt4all-simpli...  towards_ai  \n",
       "9   https://pub.towardsai.net/inside-code-llama-me...  towards_ai  \n",
       "10  https://pub.towardsai.net/metas-llama-2-revolu...  towards_ai  \n",
       "11  https://pub.towardsai.net/the-generative-ai-re...  towards_ai  \n",
       "12  https://pub.towardsai.net/building-intuition-o...  towards_ai  \n",
       "13  https://pub.towardsai.net/wizardcoder-why-its-...  towards_ai  "
      ]
     },
     "execution_count": 6,
     "metadata": {},
     "output_type": "execute_result"
    }
   ],
   "source": [
    "miniDataset = pd.read_csv(datasetFile)\n",
    "miniDataset"
   ]
  },
  {
   "cell_type": "markdown",
   "id": "2198b466-7ec6-491b-a063-78f690d22d1a",
   "metadata": {},
   "source": [
    "### Utility Functions"
   ]
  },
  {
   "cell_type": "code",
   "execution_count": 7,
   "id": "98d8a60c-2cee-4c48-8d78-3779e7725018",
   "metadata": {},
   "outputs": [
    {
     "name": "stdout",
     "output_type": "stream",
     "text": [
      "['01234', '56789', 'ABC']\n"
     ]
    }
   ],
   "source": [
    "# --------------------------------------------------------------------------------------------------\n",
    "# Split the input text into chunks of specified size.\n",
    "def simpleSplitIntoChunks(text, chunkSize=1024):\n",
    "  chunks = []\n",
    "  lastChunk=0\n",
    "  for i in range(0, len(text), chunkSize):\n",
    "    lastChunk= i+chunkSize  \n",
    "    chunks.append(text[i:i+chunkSize])\n",
    "\n",
    "  if lastChunk < len(text)-1:\n",
    "      chunks.append(text[lastChunk:])\n",
    "  return chunks\n",
    "    \n",
    "print(simpleSplitIntoChunks('0123456789ABC', chunkSize=5))\n",
    "assert 3 == len( simpleSplitIntoChunks('0123456789ABC', chunkSize=5))"
   ]
  },
  {
   "cell_type": "markdown",
   "id": "e168ca1a-e7be-4442-947b-1e3a8b5ac27f",
   "metadata": {},
   "source": [
    "### Split the dataset into chunks."
   ]
  },
  {
   "cell_type": "code",
   "execution_count": 8,
   "id": "5a1a2455-a7cc-46a4-a8ba-d10791aa78b1",
   "metadata": {},
   "outputs": [
    {
     "name": "stdout",
     "output_type": "stream",
     "text": [
      "datasetFile: /home/minguzzi/repo/towards_ai_course/dataset/rag_ai_tutor/mini-llama-articles.txt\n",
      "Number of articles: 13\n",
      "Number of chunks:   174\n",
      "First chunk:\n",
      " LLM Variants and Meta's Open Source Before shedding light on four major trends, I'd share the latest Meta's Llama 2 and Code Llama. Meta's Llama 2 represents a sophisticated evolution in LLMs. This suite spans models pretrained and fine-tuned across a parameter spectrum of 7 billion to 70 billion. A specialized derivative, Llama 2-Chat, has been engineered explicitly for dialogue-centric applications. Benchmarking revealed Llama 2's superior performance over most extant open-source chat models. Human-centric evaluations, focusing on safety and utility metrics, positioned Llama 2-Chat as a potential contender against proprietary, closed-source counterparts. The development trajectory of Llama 2 emphasized rigorous fine-tuning methodologies. Meta's transparent delineation of these processes aims to catalyze community-driven advancements in LLMs, underscoring a commitment to collaborative and responsible AI development. Code Llama is built on top of Llama 2 and is available in three models: Code Llama, the found\n",
      "First chunk size: 1024\n"
     ]
    }
   ],
   "source": [
    "datasetFile= os.path.join(TaiDatasetRoot, 'rag_ai_tutor', 'mini-llama-articles.txt')\n",
    "print(f'datasetFile: {datasetFile}')\n",
    "assert os.path.exists( datasetFile)\n",
    "\n",
    "chunks = []\n",
    "\n",
    "# Load the file as a CSV\n",
    "with open( datasetFile, mode=\"r\", encoding=\"utf-8\") as file:\n",
    "  csvReader = csv.reader(file)\n",
    "\n",
    "  for index, row in enumerate( csvReader):\n",
    "    if index == 0: \n",
    "        continue; # Skip header row\n",
    "    chunks.extend( simpleSplitIntoChunks(row[1]))\n",
    "\n",
    "print(\"Number of articles:\", index-1)\n",
    "print(\"Number of chunks:  \", len(chunks))\n",
    "\n",
    "assert len( chunks ) > 0\n",
    "\n",
    "print(\"First chunk:\\n\", chunks[0])\n",
    "print(f\"First chunk size: {len(chunks[0])}\")"
   ]
  },
  {
   "cell_type": "code",
   "execution_count": 9,
   "id": "0f2ab13d-a812-4253-9826-6886b42eeefa",
   "metadata": {},
   "outputs": [
    {
     "name": "stdout",
     "output_type": "stream",
     "text": [
      "Index(['chunk'], dtype='object')\n",
      "Saved the processed dataset to: /home/minguzzi/repo/towards_ai_course/dataset/rag_ai_tutor/RAG_AI_TUTOR.csv\n"
     ]
    }
   ],
   "source": [
    "df = pd.DataFrame(chunks, columns=['chunk'])\n",
    "print(df.keys())\n",
    "\n",
    "df.to_csv(processedDatasetFile, index=False)\n",
    "print(f'Saved the processed dataset to: {processedDatasetFile}')"
   ]
  },
  {
   "cell_type": "markdown",
   "id": "6c929b4e-61f3-4265-9eef-47f581948f41",
   "metadata": {},
   "source": [
    "## Generating the embeddings"
   ]
  },
  {
   "cell_type": "code",
   "execution_count": 10,
   "id": "6f40543c-c8da-4d28-8256-f76c0ebcf867",
   "metadata": {},
   "outputs": [],
   "source": [
    "OPENAI_EMBEDDING_MODEL= 'text-embedding-3-small'"
   ]
  },
  {
   "cell_type": "code",
   "execution_count": 11,
   "id": "6aeeb000-fc29-4d5a-b411-1f94ca099669",
   "metadata": {},
   "outputs": [],
   "source": [
    "def getEmbedding(text, client):\n",
    "  totalTokens= -1\n",
    "  try:\n",
    "    text = text.replace(\"\\n\", \" \")\n",
    "    res = client.embeddings.create(input=[text], model=OPENAI_EMBEDDING_MODEL)\n",
    "    promptTokens= res.usage.total_tokens       \n",
    "    totalTokens= res.usage.total_tokens \n",
    "    log.debug(f'getEmbedding: promptTokens:{promptTokens}, totalTokens:{totalTokens}')      \n",
    "    return (res.data[0].embedding, totalTokens)\n",
    "\n",
    "  except:\n",
    "    return (None, totalTokens)"
   ]
  },
  {
   "cell_type": "code",
   "execution_count": 12,
   "id": "3fcc8f3d-f471-4cd2-a423-5f814791e866",
   "metadata": {},
   "outputs": [],
   "source": [
    "embeddingsClient= OpenAI()"
   ]
  },
  {
   "cell_type": "code",
   "execution_count": 13,
   "id": "8364df30-4a20-4763-bfeb-dfbe0ff634ce",
   "metadata": {},
   "outputs": [
    {
     "name": "stderr",
     "output_type": "stream",
     "text": [
      "14:43:12 [ INFO] HTTP Request: POST https://api.openai.com/v1/embeddings \"HTTP/1.1 200 OK\"\n"
     ]
    },
    {
     "name": "stdout",
     "output_type": "stream",
     "text": [
      "Embeddings size: 1536\n"
     ]
    }
   ],
   "source": [
    "(embeddings, totalTokens) = getEmbedding( chunks[0], embeddingsClient)\n",
    "print(f'Embeddings size: {len(embeddings)}')"
   ]
  },
  {
   "cell_type": "code",
   "execution_count": 17,
   "id": "57bfda30-2ce8-4b5a-98c6-a108a8efaaaa",
   "metadata": {},
   "outputs": [
    {
     "name": "stderr",
     "output_type": "stream",
     "text": [
      "14:45:58 [ INFO] Loading back the embeddings.\n"
     ]
    },
    {
     "name": "stdout",
     "output_type": "stream",
     "text": [
      "Loaded the embeddings: 174\n"
     ]
    }
   ],
   "source": [
    "# Generate embeddings\n",
    "embeddings = []\n",
    "totalTokens= 0\n",
    "\n",
    "if loadSavedData:\n",
    "    log.info('Loading back the embeddings.')\n",
    "    with open(ragAiTutorEmbeddingsFile,'rb') as pkFile:\n",
    "      embeddings= pickle.load(pkFile)      \n",
    "    print(f'Loaded the embeddings: {len(embeddings)}')\n",
    "else:\n",
    "    print(\"Generating embeddings...\")\n",
    "    for index, row in tqdm(df.iterrows()):\n",
    "      (chunkEmbeddings, chunkTokens) = getEmbedding(row['chunk'], embeddingsClient)\n",
    "      if chunkEmbeddings is None:\n",
    "          log.error('get Embedding failed.')\n",
    "          assert False\n",
    "      \n",
    "      embeddings.append( chunkEmbeddings)\n",
    "      totalTokens += chunkTokens\n",
    "      print(f'Total tokens:{totalTokens}')          "
   ]
  },
  {
   "cell_type": "markdown",
   "id": "92fead3c-4b31-4637-9537-1d8a11179b2e",
   "metadata": {},
   "source": [
    "### Saves the Embeddings in a Pickle file"
   ]
  },
  {
   "cell_type": "code",
   "execution_count": 18,
   "id": "5acf0a00-8f53-45a1-8496-b78ce46a55e7",
   "metadata": {},
   "outputs": [],
   "source": [
    "if not loadSavedData:\n",
    "    with open(ragAiTutorEmbeddingsFile,'wb') as pkFile:\n",
    "        pickle.dump(embeddings, pkFile)    "
   ]
  },
  {
   "cell_type": "code",
   "execution_count": 19,
   "id": "2b126e0e-23ce-4d7b-a792-07dfc7fa7e92",
   "metadata": {},
   "outputs": [
    {
     "name": "stdout",
     "output_type": "stream",
     "text": [
      "Embedding size:1536\n",
      "First embedding norm:1.0000000549974424\n"
     ]
    }
   ],
   "source": [
    "if len(embeddings)>0:\n",
    "    print(f'Embedding size:{len(embeddings[0])}')\n",
    "    normEmbedding = np.linalg.norm( embeddings[0])\n",
    "    print(f'First embedding norm:{normEmbedding}')\n",
    "\n",
    "# Checks that all embeddings are already normalized.    \n",
    "for embedding in embeddings:\n",
    "    assert abs( np.linalg.norm( embedding) - 1.0 ) < 0.0000001\n",
    "# They are.    "
   ]
  },
  {
   "cell_type": "code",
   "execution_count": 20,
   "id": "fb9e5607-2633-4a8c-9dc3-e376a689dd1e",
   "metadata": {},
   "outputs": [],
   "source": [
    "# Add the \"embedding\" column to the dataframe\n",
    "embeddingsColumn = pd.Series(embeddings)\n",
    "df.insert(loc=1, column='embedding', value=embeddingsColumn)"
   ]
  },
  {
   "cell_type": "markdown",
   "id": "984f27a3-0b77-4875-9289-a6c114cce1cc",
   "metadata": {},
   "source": [
    "<b>Saves the dataset processed so far.</b>"
   ]
  },
  {
   "cell_type": "code",
   "execution_count": 21,
   "id": "4092d78b-490a-4386-bea6-727e9c409821",
   "metadata": {},
   "outputs": [
    {
     "name": "stdout",
     "output_type": "stream",
     "text": [
      "Saved the processed dataset to: /home/minguzzi/repo/towards_ai_course/dataset/rag_ai_tutor/RAG_AI_TUTOR.csv\n"
     ]
    }
   ],
   "source": [
    "df.to_csv(processedDatasetFile, index=False)\n",
    "print(f'Saved the processed dataset to: {processedDatasetFile}')"
   ]
  },
  {
   "cell_type": "markdown",
   "id": "2979f01a-fa39-491c-ae40-7ca33ea82ed8",
   "metadata": {},
   "source": [
    "## Cosine similarity\n",
    "### Test"
   ]
  },
  {
   "cell_type": "code",
   "execution_count": 22,
   "id": "57e7e7c4-b34d-42ce-9d9c-0cb2f6c795c3",
   "metadata": {},
   "outputs": [
    {
     "name": "stderr",
     "output_type": "stream",
     "text": [
      "14:47:04 [ INFO] HTTP Request: POST https://api.openai.com/v1/embeddings \"HTTP/1.1 200 OK\"\n",
      "14:47:05 [ INFO] HTTP Request: POST https://api.openai.com/v1/embeddings \"HTTP/1.1 200 OK\"\n",
      "14:47:05 [ INFO] HTTP Request: POST https://api.openai.com/v1/embeddings \"HTTP/1.1 200 OK\"\n"
     ]
    }
   ],
   "source": [
    "question = \"How many parameters does the LLaMA2 model have?\"\n",
    "\n",
    "(embQuestion, totalTokens) = getEmbedding(question, embeddingsClient)\n",
    "assert not embQuestion is None\n",
    "\n",
    "(embBadSource, totalTokens) = getEmbedding(\"The sky is blue.\", embeddingsClient)\n",
    "assert not embBadSource is None\n",
    "\n",
    "(embGoodSource, totalTokens) = getEmbedding(\"LLaMA2 model has a total of 2B parameters.\", embeddingsClient)\n",
    "assert not embGoodSource is None"
   ]
  },
  {
   "cell_type": "code",
   "execution_count": 27,
   "id": "b925c123-465f-48b1-a051-10bd1db5837d",
   "metadata": {},
   "outputs": [
    {
     "name": "stdout",
     "output_type": "stream",
     "text": [
      "Bad source similarity:  0.022523741117329046\n",
      "Good source similarity: 0.8481372724529019\n",
      "Similarity with itself: 1.0\n"
     ]
    }
   ],
   "source": [
    "print( f'Bad source similarity:  { cosine_similarity([embQuestion], [embBadSource])[0][0]}' )\n",
    "print( f'Good source similarity: { cosine_similarity([embQuestion], [embGoodSource])[0][0]}' )\n",
    "print( f'Similarity with itself: { cosine_similarity([embGoodSource], [embGoodSource])[0][0]}' )"
   ]
  },
  {
   "cell_type": "markdown",
   "id": "8d64c2b2-ad04-438a-b9fd-ea9dedb0f3cb",
   "metadata": {},
   "source": [
    "### Loading back previously processed data"
   ]
  },
  {
   "cell_type": "code",
   "execution_count": 23,
   "id": "556f7e7c-2cda-495a-bf50-aab62dbf13a0",
   "metadata": {},
   "outputs": [
    {
     "data": {
      "text/html": [
       "<div>\n",
       "<style scoped>\n",
       "    .dataframe tbody tr th:only-of-type {\n",
       "        vertical-align: middle;\n",
       "    }\n",
       "\n",
       "    .dataframe tbody tr th {\n",
       "        vertical-align: top;\n",
       "    }\n",
       "\n",
       "    .dataframe thead th {\n",
       "        text-align: right;\n",
       "    }\n",
       "</style>\n",
       "<table border=\"1\" class=\"dataframe\">\n",
       "  <thead>\n",
       "    <tr style=\"text-align: right;\">\n",
       "      <th></th>\n",
       "      <th>chunk</th>\n",
       "      <th>embedding</th>\n",
       "    </tr>\n",
       "  </thead>\n",
       "  <tbody>\n",
       "    <tr>\n",
       "      <th>0</th>\n",
       "      <td>LLM Variants and Meta's Open Source Before she...</td>\n",
       "      <td>[0.02095666341483593, -0.010611234232783318, 0...</td>\n",
       "    </tr>\n",
       "    <tr>\n",
       "      <th>1</th>\n",
       "      <td>ational code model;Codel Llama - Python specia...</td>\n",
       "      <td>[0.00975396391004324, 0.0061698732897639275, 0...</td>\n",
       "    </tr>\n",
       "    <tr>\n",
       "      <th>2</th>\n",
       "      <td>erm \"multimodal\" refers to their ability to pr...</td>\n",
       "      <td>[0.001414407161064446, 0.024413447827100754, 0...</td>\n",
       "    </tr>\n",
       "    <tr>\n",
       "      <th>3</th>\n",
       "      <td>es it matter? LLM connections, like the LlamaI...</td>\n",
       "      <td>[0.0024489574134349823, 0.014700595289468765, ...</td>\n",
       "    </tr>\n",
       "    <tr>\n",
       "      <th>4</th>\n",
       "      <td>understand data in the AI-driven future.  Fro...</td>\n",
       "      <td>[-0.03746529296040535, 0.018381565809249878, 0...</td>\n",
       "    </tr>\n",
       "    <tr>\n",
       "      <th>...</th>\n",
       "      <td>...</td>\n",
       "      <td>...</td>\n",
       "    </tr>\n",
       "    <tr>\n",
       "      <th>169</th>\n",
       "      <td>versity. In-breadth Evolving solves this probl...</td>\n",
       "      <td>[0.03136121854186058, 0.003093137638643384, 0....</td>\n",
       "    </tr>\n",
       "    <tr>\n",
       "      <th>170</th>\n",
       "      <td>ns are done, the initial instruction dataset (...</td>\n",
       "      <td>[0.02660106122493744, -0.016632692888379097, 0...</td>\n",
       "    </tr>\n",
       "    <tr>\n",
       "      <th>171</th>\n",
       "      <td>er, the Prompt should be as follows:  Best Use...</td>\n",
       "      <td>[-0.0027382965199649334, 0.01911219209432602, ...</td>\n",
       "    </tr>\n",
       "    <tr>\n",
       "      <th>172</th>\n",
       "      <td>sis, and visualization.Machine Learning Pipeli...</td>\n",
       "      <td>[0.012401485815644264, -0.0017868350259959698,...</td>\n",
       "    </tr>\n",
       "    <tr>\n",
       "      <th>173</th>\n",
       "      <td>3 pass@1 on the HumanEval Benchmarks, which is...</td>\n",
       "      <td>[0.026729406788945198, -0.0016644202405586839,...</td>\n",
       "    </tr>\n",
       "  </tbody>\n",
       "</table>\n",
       "<p>174 rows × 2 columns</p>\n",
       "</div>"
      ],
      "text/plain": [
       "                                                 chunk  \\\n",
       "0    LLM Variants and Meta's Open Source Before she...   \n",
       "1    ational code model;Codel Llama - Python specia...   \n",
       "2    erm \"multimodal\" refers to their ability to pr...   \n",
       "3    es it matter? LLM connections, like the LlamaI...   \n",
       "4     understand data in the AI-driven future.  Fro...   \n",
       "..                                                 ...   \n",
       "169  versity. In-breadth Evolving solves this probl...   \n",
       "170  ns are done, the initial instruction dataset (...   \n",
       "171  er, the Prompt should be as follows:  Best Use...   \n",
       "172  sis, and visualization.Machine Learning Pipeli...   \n",
       "173  3 pass@1 on the HumanEval Benchmarks, which is...   \n",
       "\n",
       "                                             embedding  \n",
       "0    [0.02095666341483593, -0.010611234232783318, 0...  \n",
       "1    [0.00975396391004324, 0.0061698732897639275, 0...  \n",
       "2    [0.001414407161064446, 0.024413447827100754, 0...  \n",
       "3    [0.0024489574134349823, 0.014700595289468765, ...  \n",
       "4    [-0.03746529296040535, 0.018381565809249878, 0...  \n",
       "..                                                 ...  \n",
       "169  [0.03136121854186058, 0.003093137638643384, 0....  \n",
       "170  [0.02660106122493744, -0.016632692888379097, 0...  \n",
       "171  [-0.0027382965199649334, 0.01911219209432602, ...  \n",
       "172  [0.012401485815644264, -0.0017868350259959698,...  \n",
       "173  [0.026729406788945198, -0.0016644202405586839,...  \n",
       "\n",
       "[174 rows x 2 columns]"
      ]
     },
     "execution_count": 23,
     "metadata": {},
     "output_type": "execute_result"
    }
   ],
   "source": [
    "assert os.path.exists(processedDatasetFile)\n",
    "if df is None:\n",
    "    log.info('Loading back the dataframe.')\n",
    "    df= pd.read_csv( processedDatasetFile,index_col=False)\n",
    "df   "
   ]
  },
  {
   "cell_type": "markdown",
   "id": "c69b2e7d-a7bf-4765-bbd9-ce03921a7e40",
   "metadata": {},
   "source": [
    "### Similarity in action"
   ]
  },
  {
   "cell_type": "code",
   "execution_count": 24,
   "id": "7ae33fb3-3347-49e7-b56c-8fe9d00b378e",
   "metadata": {},
   "outputs": [
    {
     "name": "stderr",
     "output_type": "stream",
     "text": [
      "14:47:31 [ INFO] HTTP Request: POST https://api.openai.com/v1/embeddings \"HTTP/1.1 200 OK\"\n"
     ]
    }
   ],
   "source": [
    "question = \"How many parameters LLaMA2 model has?\"\n",
    "(embQuestion, totalTokens) = getEmbedding(question, embeddingsClient)\n",
    "assert not embQuestion is None"
   ]
  },
  {
   "cell_type": "code",
   "execution_count": 25,
   "id": "2c41a11b-5250-4bfd-a0c7-a824dc66fb1b",
   "metadata": {},
   "outputs": [
    {
     "data": {
      "text/plain": [
       "174"
      ]
     },
     "execution_count": 25,
     "metadata": {},
     "output_type": "execute_result"
    }
   ],
   "source": [
    "cosineSimilarities= cosine_similarity([embQuestion],embeddings)[0]\n",
    "len(cosineSimilarities)"
   ]
  },
  {
   "cell_type": "code",
   "execution_count": 26,
   "id": "54c5f070-e91c-4293-a1c9-307043bf546a",
   "metadata": {},
   "outputs": [
    {
     "data": {
      "text/plain": [
       "array([114])"
      ]
     },
     "execution_count": 26,
     "metadata": {},
     "output_type": "execute_result"
    }
   ],
   "source": [
    "bestIndex = np.argsort(cosineSimilarities)[::-1][:1]\n",
    "bestIndex"
   ]
  },
  {
   "cell_type": "code",
   "execution_count": 27,
   "id": "63ddb0cf-16ea-4b23-998b-89ea9a372f29",
   "metadata": {},
   "outputs": [
    {
     "name": "stdout",
     "output_type": "stream",
     "text": [
      "[114  75  89]\n"
     ]
    }
   ],
   "source": [
    "NumberOfChunksToRetrieve= 3\n",
    "indices = np.argsort(cosineSimilarities)[::-1][:NumberOfChunksToRetrieve]\n",
    "print(indices)"
   ]
  },
  {
   "cell_type": "code",
   "execution_count": 28,
   "id": "18c51bb8-c1e5-4b94-aa62-74e151cb2934",
   "metadata": {},
   "outputs": [
    {
     "name": "stdout",
     "output_type": "stream",
     "text": [
      "> Chunk 1\n",
      "by Meta that ventures into both the AI and academic spaces. The model aims to help researchers, scientists, and engineers advance their work in exploring AI applications. It will be released under a non-commercial license to prevent misuse, and access will be granted to academic researchers, individuals, and organizations affiliated with the government, civil society, academia, and industry research facilities on a selective case-by-case basis. The sharing of codes and weights allows other researchers to test new approaches in LLMs. The LLaMA models have a range of 7 billion to 65 billion parameters. LLaMA-65B can be compared to DeepMind's Chinchilla and Google's PaLM. Publicly available unlabeled data was used to train these models, and training smaller foundational models require less computing power and resources. LLaMA 65B and 33B have been trained on 1.4 trillion tokens in 20 different languages, and according to the Facebook Artificial Intelligence Research (FAIR) team, the model's performance varies ac\n",
      "----\n",
      "> Chunk 2\n",
      "LLaMA: Meta's new AI tool According to the official release, LLaMA is a foundational language model developed to assist 'researchers and academics' in their work (as opposed to the average web user) to understand and study these NLP models. Leveraging AI in such a way could give researchers an edge in terms of time spent. You may not know this, but this would be Meta's third LLM after Blender Bot 3 and Galactica. However, the two LLMs were shut down soon, and Meta stopped their further development, as it produced erroneous results. Before moving further, it is important to emphasize that LLaMA is NOT a chatbot like ChatGPT. As I mentioned before, it is a 'research tool' for researchers. We can expect the initial versions of LLaMA to be a bit more technical and indirect to use as opposed to the case with ChatGPT, which was very direct, interactive, and a lot easy to use. \"Smaller, more performant models such as LLaMA enable ... research community who don't have access to large amounts of infrastructure to stud\n",
      "----\n",
      "> Chunk 3\n",
      "I. Llama 2: Revolutionizing Commercial Use Unlike its predecessor Llama 1, which was limited to research use, Llama 2 represents a major advancement as an open-source commercial model. Businesses can now integrate Llama 2 into products to create AI-powered applications. Availability on Azure and AWS facilitates fine-tuning and adoption. However, restrictions apply to prevent exploitation. Companies with over 700 million active daily users cannot use Llama 2. Additionally, its output cannot be used to improve other language models.  II. Llama 2 Model Flavors Llama 2 is available in four different model sizes: 7 billion, 13 billion, 34 billion, and 70 billion parameters. While 7B, 13B, and 70B have already been released, the 34B model is still awaited. The pretrained variant, trained on a whopping 2 trillion tokens, boasts a context window of 4096 tokens, twice the size of its predecessor Llama 1. Meta also released a Llama 2 fine-tuned model for chat applications that was trained on over 1 million human annota\n",
      "----\n"
     ]
    }
   ],
   "source": [
    "for idx, item in enumerate(df.chunk[indices]):\n",
    "  print(f\"> Chunk {idx+1}\")\n",
    "  print(item)\n",
    "  print(\"----\")"
   ]
  },
  {
   "cell_type": "markdown",
   "id": "385c1b04-fb6b-452f-9748-655648ff3364",
   "metadata": {},
   "source": [
    "## Augmenting the prompt with the retrieve chunks"
   ]
  },
  {
   "cell_type": "code",
   "execution_count": 42,
   "id": "e6bc4b75-def4-43f2-b87a-8cd5296faf69",
   "metadata": {},
   "outputs": [
    {
     "name": "stdout",
     "output_type": "stream",
     "text": [
      "[114  75  89]\n"
     ]
    },
    {
     "data": {
      "text/plain": [
       "'by Meta that ventures into both the AI and academic spaces. The model aims to help researchers, scientists, and engineers advance their work in exploring AI applications. It will be released under a non-commercial license to prevent misuse, and access will be granted to academic researchers, individuals, and organizations affiliated with the government, civil society, academia, and industry research facilities on a selective case-by-case basis. The sharing of codes and weights allows other researchers to test new approaches in LLMs. The LLaMA models have a range of 7 billion to 65 billion parameters. LLaMA-65B can be compared to DeepMind\\'s Chinchilla and Google\\'s PaLM. Publicly available unlabeled data was used to train these models, and training smaller foundational models require less computing power and resources. LLaMA 65B and 33B have been trained on 1.4 trillion tokens in 20 different languages, and according to the Facebook Artificial Intelligence Research (FAIR) team, the model\\'s performance varies acLLaMA: Meta\\'s new AI tool According to the official release, LLaMA is a foundational language model developed to assist \\'researchers and academics\\' in their work (as opposed to the average web user) to understand and study these NLP models. Leveraging AI in such a way could give researchers an edge in terms of time spent. You may not know this, but this would be Meta\\'s third LLM after Blender Bot 3 and Galactica. However, the two LLMs were shut down soon, and Meta stopped their further development, as it produced erroneous results. Before moving further, it is important to emphasize that LLaMA is NOT a chatbot like ChatGPT. As I mentioned before, it is a \\'research tool\\' for researchers. We can expect the initial versions of LLaMA to be a bit more technical and indirect to use as opposed to the case with ChatGPT, which was very direct, interactive, and a lot easy to use. \"Smaller, more performant models such as LLaMA enable ... research community who don\\'t have access to large amounts of infrastructure to studI. Llama 2: Revolutionizing Commercial Use Unlike its predecessor Llama 1, which was limited to research use, Llama 2 represents a major advancement as an open-source commercial model. Businesses can now integrate Llama 2 into products to create AI-powered applications. Availability on Azure and AWS facilitates fine-tuning and adoption. However, restrictions apply to prevent exploitation. Companies with over 700 million active daily users cannot use Llama 2. Additionally, its output cannot be used to improve other language models.  II. Llama 2 Model Flavors Llama 2 is available in four different model sizes: 7 billion, 13 billion, 34 billion, and 70 billion parameters. While 7B, 13B, and 70B have already been released, the 34B model is still awaited. The pretrained variant, trained on a whopping 2 trillion tokens, boasts a context window of 4096 tokens, twice the size of its predecessor Llama 1. Meta also released a Llama 2 fine-tuned model for chat applications that was trained on over 1 million human annota'"
      ]
     },
     "execution_count": 42,
     "metadata": {},
     "output_type": "execute_result"
    }
   ],
   "source": [
    "systemPrompt= ('You are an assistant and expert in answering questions from a chunks of content. '\n",
    "               +'Only answer AI-related question, else say that you cannot answer this question.')\n",
    "userPrompt=  ('Read the following informations that might contain the context you require to answer the question. '\n",
    "              +'You can use the informations starting from the <START_OF_CONTEXT> tag and end with the <END_OF_CONTEXT> tag. '\n",
    "              +'Here is the content:\\n\\n<START_OF_CONTEXT>\\n{context}\\n<END_OF_CONTEXT>\\n\\n'\n",
    "              +'Please provide an informative and accurate answer to the following question based on the avaiable context. '\n",
    "              +'Be concise and take your time. \\nQuestion: {question}\\nAnswer:')\n",
    "NumberOfChunksToRetrieve= 3\n",
    "indices = np.argsort(cosineSimilarities)[::-1][:NumberOfChunksToRetrieve]\n",
    "print(indices)\n",
    "\n",
    "context= ''.join( df.chunk[indices])\n",
    "context"
   ]
  },
  {
   "cell_type": "code",
   "execution_count": 44,
   "id": "c4cdcf61-3135-4ed0-b65d-1efee03d4eac",
   "metadata": {},
   "outputs": [
    {
     "name": "stdout",
     "output_type": "stream",
     "text": [
      "LLaMA 2 comes in four sizes: 7 billion, 13 billion, 34 billion, and 70 billion parameters.\n"
     ]
    }
   ],
   "source": [
    "question = 'How many parameters does the LLaMA 2 model have?'\n",
    "\n",
    "try:\n",
    "    systemPrompt= ('You are an assistant and expert in answering questions from a chunks of content. '\n",
    "                   'Only answer AI-related question, else say that you cannot answer this question.')\n",
    "    \n",
    "    userPrompt = ('Read the following informations that might contain the context you require to answer the question. '\n",
    "                  'You can use the informations starting from the <START_OF_CONTEXT> tag and end with the <END_OF_CONTEXT> tag. '\n",
    "                  'Here is the content:\\n\\n<START_OF_CONTEXT>\\n{context}\\n<END_OF_CONTEXT>\\n\\n'\n",
    "                  'Please provide an informative and accurate answer to the following question based on the avaiable context. '\n",
    "                  'Be concise and take your time. \\nQuestion: {question}\\nAnswer:')\n",
    "    \n",
    "    messages= [('system',systemPrompt),\n",
    "               ('human',userPrompt)]\n",
    "\n",
    "    llmModelFactory= LlmModelFactory.createGoogleGeminiFlash()\n",
    "    model = llmModelFactory.createChatModel()\n",
    "\n",
    "    chain = ChatPromptTemplate(messages) | model | StrOutputParser()\n",
    "    result= chain.invoke({'context': context, 'question': question})\n",
    "    print(result)\n",
    "except Exception as exc:\n",
    "    log.error(f'Exception:{exc}')"
   ]
  },
  {
   "cell_type": "markdown",
   "id": "2627d7f4-86f8-4871-bccc-2279f89d54c4",
   "metadata": {},
   "source": [
    "### How augmenting the prompt addresses Knowledge Cutoff and Hallucinations\n",
    "#### Zero-shot question without additional data"
   ]
  },
  {
   "cell_type": "code",
   "execution_count": 34,
   "id": "4d651820-be40-4078-b34d-f3198a4c06b5",
   "metadata": {},
   "outputs": [
    {
     "name": "stdout",
     "output_type": "stream",
     "text": [
      "(model:LlmModel.GeminiFlash, vendor:LlmVendor.Google, envVar:GOOGLE_API_KEY)\n",
      "LLaMA 3.1's parameter count isn't publicly released by Meta.  No official number exists.\n"
     ]
    }
   ],
   "source": [
    "question = 'How many parameters LLaMA 3.1 model has?'\n",
    "try:\n",
    "    systemPrompt='You are an assistant and expert in answering questions.'\n",
    "    userPrompt= 'Be concise and take your time to answer the following question. Be succint in the answer.\\nQuestion: {question}\\nAnswer:\"'\n",
    "    \n",
    "    messages= [('system',systemPrompt),\n",
    "               ('human',userPrompt)]\n",
    "\n",
    "    llmModelFactory= LlmModelFactory.createGoogleGeminiFlash()\n",
    "    print(llmModelFactory)\n",
    "    model = llmModelFactory.createChatModel()\n",
    "\n",
    "    chain = ChatPromptTemplate(messages) | model | StrOutputParser()\n",
    "    result= chain.invoke({\"question\": question})\n",
    "    print(result)\n",
    "except Exception as exc:\n",
    "    log.error(f'Exception:{exc}')"
   ]
  },
  {
   "cell_type": "markdown",
   "id": "a28f3216-08d3-4dfb-b4a6-137482323463",
   "metadata": {},
   "source": [
    "#### Question with augmented context"
   ]
  },
  {
   "cell_type": "code",
   "execution_count": 36,
   "id": "3b3ed821-21f3-41e9-b924-14ca39f816c3",
   "metadata": {},
   "outputs": [],
   "source": [
    "exampleChunk = \"\"\"\n",
    "Introducing Llama 3.1 Llama 3.1 405B is the first openly available model that rivals the top AI models when it comes to state-of-the-art capabilities in general knowledge, steerability, math, tool use, and multilingual translation. With the release of the 405B model, we’re poised to supercharge innovation—with unprecedented opportunities for growth and exploration. We believe the latest generation of Llama will ignite new applications and modeling paradigms, including synthetic data generation to enable the improvement and training of smaller models, as well as model distillation—a capability that has never been achieved at this scale in open source.\n",
    "As part of this latest release, we’re introducing upgraded versions of the 8B and 70B models. These are multilingual and have a significantly longer context length of 128K, state-of-the-art tool use, and overall stronger reasoning capabilities. This enables our latest models to support advanced use cases, such as long-form text summarization, multilingual conversational agents, and coding assistants. We’ve also made changes to our license, allowing developers to use the outputs from Llama models—including the 405B—to improve other models. True to our commitment to open source, starting today, we’re making these models available to the community for download on llama.meta.com and Hugging Face and available for immediate development on our broad ecosystem of partner platforms. Model evaluations\n",
    "For this release, we evaluated performance on over 150 benchmark datasets that span a wide range of languages. In addition, we performed extensive human evaluations that compare Llama 3.1 with competing models in real-world scenarios. Our experimental evaluation suggests that our flagship model is competitive with leading foundation models across a range of tasks, including GPT-4, GPT-4o, and Claude 3.5 Sonnet. Additionally, our smaller models are competitive with closed and open models that have a similar number of parameters.\n",
    "Model Architecture As our largest model yet, training Llama 3.1 405B on over 15 trillion tokens was a major challenge. To enable training runs at this scale and achieve the results we have in a reasonable amount of time, we significantly optimized our full training stack and pushed our model training to over 16 thousand H100 GPUs, making the 405B the first Llama model trained at this scale.\n",
    "To address this, we made design choices that focus on keeping the model development process scalable and straightforward. We opted for a standard decoder-only transformer model architecture with minor adaptations rather than a mixture-of-experts model to maximize training stability.\n",
    "We adopted an iterative post-training procedure, where each round uses supervised fine-tuning and direct preference optimization. This enabled us to create the highest quality synthetic data for each round and improve each capability’s performance.\n",
    "Compared to previous versions of Llama, we improved both the quantity and quality of the data we use for pre- and post-training. These improvements include the development of more careful pre-processing and curation pipelines for pre-training data, the development of more rigorous quality assurance, and filtering approaches for post-training data.\n",
    "\"\"\""
   ]
  },
  {
   "cell_type": "code",
   "execution_count": 41,
   "id": "ea66c9b8-b600-454c-8cf9-98b6e914660e",
   "metadata": {},
   "outputs": [
    {
     "name": "stdout",
     "output_type": "stream",
     "text": [
      "The provided text mentions a 405B parameter LLaMA 3.1 model, as well as upgraded 8B and 70B parameter models.\n"
     ]
    }
   ],
   "source": [
    "temperature=0.7\n",
    "question = 'How many parameters LLaMA 3.1 model has?'\n",
    "try:\n",
    "    systemPrompt=('You are an assistant and expert in answering questions from a chunks of content. '\n",
    "                  'Only answer AI-related question, else say that you cannot answer this question.')\n",
    "    \n",
    "    userPrompt= ('Read the following informations that might contain the context you require to answer the question. '\n",
    "                 'You can use the informations starting from the <START_OF_CONTEXT> tag and end with the <END_OF_CONTEXT> tag. '\n",
    "                 'Here is the content:\\n\\n<START_OF_CONTEXT>\\n{content}\\n<END_OF_CONTEXT>\\n\\n'\n",
    "                 'Please provide an informative and accurate answer to the following question based on the avaiable context. '\n",
    "                 'Be concise and take your time. \\nQuestion: {question}\\nAnswer:')\n",
    "    \n",
    "    messages= [('system',systemPrompt),\n",
    "               ('human',userPrompt)]\n",
    "\n",
    "    llmModelFactory= LlmModelFactory.createGoogleGeminiFlash()\n",
    "    model = llmModelFactory.createChatModel(temperature=temperature)\n",
    "\n",
    "    chain = ChatPromptTemplate(messages) | model | StrOutputParser()\n",
    "    result= chain.invoke({'question': question, 'content': exampleChunk})\n",
    "    print(result)\n",
    "except Exception as exc:\n",
    "    log.error(f'Exception:{exc}')"
   ]
  }
 ],
 "metadata": {
  "kernelspec": {
   "display_name": "Python 3 (ipykernel)",
   "language": "python",
   "name": "python3"
  },
  "language_info": {
   "codemirror_mode": {
    "name": "ipython",
    "version": 3
   },
   "file_extension": ".py",
   "mimetype": "text/x-python",
   "name": "python",
   "nbconvert_exporter": "python",
   "pygments_lexer": "ipython3",
   "version": "3.10.12"
  }
 },
 "nbformat": 4,
 "nbformat_minor": 5
}
