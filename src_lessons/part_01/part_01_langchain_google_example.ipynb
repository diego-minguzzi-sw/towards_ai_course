{
 "cells": [
  {
   "cell_type": "markdown",
   "id": "63e5334e-8713-44f3-9fc7-5e0a445f334e",
   "metadata": {},
   "source": [
    "# Example of how to use"
   ]
  },
  {
   "cell_type": "code",
   "execution_count": 23,
   "id": "c52ce8ab-a576-4e11-8976-02523a7c0ee1",
   "metadata": {},
   "outputs": [],
   "source": [
    "import enum\n",
    "from langchain_core.messages.base import BaseMessage\n",
    "from langchain_core.output_parsers import StrOutputParser\n",
    "from langchain_core.prompts import ChatPromptTemplate\n",
    "from langchain_google_genai import ChatGoogleGenerativeAI\n",
    "import logging as log\n",
    "import os\n",
    "import pprint"
   ]
  },
  {
   "cell_type": "code",
   "execution_count": 14,
   "id": "1dd098d0-b182-4eb6-92f0-444c49b4a7fb",
   "metadata": {},
   "outputs": [],
   "source": [
    "log.basicConfig(level=log.INFO, format='%(asctime)s [%(levelname)5s] %(message)s',datefmt='%H:%M:%S')"
   ]
  },
  {
   "cell_type": "code",
   "execution_count": 24,
   "id": "a7beafdd-a38e-452d-845f-8ee464af3a4c",
   "metadata": {},
   "outputs": [],
   "source": [
    "class FinishReason(enum.Enum):\n",
    "    Stop=0,\n",
    "    LengthExceeded=1\n",
    "\n",
    "def parseFinishReason( message: BaseMessage):\n",
    "    finishReason= message.response_metadata['finish_reason']\n",
    "    if 'STOP'==finishReason:\n",
    "        return FinishReason.Stop        \n",
    "    elif 'LENGTH'==finishReason:       \n",
    "        return FinishReason.LengthExceeded\n",
    "    raise ValueError(f'Invalid finish reason:{s}')"
   ]
  },
  {
   "cell_type": "code",
   "execution_count": 15,
   "id": "cd9c888b-1e72-4e11-8672-2ebb65f376f8",
   "metadata": {},
   "outputs": [
    {
     "name": "stderr",
     "output_type": "stream",
     "text": [
      "16:14:51 [ INFO] - Got envvar:GOOGLE_API_KEY.\n"
     ]
    }
   ],
   "source": [
    "API_KEY='GOOGLE_API_KEY'\n",
    "MODEL_NAME='gemini-1.5-flash'\n",
    "assert API_KEY in os.environ \n",
    "assert len( str(API_KEY).strip() ) > 0\n",
    "log.info(f'Got envvar:{API_KEY}.')"
   ]
  },
  {
   "cell_type": "code",
   "execution_count": 16,
   "id": "cf987264-fc6f-437e-ab86-98cc436ea884",
   "metadata": {},
   "outputs": [
    {
     "data": {
      "text/plain": [
       "'Ciao, come stai oggi?'"
      ]
     },
     "execution_count": 16,
     "metadata": {},
     "output_type": "execute_result"
    }
   ],
   "source": [
    "model = ChatGoogleGenerativeAI(model=MODEL_NAME, \n",
    "                               max_output_tokens=100,\n",
    "                               temperature=0.0)\n",
    "\n",
    "template= ChatPromptTemplate([('system','Translate the following text into {language}.'),\n",
    "                             ('human','{text}')])\n",
    "parser= StrOutputParser()\n",
    "\n",
    "chain = template | model | parser\n",
    "result= chain.invoke({ 'language':'Italian', 'text':'Hi, how are you doing today?'})\n",
    "result"
   ]
  },
  {
   "cell_type": "code",
   "execution_count": 17,
   "id": "7f827031-037e-4b5e-8f4c-7b00b5358dee",
   "metadata": {},
   "outputs": [
    {
     "name": "stdout",
     "output_type": "stream",
     "text": [
      "'Ciao, come stai oggi?'\n"
     ]
    }
   ],
   "source": [
    "pprint.pprint(result)"
   ]
  },
  {
   "cell_type": "code",
   "execution_count": 26,
   "id": "adb96b8b-2b83-4a3a-8a97-9c93e5f44bd7",
   "metadata": {},
   "outputs": [
    {
     "name": "stdout",
     "output_type": "stream",
     "text": [
      "==================================\u001b[1m Ai Message \u001b[0m==================================\n",
      "\n",
      "Ciao, come stai oggi?\n",
      "{'prompt_feedback': {'block_reason': 0, 'safety_ratings': []}, 'finish_reason': 'STOP', 'safety_ratings': []}\n",
      "Finish reason: Stop\n"
     ]
    }
   ],
   "source": [
    "template= ChatPromptTemplate([('system','Translate the following text into {language}.'),\n",
    "                             ('human','{text}')])\n",
    "parser= StrOutputParser()\n",
    "\n",
    "chainToResult = template | model\n",
    "result= chainToResult.invoke({ 'language':'Italian', 'text':'Hi, how are you doing today?'})\n",
    "result.pretty_print()\n",
    "\n",
    "finishReason= parseFinishReason(result)\n",
    "print(result.response_metadata)\n",
    "print(f'Finish reason: {finishReason.name}')"
   ]
  },
  {
   "cell_type": "code",
   "execution_count": 20,
   "id": "d2229441-aa0e-44cb-9e10-c94c9de42e6d",
   "metadata": {},
   "outputs": [
    {
     "data": {
      "text/plain": [
       "'Ciao, come stai oggi?'"
      ]
     },
     "execution_count": 20,
     "metadata": {},
     "output_type": "execute_result"
    }
   ],
   "source": [
    "strResult= parser.invoke(result)\n",
    "strResult"
   ]
  }
 ],
 "metadata": {
  "kernelspec": {
   "display_name": "Python 3 (ipykernel)",
   "language": "python",
   "name": "python3"
  },
  "language_info": {
   "codemirror_mode": {
    "name": "ipython",
    "version": 3
   },
   "file_extension": ".py",
   "mimetype": "text/x-python",
   "name": "python",
   "nbconvert_exporter": "python",
   "pygments_lexer": "ipython3",
   "version": "3.10.12"
  }
 },
 "nbformat": 4,
 "nbformat_minor": 5
}
