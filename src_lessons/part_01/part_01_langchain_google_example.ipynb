{
 "cells": [
  {
   "cell_type": "code",
   "execution_count": 2,
   "id": "c52ce8ab-a576-4e11-8976-02523a7c0ee1",
   "metadata": {},
   "outputs": [],
   "source": [
    "import enum\n",
    "import logging as log\n",
    "import os\n",
    "import pprint"
   ]
  },
  {
   "cell_type": "code",
   "execution_count": 3,
   "id": "1dd098d0-b182-4eb6-92f0-444c49b4a7fb",
   "metadata": {},
   "outputs": [],
   "source": [
    "log.basicConfig(level=log.INFO, format='%(asctime)s [%(levelname)5s] - %(message)s',datefmt='%H:%M:%S')"
   ]
  },
  {
   "cell_type": "code",
   "execution_count": null,
   "id": "cd9c888b-1e72-4e11-8672-2ebb65f376f8",
   "metadata": {},
   "outputs": [],
   "source": [
    "from langchain_core.messages import HumanMessage, SystemMessage\n",
    "from langchain_core.output_parsers import StrOutputParser\n",
    "from langchain_core.prompts import ChatPromptTemplate\n",
    "from langchain_google_genai import ChatGoogleGenerativeAI\n",
    "import os\n",
    "\n",
    "API_KEY='GOOGLE_API_KEY'\n",
    "MODEL_NAME='gemini-1.5-pro'\n",
    "assert API_KEY in os.environ \n",
    "\n",
    "model = ChatGoogleGenerativeAI(model=MODEL_NAME)\n",
    "\n",
    "template= ChatPromptTemplate([('system','Translate the following text into {language}.'),\n",
    "                             ('human','{text}')])\n",
    "parser= StrOutputParser()\n",
    "model.invoke(messages)\n",
    "\n",
    "chain = template | model | parser\n",
    "result= chain.invoke({ 'language':'Italian', 'text':'Hi, how are you doing today?'})\n",
    "result"
   ]
  }
 ],
 "metadata": {
  "kernelspec": {
   "display_name": "Python 3 (ipykernel)",
   "language": "python",
   "name": "python3"
  },
  "language_info": {
   "codemirror_mode": {
    "name": "ipython",
    "version": 3
   },
   "file_extension": ".py",
   "mimetype": "text/x-python",
   "name": "python",
   "nbconvert_exporter": "python",
   "pygments_lexer": "ipython3",
   "version": "3.10.12"
  }
 },
 "nbformat": 4,
 "nbformat_minor": 5
}
