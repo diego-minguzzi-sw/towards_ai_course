{
 "cells": [
  {
   "cell_type": "markdown",
   "id": "76382e37-1641-4bc4-8394-a614c1763f32",
   "metadata": {},
   "source": [
    "# Llama Index Tutorial\n",
    "Adapted from <a href=\"https://docs.llamaindex.ai/en/stable\" target=\"_blank\">LlamaIndex documentation</a><br>\n",
    "Workflows are multistep processes to complete a task.<br>\n",
    "LlamaIndex is the framework for context augmented LLM applications.<br>\n",
    "\n",
    "<b>Concepts</b>:<br>\n",
    "<ul>\n",
    "    <li>Data connectors: ingest existing data from their native source and format</li>\n",
    "    <li>Data indexes: intermediate representation to ease consumption from LLM(s)</li>\n",
    "    <li>Engines: provide natural language access to your data</li>\n",
    "    <li>Agents:  LLM-powered knowledge workers augmented by tools</li>\n",
    "    <li>Observability / Evaluation</li>\n",
    "    <li>Workflows: combine all of the above into an event-driven system</li>\n",
    "</ul>"
   ]
  },
  {
   "cell_type": "code",
   "execution_count": 1,
   "id": "9f9b0742-1e8d-4a34-8de1-83bd999461fb",
   "metadata": {},
   "outputs": [
    {
     "name": "stdout",
     "output_type": "stream",
     "text": [
      "LLAMA2 has four different model sizes: 7 billion, 13 billion, 34 billion, and 70 billion parameters.\n"
     ]
    }
   ],
   "source": [
    "from llama_index.core import VectorStoreIndex, SimpleDirectoryReader\n",
    "\n",
    "documents = SimpleDirectoryReader(\"data\").load_data()\n",
    "index = VectorStoreIndex.from_documents(documents)\n",
    "query_engine = index.as_query_engine()\n",
    "response = query_engine.query(\"How many parameters has LLAMA2?\")\n",
    "print(response)"
   ]
  }
 ],
 "metadata": {
  "kernelspec": {
   "display_name": "Python 3 (ipykernel)",
   "language": "python",
   "name": "python3"
  },
  "language_info": {
   "codemirror_mode": {
    "name": "ipython",
    "version": 3
   },
   "file_extension": ".py",
   "mimetype": "text/x-python",
   "name": "python",
   "nbconvert_exporter": "python",
   "pygments_lexer": "ipython3",
   "version": "3.10.12"
  }
 },
 "nbformat": 4,
 "nbformat_minor": 5
}
